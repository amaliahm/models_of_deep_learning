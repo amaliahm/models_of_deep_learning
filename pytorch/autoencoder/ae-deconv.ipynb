{
 "cells": [
  {
   "cell_type": "markdown",
   "metadata": {},
   "source": [
    "# **Convolutional Autoencoder with Deconvolutions**"
   ]
  },
  {
   "cell_type": "markdown",
   "metadata": {},
   "source": [
    "## **Libraries**"
   ]
  },
  {
   "cell_type": "code",
   "execution_count": 11,
   "metadata": {},
   "outputs": [],
   "source": [
    "from torch.utils.data import DataLoader\n",
    "from torchvision import transforms\n",
    "from torchvision import datasets\n",
    "import torch.nn.functional as F\n",
    "import matplotlib.pyplot as plt\n",
    "import numpy as np\n",
    "import torch\n",
    "import time"
   ]
  },
  {
   "cell_type": "code",
   "execution_count": 2,
   "metadata": {},
   "outputs": [],
   "source": [
    "if torch.cuda.is_available():\n",
    "    torch.backends.cudnn.deterministic = True"
   ]
  },
  {
   "cell_type": "code",
   "execution_count": 3,
   "metadata": {},
   "outputs": [],
   "source": [
    "# Device\n",
    "device = torch.device(\"cuda:0\" if torch.cuda.is_available() else \"cpu\")\n",
    "\n",
    "# Hyperparameters\n",
    "random_seed = 456\n",
    "learning_rate = 0.005\n",
    "num_epochs = 10\n",
    "batch_size = 128"
   ]
  },
  {
   "cell_type": "markdown",
   "metadata": {},
   "source": [
    "## **MNIST dataset**"
   ]
  },
  {
   "cell_type": "code",
   "execution_count": 4,
   "metadata": {},
   "outputs": [],
   "source": [
    "train_dataset = datasets.MNIST(root='data', \n",
    "                               train=True, \n",
    "                               transform=transforms.ToTensor(),\n",
    "                               download=True)\n",
    "\n",
    "test_dataset = datasets.MNIST(root='data', \n",
    "                              train=False, \n",
    "                              transform=transforms.ToTensor())"
   ]
  },
  {
   "cell_type": "code",
   "execution_count": 5,
   "metadata": {},
   "outputs": [],
   "source": [
    "train_loader = DataLoader(dataset=train_dataset, \n",
    "                          batch_size=batch_size, \n",
    "                          shuffle=True)\n",
    "\n",
    "test_loader = DataLoader(dataset=test_dataset, \n",
    "                         batch_size=batch_size, \n",
    "                         shuffle=False)"
   ]
  },
  {
   "cell_type": "code",
   "execution_count": 6,
   "metadata": {},
   "outputs": [
    {
     "name": "stdout",
     "output_type": "stream",
     "text": [
      "Image batch dimensions: torch.Size([128, 1, 28, 28])\n",
      "Image label dimensions: torch.Size([128])\n"
     ]
    }
   ],
   "source": [
    "for images, labels in train_loader:  \n",
    "    print('Image batch dimensions:', images.shape)\n",
    "    print('Image label dimensions:', labels.shape)\n",
    "    break"
   ]
  },
  {
   "cell_type": "markdown",
   "metadata": {},
   "source": [
    "## **Model**"
   ]
  },
  {
   "cell_type": "code",
   "execution_count": 7,
   "metadata": {},
   "outputs": [],
   "source": [
    "class ConvolutionalAutoencoder(torch.nn.Module):\n",
    "    def __init__(self):\n",
    "        super(ConvolutionalAutoencoder, self).__init__()\n",
    "        self.conv_1 = torch.nn.Conv2d(in_channels=1,\n",
    "                                      out_channels=4,\n",
    "                                      kernel_size=(3, 3),\n",
    "                                      stride=(1, 1),\n",
    "                                      padding=1) \n",
    "        self.pool_1 = torch.nn.MaxPool2d(kernel_size=(2, 2),\n",
    "                                         stride=(2, 2),\n",
    "                                         padding=0)                                       \n",
    "        self.conv_2 = torch.nn.Conv2d(in_channels=4,\n",
    "                                      out_channels=8,\n",
    "                                      kernel_size=(3, 3),\n",
    "                                      stride=(1, 1),\n",
    "                                      padding=1)                 \n",
    "        self.pool_2 = torch.nn.MaxPool2d(kernel_size=(2, 2),\n",
    "                                         stride=(2, 2),\n",
    "                                         padding=0)\n",
    "        \n",
    "        self.deconv_1 = torch.nn.ConvTranspose2d(in_channels=8,\n",
    "                                                 out_channels=4,\n",
    "                                                 kernel_size=(3, 3),\n",
    "                                                 stride=(2, 2),\n",
    "                                                 padding=0)\n",
    "        self.deconv_2 = torch.nn.ConvTranspose2d(in_channels=4,\n",
    "                                                 out_channels=1,\n",
    "                                                 kernel_size=(3, 3),\n",
    "                                                 stride=(2, 2),\n",
    "                                                 padding=0)\n",
    "    def forward(self, x):\n",
    "        x = self.conv_1(x)\n",
    "        x = F.leaky_relu(x)\n",
    "        x = self.pool_1(x)\n",
    "        x = self.conv_2(x)\n",
    "        x = F.leaky_relu(x)\n",
    "        x = self.pool_2(x)\n",
    "        \n",
    "        x = self.deconv_1(x)\n",
    "        x = F.leaky_relu(x)\n",
    "        x = self.deconv_2(x)\n",
    "        x = F.leaky_relu(x)\n",
    "        logits = x[:, :, 2:30, 2:30]\n",
    "        probas = torch.sigmoid(logits)\n",
    "        return logits, probas"
   ]
  },
  {
   "cell_type": "code",
   "execution_count": 8,
   "metadata": {},
   "outputs": [],
   "source": [
    "torch.manual_seed(random_seed)\n",
    "model = ConvolutionalAutoencoder()\n",
    "model = model.to(device)"
   ]
  },
  {
   "cell_type": "code",
   "execution_count": 9,
   "metadata": {},
   "outputs": [],
   "source": [
    "optimizer = torch.optim.Adam(model.parameters(), lr=learning_rate)  "
   ]
  },
  {
   "cell_type": "markdown",
   "metadata": {},
   "source": [
    "## **Training phase**"
   ]
  },
  {
   "cell_type": "code",
   "execution_count": 10,
   "metadata": {},
   "outputs": [
    {
     "name": "stdout",
     "output_type": "stream",
     "text": [
      "Epoch: 001/010 | Batch 000/468 | Cost: 0.7184\n",
      "Epoch: 001/010 | Batch 050/468 | Cost: 0.6912\n",
      "Epoch: 001/010 | Batch 100/468 | Cost: 0.6025\n",
      "Epoch: 001/010 | Batch 150/468 | Cost: 0.3550\n",
      "Epoch: 001/010 | Batch 200/468 | Cost: 0.3139\n",
      "Epoch: 001/010 | Batch 250/468 | Cost: 0.2529\n",
      "Epoch: 001/010 | Batch 300/468 | Cost: 0.2065\n",
      "Epoch: 001/010 | Batch 350/468 | Cost: 0.1780\n",
      "Epoch: 001/010 | Batch 400/468 | Cost: 0.1649\n",
      "Epoch: 001/010 | Batch 450/468 | Cost: 0.1470\n",
      "Time elapsed: 0.55 min\n",
      "Epoch: 002/010 | Batch 000/468 | Cost: 0.1454\n",
      "Epoch: 002/010 | Batch 050/468 | Cost: 0.1416\n",
      "Epoch: 002/010 | Batch 100/468 | Cost: 0.1352\n",
      "Epoch: 002/010 | Batch 150/468 | Cost: 0.1355\n",
      "Epoch: 002/010 | Batch 200/468 | Cost: 0.1278\n",
      "Epoch: 002/010 | Batch 250/468 | Cost: 0.1227\n",
      "Epoch: 002/010 | Batch 300/468 | Cost: 0.1192\n",
      "Epoch: 002/010 | Batch 350/468 | Cost: 0.1209\n",
      "Epoch: 002/010 | Batch 400/468 | Cost: 0.1199\n",
      "Epoch: 002/010 | Batch 450/468 | Cost: 0.1151\n",
      "Time elapsed: 1.08 min\n",
      "Epoch: 003/010 | Batch 000/468 | Cost: 0.1160\n",
      "Epoch: 003/010 | Batch 050/468 | Cost: 0.1165\n",
      "Epoch: 003/010 | Batch 100/468 | Cost: 0.1105\n",
      "Epoch: 003/010 | Batch 150/468 | Cost: 0.1116\n",
      "Epoch: 003/010 | Batch 200/468 | Cost: 0.1132\n",
      "Epoch: 003/010 | Batch 250/468 | Cost: 0.1142\n",
      "Epoch: 003/010 | Batch 300/468 | Cost: 0.1126\n",
      "Epoch: 003/010 | Batch 350/468 | Cost: 0.1092\n",
      "Epoch: 003/010 | Batch 400/468 | Cost: 0.1072\n",
      "Epoch: 003/010 | Batch 450/468 | Cost: 0.1135\n",
      "Time elapsed: 1.60 min\n",
      "Epoch: 004/010 | Batch 000/468 | Cost: 0.1080\n",
      "Epoch: 004/010 | Batch 050/468 | Cost: 0.1109\n",
      "Epoch: 004/010 | Batch 100/468 | Cost: 0.1073\n",
      "Epoch: 004/010 | Batch 150/468 | Cost: 0.1081\n",
      "Epoch: 004/010 | Batch 200/468 | Cost: 0.1093\n",
      "Epoch: 004/010 | Batch 250/468 | Cost: 0.1043\n",
      "Epoch: 004/010 | Batch 300/468 | Cost: 0.1090\n",
      "Epoch: 004/010 | Batch 350/468 | Cost: 0.1050\n",
      "Epoch: 004/010 | Batch 400/468 | Cost: 0.1070\n",
      "Epoch: 004/010 | Batch 450/468 | Cost: 0.1107\n",
      "Time elapsed: 2.17 min\n",
      "Epoch: 005/010 | Batch 000/468 | Cost: 0.1089\n",
      "Epoch: 005/010 | Batch 050/468 | Cost: 0.1030\n",
      "Epoch: 005/010 | Batch 100/468 | Cost: 0.1018\n",
      "Epoch: 005/010 | Batch 150/468 | Cost: 0.1050\n",
      "Epoch: 005/010 | Batch 200/468 | Cost: 0.1043\n",
      "Epoch: 005/010 | Batch 250/468 | Cost: 0.0998\n",
      "Epoch: 005/010 | Batch 300/468 | Cost: 0.0971\n",
      "Epoch: 005/010 | Batch 350/468 | Cost: 0.1030\n",
      "Epoch: 005/010 | Batch 400/468 | Cost: 0.1017\n",
      "Epoch: 005/010 | Batch 450/468 | Cost: 0.1048\n",
      "Time elapsed: 2.70 min\n",
      "Epoch: 006/010 | Batch 000/468 | Cost: 0.1013\n",
      "Epoch: 006/010 | Batch 050/468 | Cost: 0.0980\n",
      "Epoch: 006/010 | Batch 100/468 | Cost: 0.1017\n",
      "Epoch: 006/010 | Batch 150/468 | Cost: 0.1026\n",
      "Epoch: 006/010 | Batch 200/468 | Cost: 0.1008\n",
      "Epoch: 006/010 | Batch 250/468 | Cost: 0.1010\n",
      "Epoch: 006/010 | Batch 300/468 | Cost: 0.1029\n",
      "Epoch: 006/010 | Batch 350/468 | Cost: 0.0993\n",
      "Epoch: 006/010 | Batch 400/468 | Cost: 0.0996\n",
      "Epoch: 006/010 | Batch 450/468 | Cost: 0.1022\n",
      "Time elapsed: 3.21 min\n",
      "Epoch: 007/010 | Batch 000/468 | Cost: 0.0998\n",
      "Epoch: 007/010 | Batch 050/468 | Cost: 0.0944\n",
      "Epoch: 007/010 | Batch 100/468 | Cost: 0.1019\n",
      "Epoch: 007/010 | Batch 150/468 | Cost: 0.0965\n",
      "Epoch: 007/010 | Batch 200/468 | Cost: 0.0984\n",
      "Epoch: 007/010 | Batch 250/468 | Cost: 0.0972\n",
      "Epoch: 007/010 | Batch 300/468 | Cost: 0.1000\n",
      "Epoch: 007/010 | Batch 350/468 | Cost: 0.0969\n",
      "Epoch: 007/010 | Batch 400/468 | Cost: 0.0989\n",
      "Epoch: 007/010 | Batch 450/468 | Cost: 0.0982\n",
      "Time elapsed: 3.74 min\n",
      "Epoch: 008/010 | Batch 000/468 | Cost: 0.0992\n",
      "Epoch: 008/010 | Batch 050/468 | Cost: 0.1010\n",
      "Epoch: 008/010 | Batch 100/468 | Cost: 0.0975\n",
      "Epoch: 008/010 | Batch 150/468 | Cost: 0.0971\n",
      "Epoch: 008/010 | Batch 200/468 | Cost: 0.0984\n",
      "Epoch: 008/010 | Batch 250/468 | Cost: 0.0960\n",
      "Epoch: 008/010 | Batch 300/468 | Cost: 0.0975\n",
      "Epoch: 008/010 | Batch 350/468 | Cost: 0.0944\n",
      "Epoch: 008/010 | Batch 400/468 | Cost: 0.0965\n",
      "Epoch: 008/010 | Batch 450/468 | Cost: 0.0967\n",
      "Time elapsed: 4.26 min\n",
      "Epoch: 009/010 | Batch 000/468 | Cost: 0.0964\n",
      "Epoch: 009/010 | Batch 050/468 | Cost: 0.0950\n",
      "Epoch: 009/010 | Batch 100/468 | Cost: 0.0982\n",
      "Epoch: 009/010 | Batch 150/468 | Cost: 0.0971\n",
      "Epoch: 009/010 | Batch 200/468 | Cost: 0.0951\n",
      "Epoch: 009/010 | Batch 250/468 | Cost: 0.0954\n",
      "Epoch: 009/010 | Batch 300/468 | Cost: 0.0956\n",
      "Epoch: 009/010 | Batch 350/468 | Cost: 0.0914\n",
      "Epoch: 009/010 | Batch 400/468 | Cost: 0.0958\n",
      "Epoch: 009/010 | Batch 450/468 | Cost: 0.0969\n",
      "Time elapsed: 4.80 min\n",
      "Epoch: 010/010 | Batch 000/468 | Cost: 0.0968\n",
      "Epoch: 010/010 | Batch 050/468 | Cost: 0.0924\n",
      "Epoch: 010/010 | Batch 100/468 | Cost: 0.0919\n",
      "Epoch: 010/010 | Batch 150/468 | Cost: 0.0929\n",
      "Epoch: 010/010 | Batch 200/468 | Cost: 0.0923\n",
      "Epoch: 010/010 | Batch 250/468 | Cost: 0.0944\n",
      "Epoch: 010/010 | Batch 300/468 | Cost: 0.0917\n",
      "Epoch: 010/010 | Batch 350/468 | Cost: 0.0963\n",
      "Epoch: 010/010 | Batch 400/468 | Cost: 0.0988\n",
      "Epoch: 010/010 | Batch 450/468 | Cost: 0.0917\n",
      "Time elapsed: 5.63 min\n",
      "Total Training Time: 5.63 min\n"
     ]
    }
   ],
   "source": [
    "start_time = time.time()\n",
    "for epoch in range(num_epochs):\n",
    "    for batch_idx, (features, targets) in enumerate(train_loader):\n",
    "        \n",
    "        features = features.to(device)\n",
    "\n",
    "        logits, decoded = model(features)\n",
    "        cost = F.binary_cross_entropy_with_logits(logits, features)\n",
    "        optimizer.zero_grad()\n",
    "        \n",
    "        cost.backward()\n",
    "        optimizer.step()\n",
    "        \n",
    "        if not batch_idx % 50:\n",
    "            print ('Epoch: %03d/%03d | Batch %03d/%03d | Cost: %.4f' \n",
    "                   %(epoch+1, num_epochs, batch_idx, \n",
    "                     len(train_dataset)//batch_size, cost))\n",
    "            \n",
    "    print('Time elapsed: %.2f min' % ((time.time() - start_time)/60))\n",
    "    \n",
    "print('Total Training Time: %.2f min' % ((time.time() - start_time)/60))"
   ]
  },
  {
   "cell_type": "markdown",
   "metadata": {},
   "source": [
    "## **Evaluation**"
   ]
  },
  {
   "cell_type": "code",
   "execution_count": 12,
   "metadata": {},
   "outputs": [
    {
     "data": {
      "image/png": "[encoded data removed]",
      "text/plain": [
       "<Figure size 2000x250 with 30 Axes>"
      ]
     },
     "metadata": {},
     "output_type": "display_data"
    }
   ],
   "source": [
    "n_images = 15\n",
    "image_width = 28\n",
    "\n",
    "fig, axes = plt.subplots(nrows=2, ncols=n_images, sharex=True, sharey=True, figsize=(20, 2.5))\n",
    "orig_images = features[:n_images]\n",
    "decoded_images = decoded[:n_images]\n",
    "\n",
    "for i in range(n_images):\n",
    "    for ax, img in zip(axes, [orig_images, decoded_images]):\n",
    "        curr_img = img[i].detach().to(torch.device('cpu'))\n",
    "        ax[i].imshow(curr_img.view((image_width, image_width)), cmap='binary')"
   ]
  }
 ],
 "metadata": {
  "kernelspec": {
   "display_name": "base",
   "language": "python",
   "name": "python3"
  },
  "language_info": {
   "codemirror_mode": {
    "name": "ipython",
    "version": 3
   },
   "file_extension": ".py",
   "mimetype": "text/x-python",
   "name": "python",
   "nbconvert_exporter": "python",
   "pygments_lexer": "ipython3",
   "version": "3.11.5"
  },
  "toc": {
   "nav_menu": {},
   "number_sections": true,
   "sideBar": true,
   "skip_h1_title": false,
   "title_cell": "Table of Contents",
   "title_sidebar": "Contents",
   "toc_cell": false,
   "toc_position": {},
   "toc_section_display": true,
   "toc_window_display": false
  }
 },
 "nbformat": 4,
 "nbformat_minor": 4
}
