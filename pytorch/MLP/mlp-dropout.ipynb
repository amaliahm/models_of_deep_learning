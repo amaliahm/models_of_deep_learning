{
 "cells": [
  {
   "cell_type": "markdown",
   "metadata": {},
   "source": [
    "# **Multilayer Perceptron with Dropout**"
   ]
  },
  {
   "cell_type": "markdown",
   "metadata": {},
   "source": [
    "## **Libraries**"
   ]
  },
  {
   "cell_type": "code",
   "execution_count": 1,
   "metadata": {},
   "outputs": [],
   "source": [
    "from torch.utils.data import DataLoader\n",
    "from torchvision import transforms\n",
    "from torchvision import datasets\n",
    "import torch.nn.functional as F\n",
    "import numpy as np\n",
    "import torch\n",
    "import time"
   ]
  },
  {
   "cell_type": "code",
   "execution_count": 2,
   "metadata": {},
   "outputs": [],
   "source": [
    "if torch.cuda.is_available():\n",
    "    torch.backends.cudnn.deterministic = True"
   ]
  },
  {
   "cell_type": "markdown",
   "metadata": {},
   "source": [
    "## **Settings**"
   ]
  },
  {
   "cell_type": "code",
   "execution_count": 3,
   "metadata": {},
   "outputs": [],
   "source": [
    "device = torch.device(\"cuda:0\" if torch.cuda.is_available() else \"cpu\")"
   ]
  },
  {
   "cell_type": "code",
   "execution_count": 4,
   "metadata": {},
   "outputs": [],
   "source": [
    "random_seed = 1\n",
    "learning_rate = 0.1\n",
    "num_epochs = 10\n",
    "batch_size = 64\n",
    "dropout_prob = 0.5"
   ]
  },
  {
   "cell_type": "code",
   "execution_count": 5,
   "metadata": {},
   "outputs": [],
   "source": [
    "num_features = 784\n",
    "num_hidden_1 = 128\n",
    "num_hidden_2 = 256\n",
    "num_classes = 10"
   ]
  },
  {
   "cell_type": "code",
   "execution_count": 6,
   "metadata": {},
   "outputs": [],
   "source": [
    "train_dataset = datasets.MNIST(root='data', train=True, transform=transforms.ToTensor(), download=True)\n",
    "test_dataset = datasets.MNIST(root='data', train=False, transform=transforms.ToTensor())"
   ]
  },
  {
   "cell_type": "code",
   "execution_count": 7,
   "metadata": {},
   "outputs": [],
   "source": [
    "train_loader = DataLoader(dataset=train_dataset, batch_size=batch_size, shuffle=True)\n",
    "test_loader = DataLoader(dataset=test_dataset, batch_size=batch_size, shuffle=False)"
   ]
  },
  {
   "cell_type": "code",
   "execution_count": 8,
   "metadata": {},
   "outputs": [
    {
     "name": "stdout",
     "output_type": "stream",
     "text": [
      "Image batch dimensions: torch.Size([64, 1, 28, 28])\n",
      "Image label dimensions: torch.Size([64])\n"
     ]
    }
   ],
   "source": [
    "for images, labels in train_loader:  \n",
    "    print('Image batch dimensions:', images.shape)\n",
    "    print('Image label dimensions:', labels.shape)\n",
    "    break"
   ]
  },
  {
   "cell_type": "markdown",
   "metadata": {},
   "source": [
    "## **Build the model**"
   ]
  },
  {
   "cell_type": "code",
   "execution_count": 9,
   "metadata": {},
   "outputs": [],
   "source": [
    "class MultilayerPerceptron(torch.nn.Module):\n",
    "    def __init__(self, num_features, num_classes):\n",
    "        super(MultilayerPerceptron, self).__init__()\n",
    "        \n",
    "        self.linear_1 = torch.nn.Linear(num_features, num_hidden_1)\n",
    "        self.linear_1.weight.detach().normal_(0.0, 0.1)\n",
    "        self.linear_1.bias.detach().zero_()\n",
    "        self.linear_2 = torch.nn.Linear(num_hidden_1, num_hidden_2)\n",
    "        self.linear_2.weight.detach().normal_(0.0, 0.1)\n",
    "        self.linear_2.bias.detach().zero_()\n",
    "        self.linear_out = torch.nn.Linear(num_hidden_2, num_classes)\n",
    "        self.linear_out.weight.detach().normal_(0.0, 0.1)\n",
    "        self.linear_out.bias.detach().zero_()\n",
    "        \n",
    "    def forward(self, x):\n",
    "        out = self.linear_1(x)\n",
    "        out = F.relu(out)\n",
    "        out = F.dropout(out, p=dropout_prob, training=self.training)\n",
    "        \n",
    "        out = self.linear_2(out)\n",
    "        out = F.relu(out)\n",
    "        out = F.dropout(out, p=dropout_prob, training=self.training)\n",
    "        \n",
    "        logits = self.linear_out(out)\n",
    "        probas = F.softmax(logits, dim=1)\n",
    "        return logits, probas"
   ]
  },
  {
   "cell_type": "code",
   "execution_count": 10,
   "metadata": {},
   "outputs": [],
   "source": [
    "torch.manual_seed(random_seed)\n",
    "model = MultilayerPerceptron(num_features=num_features, num_classes=num_classes)"
   ]
  },
  {
   "cell_type": "code",
   "execution_count": 11,
   "metadata": {},
   "outputs": [],
   "source": [
    "model = model.to(device)"
   ]
  },
  {
   "cell_type": "code",
   "execution_count": 12,
   "metadata": {},
   "outputs": [],
   "source": [
    "optimizer = torch.optim.SGD(model.parameters(), lr=learning_rate)"
   ]
  },
  {
   "cell_type": "code",
   "execution_count": 13,
   "metadata": {},
   "outputs": [],
   "source": [
    "def compute_accuracy(net, data_loader):\n",
    "    net.eval()\n",
    "    correct_pred, num_examples = 0, 0\n",
    "    with torch.no_grad():\n",
    "        for features, targets in data_loader:\n",
    "            features = features.view(-1, 28*28).to(device)\n",
    "            targets = targets.to(device)\n",
    "            logits, probas = net(features)\n",
    "            _, predicted_labels = torch.max(probas, 1)\n",
    "            num_examples += targets.size(0)\n",
    "            correct_pred += (predicted_labels == targets).sum()\n",
    "        return correct_pred.float()/num_examples * 100"
   ]
  },
  {
   "cell_type": "code",
   "execution_count": 14,
   "metadata": {},
   "outputs": [
    {
     "name": "stdout",
     "output_type": "stream",
     "text": [
      "Epoch: 001/010 | Batch 000/938 | Cost: 3.3373\n",
      "Epoch: 001/010 | Batch 050/938 | Cost: 1.3384\n",
      "Epoch: 001/010 | Batch 100/938 | Cost: 1.3165\n",
      "Epoch: 001/010 | Batch 150/938 | Cost: 0.7436\n",
      "Epoch: 001/010 | Batch 200/938 | Cost: 0.7732\n",
      "Epoch: 001/010 | Batch 250/938 | Cost: 0.7468\n",
      "Epoch: 001/010 | Batch 300/938 | Cost: 1.1055\n",
      "Epoch: 001/010 | Batch 350/938 | Cost: 0.5159\n",
      "Epoch: 001/010 | Batch 400/938 | Cost: 0.6128\n",
      "Epoch: 001/010 | Batch 450/938 | Cost: 0.5003\n",
      "Epoch: 001/010 | Batch 500/938 | Cost: 0.6586\n",
      "Epoch: 001/010 | Batch 550/938 | Cost: 0.5821\n",
      "Epoch: 001/010 | Batch 600/938 | Cost: 0.3923\n",
      "Epoch: 001/010 | Batch 650/938 | Cost: 0.6465\n",
      "Epoch: 001/010 | Batch 700/938 | Cost: 0.6698\n",
      "Epoch: 001/010 | Batch 750/938 | Cost: 0.4851\n",
      "Epoch: 001/010 | Batch 800/938 | Cost: 0.4268\n",
      "Epoch: 001/010 | Batch 850/938 | Cost: 0.4286\n",
      "Epoch: 001/010 | Batch 900/938 | Cost: 0.4797\n",
      "Epoch: 001/010 training accuracy: 92.55%\n",
      "Time elapsed: 0.78 min\n",
      "Epoch: 002/010 | Batch 000/938 | Cost: 0.5846\n",
      "Epoch: 002/010 | Batch 050/938 | Cost: 0.4618\n",
      "Epoch: 002/010 | Batch 100/938 | Cost: 0.4886\n",
      "Epoch: 002/010 | Batch 150/938 | Cost: 0.5774\n",
      "Epoch: 002/010 | Batch 200/938 | Cost: 0.2362\n",
      "Epoch: 002/010 | Batch 250/938 | Cost: 0.2918\n",
      "Epoch: 002/010 | Batch 300/938 | Cost: 0.3945\n",
      "Epoch: 002/010 | Batch 350/938 | Cost: 0.4726\n",
      "Epoch: 002/010 | Batch 400/938 | Cost: 0.3417\n",
      "Epoch: 002/010 | Batch 450/938 | Cost: 0.4091\n",
      "Epoch: 002/010 | Batch 500/938 | Cost: 0.5281\n",
      "Epoch: 002/010 | Batch 550/938 | Cost: 0.2363\n",
      "Epoch: 002/010 | Batch 600/938 | Cost: 0.2937\n",
      "Epoch: 002/010 | Batch 650/938 | Cost: 0.2978\n",
      "Epoch: 002/010 | Batch 700/938 | Cost: 0.4416\n",
      "Epoch: 002/010 | Batch 750/938 | Cost: 0.2068\n",
      "Epoch: 002/010 | Batch 800/938 | Cost: 0.4546\n",
      "Epoch: 002/010 | Batch 850/938 | Cost: 0.1391\n",
      "Epoch: 002/010 | Batch 900/938 | Cost: 0.4243\n",
      "Epoch: 002/010 training accuracy: 94.66%\n",
      "Time elapsed: 1.67 min\n",
      "Epoch: 003/010 | Batch 000/938 | Cost: 0.4947\n",
      "Epoch: 003/010 | Batch 050/938 | Cost: 0.1786\n",
      "Epoch: 003/010 | Batch 100/938 | Cost: 0.4255\n",
      "Epoch: 003/010 | Batch 150/938 | Cost: 0.4181\n",
      "Epoch: 003/010 | Batch 200/938 | Cost: 0.3197\n",
      "Epoch: 003/010 | Batch 250/938 | Cost: 0.3066\n",
      "Epoch: 003/010 | Batch 300/938 | Cost: 0.5252\n",
      "Epoch: 003/010 | Batch 350/938 | Cost: 0.1758\n",
      "Epoch: 003/010 | Batch 400/938 | Cost: 0.2989\n",
      "Epoch: 003/010 | Batch 450/938 | Cost: 0.2801\n",
      "Epoch: 003/010 | Batch 500/938 | Cost: 0.3726\n",
      "Epoch: 003/010 | Batch 550/938 | Cost: 0.1389\n",
      "Epoch: 003/010 | Batch 600/938 | Cost: 0.2782\n",
      "Epoch: 003/010 | Batch 650/938 | Cost: 0.1766\n",
      "Epoch: 003/010 | Batch 700/938 | Cost: 0.5382\n",
      "Epoch: 003/010 | Batch 750/938 | Cost: 0.1082\n",
      "Epoch: 003/010 | Batch 800/938 | Cost: 0.4032\n",
      "Epoch: 003/010 | Batch 850/938 | Cost: 0.3138\n",
      "Epoch: 003/010 | Batch 900/938 | Cost: 0.3496\n",
      "Epoch: 003/010 training accuracy: 95.49%\n",
      "Time elapsed: 2.37 min\n",
      "Epoch: 004/010 | Batch 000/938 | Cost: 0.4177\n",
      "Epoch: 004/010 | Batch 050/938 | Cost: 0.2084\n",
      "Epoch: 004/010 | Batch 100/938 | Cost: 0.2483\n",
      "Epoch: 004/010 | Batch 150/938 | Cost: 0.4080\n",
      "Epoch: 004/010 | Batch 200/938 | Cost: 0.3948\n",
      "Epoch: 004/010 | Batch 250/938 | Cost: 0.2170\n",
      "Epoch: 004/010 | Batch 300/938 | Cost: 0.2645\n",
      "Epoch: 004/010 | Batch 350/938 | Cost: 0.2759\n",
      "Epoch: 004/010 | Batch 400/938 | Cost: 0.1976\n",
      "Epoch: 004/010 | Batch 450/938 | Cost: 0.3276\n",
      "Epoch: 004/010 | Batch 500/938 | Cost: 0.3216\n",
      "Epoch: 004/010 | Batch 550/938 | Cost: 0.6371\n",
      "Epoch: 004/010 | Batch 600/938 | Cost: 0.2068\n",
      "Epoch: 004/010 | Batch 650/938 | Cost: 0.2761\n",
      "Epoch: 004/010 | Batch 700/938 | Cost: 0.1294\n",
      "Epoch: 004/010 | Batch 750/938 | Cost: 0.1769\n",
      "Epoch: 004/010 | Batch 800/938 | Cost: 0.1113\n",
      "Epoch: 004/010 | Batch 850/938 | Cost: 0.4053\n",
      "Epoch: 004/010 | Batch 900/938 | Cost: 0.2619\n",
      "Epoch: 004/010 training accuracy: 96.14%\n",
      "Time elapsed: 3.05 min\n",
      "Epoch: 005/010 | Batch 000/938 | Cost: 0.3334\n",
      "Epoch: 005/010 | Batch 050/938 | Cost: 0.2485\n",
      "Epoch: 005/010 | Batch 100/938 | Cost: 0.1582\n",
      "Epoch: 005/010 | Batch 150/938 | Cost: 0.3333\n",
      "Epoch: 005/010 | Batch 200/938 | Cost: 0.3299\n",
      "Epoch: 005/010 | Batch 250/938 | Cost: 0.1773\n",
      "Epoch: 005/010 | Batch 300/938 | Cost: 0.1802\n",
      "Epoch: 005/010 | Batch 350/938 | Cost: 0.3531\n",
      "Epoch: 005/010 | Batch 400/938 | Cost: 0.3338\n",
      "Epoch: 005/010 | Batch 450/938 | Cost: 0.1863\n",
      "Epoch: 005/010 | Batch 500/938 | Cost: 0.2720\n",
      "Epoch: 005/010 | Batch 550/938 | Cost: 0.3049\n",
      "Epoch: 005/010 | Batch 600/938 | Cost: 0.1322\n",
      "Epoch: 005/010 | Batch 650/938 | Cost: 0.2060\n",
      "Epoch: 005/010 | Batch 700/938 | Cost: 0.2244\n",
      "Epoch: 005/010 | Batch 750/938 | Cost: 0.1662\n",
      "Epoch: 005/010 | Batch 800/938 | Cost: 0.2140\n",
      "Epoch: 005/010 | Batch 850/938 | Cost: 0.2856\n",
      "Epoch: 005/010 | Batch 900/938 | Cost: 0.1051\n",
      "Epoch: 005/010 training accuracy: 96.53%\n",
      "Time elapsed: 3.73 min\n",
      "Epoch: 006/010 | Batch 000/938 | Cost: 0.1447\n",
      "Epoch: 006/010 | Batch 050/938 | Cost: 0.3967\n",
      "Epoch: 006/010 | Batch 100/938 | Cost: 0.1519\n",
      "Epoch: 006/010 | Batch 150/938 | Cost: 0.1088\n",
      "Epoch: 006/010 | Batch 200/938 | Cost: 0.1685\n",
      "Epoch: 006/010 | Batch 250/938 | Cost: 0.4514\n",
      "Epoch: 006/010 | Batch 300/938 | Cost: 0.1668\n",
      "Epoch: 006/010 | Batch 350/938 | Cost: 0.2570\n",
      "Epoch: 006/010 | Batch 400/938 | Cost: 0.0593\n",
      "Epoch: 006/010 | Batch 450/938 | Cost: 0.1415\n",
      "Epoch: 006/010 | Batch 500/938 | Cost: 0.1706\n",
      "Epoch: 006/010 | Batch 550/938 | Cost: 0.2952\n",
      "Epoch: 006/010 | Batch 600/938 | Cost: 0.2369\n",
      "Epoch: 006/010 | Batch 650/938 | Cost: 0.1300\n",
      "Epoch: 006/010 | Batch 700/938 | Cost: 0.1560\n",
      "Epoch: 006/010 | Batch 750/938 | Cost: 0.2515\n",
      "Epoch: 006/010 | Batch 800/938 | Cost: 0.2988\n",
      "Epoch: 006/010 | Batch 850/938 | Cost: 0.2233\n",
      "Epoch: 006/010 | Batch 900/938 | Cost: 0.1107\n",
      "Epoch: 006/010 training accuracy: 96.83%\n",
      "Time elapsed: 4.60 min\n",
      "Epoch: 007/010 | Batch 000/938 | Cost: 0.4883\n",
      "Epoch: 007/010 | Batch 050/938 | Cost: 0.1548\n",
      "Epoch: 007/010 | Batch 100/938 | Cost: 0.0936\n",
      "Epoch: 007/010 | Batch 150/938 | Cost: 0.0802\n",
      "Epoch: 007/010 | Batch 200/938 | Cost: 0.0859\n",
      "Epoch: 007/010 | Batch 250/938 | Cost: 0.1924\n",
      "Epoch: 007/010 | Batch 300/938 | Cost: 0.2728\n",
      "Epoch: 007/010 | Batch 350/938 | Cost: 0.3295\n",
      "Epoch: 007/010 | Batch 400/938 | Cost: 0.2000\n",
      "Epoch: 007/010 | Batch 450/938 | Cost: 0.1216\n",
      "Epoch: 007/010 | Batch 500/938 | Cost: 0.4872\n",
      "Epoch: 007/010 | Batch 550/938 | Cost: 0.0848\n",
      "Epoch: 007/010 | Batch 600/938 | Cost: 0.4164\n",
      "Epoch: 007/010 | Batch 650/938 | Cost: 0.1456\n",
      "Epoch: 007/010 | Batch 700/938 | Cost: 0.2589\n",
      "Epoch: 007/010 | Batch 750/938 | Cost: 0.1254\n",
      "Epoch: 007/010 | Batch 800/938 | Cost: 0.1490\n",
      "Epoch: 007/010 | Batch 850/938 | Cost: 0.1194\n",
      "Epoch: 007/010 | Batch 900/938 | Cost: 0.1527\n",
      "Epoch: 007/010 training accuracy: 97.14%\n",
      "Time elapsed: 5.49 min\n",
      "Epoch: 008/010 | Batch 000/938 | Cost: 0.0341\n",
      "Epoch: 008/010 | Batch 050/938 | Cost: 0.3887\n",
      "Epoch: 008/010 | Batch 100/938 | Cost: 0.1101\n",
      "Epoch: 008/010 | Batch 150/938 | Cost: 0.0713\n",
      "Epoch: 008/010 | Batch 200/938 | Cost: 0.1871\n",
      "Epoch: 008/010 | Batch 250/938 | Cost: 0.1588\n",
      "Epoch: 008/010 | Batch 300/938 | Cost: 0.1254\n",
      "Epoch: 008/010 | Batch 350/938 | Cost: 0.2892\n",
      "Epoch: 008/010 | Batch 400/938 | Cost: 0.0973\n",
      "Epoch: 008/010 | Batch 450/938 | Cost: 0.1709\n",
      "Epoch: 008/010 | Batch 500/938 | Cost: 0.2344\n",
      "Epoch: 008/010 | Batch 550/938 | Cost: 0.0892\n",
      "Epoch: 008/010 | Batch 600/938 | Cost: 0.1509\n",
      "Epoch: 008/010 | Batch 650/938 | Cost: 0.1563\n",
      "Epoch: 008/010 | Batch 700/938 | Cost: 0.1249\n",
      "Epoch: 008/010 | Batch 750/938 | Cost: 0.1471\n",
      "Epoch: 008/010 | Batch 800/938 | Cost: 0.3369\n",
      "Epoch: 008/010 | Batch 850/938 | Cost: 0.3737\n",
      "Epoch: 008/010 | Batch 900/938 | Cost: 0.3481\n",
      "Epoch: 008/010 training accuracy: 97.35%\n",
      "Time elapsed: 6.16 min\n",
      "Epoch: 009/010 | Batch 000/938 | Cost: 0.1480\n",
      "Epoch: 009/010 | Batch 050/938 | Cost: 0.1190\n",
      "Epoch: 009/010 | Batch 100/938 | Cost: 0.3037\n",
      "Epoch: 009/010 | Batch 150/938 | Cost: 0.0307\n",
      "Epoch: 009/010 | Batch 200/938 | Cost: 0.1527\n",
      "Epoch: 009/010 | Batch 250/938 | Cost: 0.1156\n",
      "Epoch: 009/010 | Batch 300/938 | Cost: 0.1615\n",
      "Epoch: 009/010 | Batch 350/938 | Cost: 0.1254\n",
      "Epoch: 009/010 | Batch 400/938 | Cost: 0.2399\n",
      "Epoch: 009/010 | Batch 450/938 | Cost: 0.2184\n",
      "Epoch: 009/010 | Batch 500/938 | Cost: 0.1738\n",
      "Epoch: 009/010 | Batch 550/938 | Cost: 0.0849\n",
      "Epoch: 009/010 | Batch 600/938 | Cost: 0.2206\n",
      "Epoch: 009/010 | Batch 650/938 | Cost: 0.1257\n",
      "Epoch: 009/010 | Batch 700/938 | Cost: 0.0875\n",
      "Epoch: 009/010 | Batch 750/938 | Cost: 0.2362\n",
      "Epoch: 009/010 | Batch 800/938 | Cost: 0.0954\n",
      "Epoch: 009/010 | Batch 850/938 | Cost: 0.2592\n",
      "Epoch: 009/010 | Batch 900/938 | Cost: 0.1690\n",
      "Epoch: 009/010 training accuracy: 97.46%\n",
      "Time elapsed: 6.69 min\n",
      "Epoch: 010/010 | Batch 000/938 | Cost: 0.1624\n",
      "Epoch: 010/010 | Batch 050/938 | Cost: 0.0651\n",
      "Epoch: 010/010 | Batch 100/938 | Cost: 0.0549\n",
      "Epoch: 010/010 | Batch 150/938 | Cost: 0.1271\n",
      "Epoch: 010/010 | Batch 200/938 | Cost: 0.3735\n",
      "Epoch: 010/010 | Batch 250/938 | Cost: 0.2079\n",
      "Epoch: 010/010 | Batch 300/938 | Cost: 0.2855\n",
      "Epoch: 010/010 | Batch 350/938 | Cost: 0.1994\n",
      "Epoch: 010/010 | Batch 400/938 | Cost: 0.2774\n",
      "Epoch: 010/010 | Batch 450/938 | Cost: 0.0388\n",
      "Epoch: 010/010 | Batch 500/938 | Cost: 0.2602\n",
      "Epoch: 010/010 | Batch 550/938 | Cost: 0.2575\n",
      "Epoch: 010/010 | Batch 600/938 | Cost: 0.1304\n",
      "Epoch: 010/010 | Batch 650/938 | Cost: 0.1696\n",
      "Epoch: 010/010 | Batch 700/938 | Cost: 0.1217\n",
      "Epoch: 010/010 | Batch 750/938 | Cost: 0.0798\n",
      "Epoch: 010/010 | Batch 800/938 | Cost: 0.1420\n",
      "Epoch: 010/010 | Batch 850/938 | Cost: 0.0791\n",
      "Epoch: 010/010 | Batch 900/938 | Cost: 0.1185\n",
      "Epoch: 010/010 training accuracy: 97.49%\n",
      "Time elapsed: 7.20 min\n",
      "Total Training Time: 7.20 min\n"
     ]
    }
   ],
   "source": [
    "start_time = time.time()\n",
    "for epoch in range(num_epochs):\n",
    "    model.train()\n",
    "    for batch_idx, (features, targets) in enumerate(train_loader):\n",
    "        \n",
    "        features = features.view(-1, 28*28).to(device)\n",
    "        targets = targets.to(device)\n",
    "            \n",
    "        logits, probas = model(features)\n",
    "        cost = F.cross_entropy(logits, targets)\n",
    "        optimizer.zero_grad()\n",
    "        \n",
    "        cost.backward()\n",
    "        optimizer.step()\n",
    "        \n",
    "        if not batch_idx % 50:\n",
    "            print ('Epoch: %03d/%03d | Batch %03d/%03d | Cost: %.4f' \n",
    "                   %(epoch+1, num_epochs, batch_idx, \n",
    "                     len(train_loader), cost))\n",
    "\n",
    "\n",
    "    print('Epoch: %03d/%03d training accuracy: %.2f%%' % (\n",
    "          epoch+1, num_epochs, \n",
    "          compute_accuracy(model, train_loader)))\n",
    "\n",
    "    print('Time elapsed: %.2f min' % ((time.time() - start_time)/60))\n",
    "    \n",
    "print('Total Training Time: %.2f min' % ((time.time() - start_time)/60))"
   ]
  },
  {
   "cell_type": "code",
   "execution_count": 15,
   "metadata": {},
   "outputs": [
    {
     "name": "stdout",
     "output_type": "stream",
     "text": [
      "Test accuracy: 96.77%\n"
     ]
    }
   ],
   "source": [
    "print('Test accuracy: %.2f%%' % (compute_accuracy(model, test_loader)))"
   ]
  }
 ],
 "metadata": {
  "kernelspec": {
   "display_name": "base",
   "language": "python",
   "name": "python3"
  },
  "language_info": {
   "codemirror_mode": {
    "name": "ipython",
    "version": 3
   },
   "file_extension": ".py",
   "mimetype": "text/x-python",
   "name": "python",
   "nbconvert_exporter": "python",
   "pygments_lexer": "ipython3",
   "version": "3.11.5"
  },
  "toc": {
   "nav_menu": {},
   "number_sections": true,
   "sideBar": true,
   "skip_h1_title": false,
   "title_cell": "Table of Contents",
   "title_sidebar": "Contents",
   "toc_cell": false,
   "toc_position": {},
   "toc_section_display": true,
   "toc_window_display": false
  }
 },
 "nbformat": 4,
 "nbformat_minor": 2
}
