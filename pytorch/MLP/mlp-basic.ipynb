{
 "cells": [
  {
   "cell_type": "markdown",
   "metadata": {},
   "source": [
    "# **Multilayer Perceptron**"
   ]
  },
  {
   "cell_type": "markdown",
   "metadata": {},
   "source": [
    "## **Libraries**"
   ]
  },
  {
   "cell_type": "code",
   "execution_count": 1,
   "metadata": {},
   "outputs": [],
   "source": [
    "from torch.utils.data import DataLoader\n",
    "from torchvision import transforms\n",
    "from torchvision import datasets\n",
    "import torch.nn.functional as F\n",
    "import numpy as np\n",
    "import torch\n",
    "import time"
   ]
  },
  {
   "cell_type": "code",
   "execution_count": 2,
   "metadata": {},
   "outputs": [],
   "source": [
    "if torch.cuda.is_available():\n",
    "    torch.backends.cudnn.deterministic = True"
   ]
  },
  {
   "cell_type": "markdown",
   "metadata": {},
   "source": [
    "## **Settings**"
   ]
  },
  {
   "cell_type": "code",
   "execution_count": 3,
   "metadata": {},
   "outputs": [],
   "source": [
    "device = torch.device(\"cuda:3\" if torch.cuda.is_available() else \"cpu\")"
   ]
  },
  {
   "cell_type": "code",
   "execution_count": 4,
   "metadata": {},
   "outputs": [],
   "source": [
    "random_seed = 1\n",
    "learning_rate = 0.1\n",
    "num_epochs = 10\n",
    "batch_size = 64"
   ]
  },
  {
   "cell_type": "code",
   "execution_count": 5,
   "metadata": {},
   "outputs": [],
   "source": [
    "num_features = 784\n",
    "num_hidden_1 = 128\n",
    "num_hidden_2 = 256\n",
    "num_classes = 10"
   ]
  },
  {
   "cell_type": "markdown",
   "metadata": {},
   "source": [
    "## **MNIST dataset**"
   ]
  },
  {
   "cell_type": "code",
   "execution_count": 6,
   "metadata": {},
   "outputs": [],
   "source": [
    "train_dataset = datasets.MNIST(root='data', train=True, transform=transforms.ToTensor(), download=True)\n",
    "test_dataset = datasets.MNIST(root='data', train=False, transform=transforms.ToTensor())"
   ]
  },
  {
   "cell_type": "code",
   "execution_count": 7,
   "metadata": {},
   "outputs": [],
   "source": [
    "train_loader = DataLoader(dataset=train_dataset, batch_size=batch_size, shuffle=True)\n",
    "test_loader = DataLoader(dataset=test_dataset, batch_size=batch_size, shuffle=False)"
   ]
  },
  {
   "cell_type": "code",
   "execution_count": 8,
   "metadata": {},
   "outputs": [
    {
     "name": "stdout",
     "output_type": "stream",
     "text": [
      "Image batch dimensions: torch.Size([64, 1, 28, 28])\n",
      "Image label dimensions: torch.Size([64])\n"
     ]
    }
   ],
   "source": [
    "for images, labels in train_loader:  \n",
    "    print('Image batch dimensions:', images.shape)\n",
    "    print('Image label dimensions:', labels.shape)\n",
    "    break"
   ]
  },
  {
   "cell_type": "markdown",
   "metadata": {},
   "source": [
    "## **Build the model**"
   ]
  },
  {
   "cell_type": "code",
   "execution_count": 9,
   "metadata": {},
   "outputs": [],
   "source": [
    "class MultilayerPerceptron(torch.nn.Module):\n",
    "    def __init__(self, num_features, num_classes):\n",
    "        super(MultilayerPerceptron, self).__init__()\n",
    "        self.linear_1 = torch.nn.Linear(num_features, num_hidden_1)\n",
    "        self.linear_1.weight.detach().normal_(0.0, 0.1)\n",
    "        self.linear_1.bias.detach().zero_()\n",
    "        self.linear_2 = torch.nn.Linear(num_hidden_1, num_hidden_2)\n",
    "        self.linear_2.weight.detach().normal_(0.0, 0.1)\n",
    "        self.linear_2.bias.detach().zero_()\n",
    "        self.linear_out = torch.nn.Linear(num_hidden_2, num_classes)\n",
    "        self.linear_out.weight.detach().normal_(0.0, 0.1)\n",
    "        self.linear_out.bias.detach().zero_()\n",
    "        \n",
    "    def forward(self, x):\n",
    "        out = self.linear_1(x)\n",
    "        out = F.relu(out)\n",
    "        out = self.linear_2(out)\n",
    "        out = F.relu(out)\n",
    "        logits = self.linear_out(out)\n",
    "        probas = F.log_softmax(logits, dim=1)\n",
    "        return logits, probas"
   ]
  },
  {
   "cell_type": "code",
   "execution_count": 10,
   "metadata": {},
   "outputs": [],
   "source": [
    "torch.manual_seed(random_seed)\n",
    "model = MultilayerPerceptron(num_features=num_features, num_classes=num_classes)"
   ]
  },
  {
   "cell_type": "code",
   "execution_count": 11,
   "metadata": {},
   "outputs": [],
   "source": [
    "model = model.to(device)"
   ]
  },
  {
   "cell_type": "code",
   "execution_count": 12,
   "metadata": {},
   "outputs": [],
   "source": [
    "optimizer = torch.optim.SGD(model.parameters(), lr=learning_rate)  "
   ]
  },
  {
   "cell_type": "code",
   "execution_count": 13,
   "metadata": {},
   "outputs": [],
   "source": [
    "def compute_accuracy(net, data_loader):\n",
    "    net.eval()\n",
    "    correct_pred, num_examples = 0, 0\n",
    "    with torch.no_grad():\n",
    "        for features, targets in data_loader:\n",
    "            features = features.view(-1, 28*28).to(device)\n",
    "            targets = targets.to(device)\n",
    "            logits, probas = net(features)\n",
    "            _, predicted_labels = torch.max(probas, 1)\n",
    "            num_examples += targets.size(0)\n",
    "            correct_pred += (predicted_labels == targets).sum()\n",
    "        return correct_pred.float()/num_examples * 100"
   ]
  },
  {
   "cell_type": "code",
   "execution_count": 14,
   "metadata": {},
   "outputs": [
    {
     "name": "stdout",
     "output_type": "stream",
     "text": [
      "Epoch: 001/010 | Batch 000/938 | Cost: 2.5706\n",
      "Epoch: 001/010 | Batch 050/938 | Cost: 0.6443\n",
      "Epoch: 001/010 | Batch 100/938 | Cost: 0.8060\n",
      "Epoch: 001/010 | Batch 150/938 | Cost: 0.4170\n",
      "Epoch: 001/010 | Batch 200/938 | Cost: 0.3087\n",
      "Epoch: 001/010 | Batch 250/938 | Cost: 0.5076\n",
      "Epoch: 001/010 | Batch 300/938 | Cost: 0.6134\n",
      "Epoch: 001/010 | Batch 350/938 | Cost: 0.2311\n",
      "Epoch: 001/010 | Batch 400/938 | Cost: 0.3084\n",
      "Epoch: 001/010 | Batch 450/938 | Cost: 0.2641\n",
      "Epoch: 001/010 | Batch 500/938 | Cost: 0.3679\n",
      "Epoch: 001/010 | Batch 550/938 | Cost: 0.1243\n",
      "Epoch: 001/010 | Batch 600/938 | Cost: 0.1086\n",
      "Epoch: 001/010 | Batch 650/938 | Cost: 0.4097\n",
      "Epoch: 001/010 | Batch 700/938 | Cost: 0.4481\n",
      "Epoch: 001/010 | Batch 750/938 | Cost: 0.2768\n",
      "Epoch: 001/010 | Batch 800/938 | Cost: 0.1238\n",
      "Epoch: 001/010 | Batch 850/938 | Cost: 0.2630\n",
      "Epoch: 001/010 | Batch 900/938 | Cost: 0.2586\n",
      "Epoch: 001/010 training accuracy: 94.14%\n",
      "Time elapsed: 0.52 min\n",
      "Epoch: 002/010 | Batch 000/938 | Cost: 0.0838\n",
      "Epoch: 002/010 | Batch 050/938 | Cost: 0.1156\n",
      "Epoch: 002/010 | Batch 100/938 | Cost: 0.1809\n",
      "Epoch: 002/010 | Batch 150/938 | Cost: 0.3448\n",
      "Epoch: 002/010 | Batch 200/938 | Cost: 0.0883\n",
      "Epoch: 002/010 | Batch 250/938 | Cost: 0.1663\n",
      "Epoch: 002/010 | Batch 300/938 | Cost: 0.0401\n",
      "Epoch: 002/010 | Batch 350/938 | Cost: 0.2232\n",
      "Epoch: 002/010 | Batch 400/938 | Cost: 0.0805\n",
      "Epoch: 002/010 | Batch 450/938 | Cost: 0.0801\n",
      "Epoch: 002/010 | Batch 500/938 | Cost: 0.1391\n",
      "Epoch: 002/010 | Batch 550/938 | Cost: 0.1456\n",
      "Epoch: 002/010 | Batch 600/938 | Cost: 0.1717\n",
      "Epoch: 002/010 | Batch 650/938 | Cost: 0.3182\n",
      "Epoch: 002/010 | Batch 700/938 | Cost: 0.2160\n",
      "Epoch: 002/010 | Batch 750/938 | Cost: 0.1031\n",
      "Epoch: 002/010 | Batch 800/938 | Cost: 0.1803\n",
      "Epoch: 002/010 | Batch 850/938 | Cost: 0.0464\n",
      "Epoch: 002/010 | Batch 900/938 | Cost: 0.2263\n",
      "Epoch: 002/010 training accuracy: 96.44%\n",
      "Time elapsed: 1.04 min\n",
      "Epoch: 003/010 | Batch 000/938 | Cost: 0.0888\n",
      "Epoch: 003/010 | Batch 050/938 | Cost: 0.2255\n",
      "Epoch: 003/010 | Batch 100/938 | Cost: 0.1327\n",
      "Epoch: 003/010 | Batch 150/938 | Cost: 0.1654\n",
      "Epoch: 003/010 | Batch 200/938 | Cost: 0.0283\n",
      "Epoch: 003/010 | Batch 250/938 | Cost: 0.1217\n",
      "Epoch: 003/010 | Batch 300/938 | Cost: 0.2044\n",
      "Epoch: 003/010 | Batch 350/938 | Cost: 0.2044\n",
      "Epoch: 003/010 | Batch 400/938 | Cost: 0.0702\n",
      "Epoch: 003/010 | Batch 450/938 | Cost: 0.0763\n",
      "Epoch: 003/010 | Batch 500/938 | Cost: 0.0899\n",
      "Epoch: 003/010 | Batch 550/938 | Cost: 0.1000\n",
      "Epoch: 003/010 | Batch 600/938 | Cost: 0.0940\n",
      "Epoch: 003/010 | Batch 650/938 | Cost: 0.0411\n",
      "Epoch: 003/010 | Batch 700/938 | Cost: 0.0311\n",
      "Epoch: 003/010 | Batch 750/938 | Cost: 0.0523\n",
      "Epoch: 003/010 | Batch 800/938 | Cost: 0.0796\n",
      "Epoch: 003/010 | Batch 850/938 | Cost: 0.1087\n",
      "Epoch: 003/010 | Batch 900/938 | Cost: 0.0686\n",
      "Epoch: 003/010 training accuracy: 96.95%\n",
      "Time elapsed: 1.54 min\n",
      "Epoch: 004/010 | Batch 000/938 | Cost: 0.0656\n",
      "Epoch: 004/010 | Batch 050/938 | Cost: 0.0548\n",
      "Epoch: 004/010 | Batch 100/938 | Cost: 0.0522\n",
      "Epoch: 004/010 | Batch 150/938 | Cost: 0.0691\n",
      "Epoch: 004/010 | Batch 200/938 | Cost: 0.1175\n",
      "Epoch: 004/010 | Batch 250/938 | Cost: 0.0818\n",
      "Epoch: 004/010 | Batch 300/938 | Cost: 0.0768\n",
      "Epoch: 004/010 | Batch 350/938 | Cost: 0.1213\n",
      "Epoch: 004/010 | Batch 400/938 | Cost: 0.1082\n",
      "Epoch: 004/010 | Batch 450/938 | Cost: 0.0524\n",
      "Epoch: 004/010 | Batch 500/938 | Cost: 0.0593\n",
      "Epoch: 004/010 | Batch 550/938 | Cost: 0.0440\n",
      "Epoch: 004/010 | Batch 600/938 | Cost: 0.0637\n",
      "Epoch: 004/010 | Batch 650/938 | Cost: 0.0830\n",
      "Epoch: 004/010 | Batch 700/938 | Cost: 0.0493\n",
      "Epoch: 004/010 | Batch 750/938 | Cost: 0.0626\n",
      "Epoch: 004/010 | Batch 800/938 | Cost: 0.1096\n",
      "Epoch: 004/010 | Batch 850/938 | Cost: 0.0492\n",
      "Epoch: 004/010 | Batch 900/938 | Cost: 0.0681\n",
      "Epoch: 004/010 training accuracy: 97.80%\n",
      "Time elapsed: 2.06 min\n",
      "Epoch: 005/010 | Batch 000/938 | Cost: 0.1466\n",
      "Epoch: 005/010 | Batch 050/938 | Cost: 0.0792\n",
      "Epoch: 005/010 | Batch 100/938 | Cost: 0.0639\n",
      "Epoch: 005/010 | Batch 150/938 | Cost: 0.0156\n",
      "Epoch: 005/010 | Batch 200/938 | Cost: 0.0696\n",
      "Epoch: 005/010 | Batch 250/938 | Cost: 0.0226\n",
      "Epoch: 005/010 | Batch 300/938 | Cost: 0.2134\n",
      "Epoch: 005/010 | Batch 350/938 | Cost: 0.0227\n",
      "Epoch: 005/010 | Batch 400/938 | Cost: 0.0724\n",
      "Epoch: 005/010 | Batch 450/938 | Cost: 0.0351\n",
      "Epoch: 005/010 | Batch 500/938 | Cost: 0.1747\n",
      "Epoch: 005/010 | Batch 550/938 | Cost: 0.0295\n",
      "Epoch: 005/010 | Batch 600/938 | Cost: 0.1066\n",
      "Epoch: 005/010 | Batch 650/938 | Cost: 0.0707\n",
      "Epoch: 005/010 | Batch 700/938 | Cost: 0.0776\n",
      "Epoch: 005/010 | Batch 750/938 | Cost: 0.2410\n",
      "Epoch: 005/010 | Batch 800/938 | Cost: 0.0303\n",
      "Epoch: 005/010 | Batch 850/938 | Cost: 0.0254\n",
      "Epoch: 005/010 | Batch 900/938 | Cost: 0.0689\n",
      "Epoch: 005/010 training accuracy: 98.09%\n",
      "Time elapsed: 2.56 min\n",
      "Epoch: 006/010 | Batch 000/938 | Cost: 0.0890\n",
      "Epoch: 006/010 | Batch 050/938 | Cost: 0.1491\n",
      "Epoch: 006/010 | Batch 100/938 | Cost: 0.0856\n",
      "Epoch: 006/010 | Batch 150/938 | Cost: 0.0208\n",
      "Epoch: 006/010 | Batch 200/938 | Cost: 0.0617\n",
      "Epoch: 006/010 | Batch 250/938 | Cost: 0.0402\n",
      "Epoch: 006/010 | Batch 300/938 | Cost: 0.0524\n",
      "Epoch: 006/010 | Batch 350/938 | Cost: 0.1123\n",
      "Epoch: 006/010 | Batch 400/938 | Cost: 0.0594\n",
      "Epoch: 006/010 | Batch 450/938 | Cost: 0.0383\n",
      "Epoch: 006/010 | Batch 500/938 | Cost: 0.0176\n",
      "Epoch: 006/010 | Batch 550/938 | Cost: 0.0697\n",
      "Epoch: 006/010 | Batch 600/938 | Cost: 0.0535\n",
      "Epoch: 006/010 | Batch 650/938 | Cost: 0.0462\n",
      "Epoch: 006/010 | Batch 700/938 | Cost: 0.1458\n",
      "Epoch: 006/010 | Batch 750/938 | Cost: 0.1193\n",
      "Epoch: 006/010 | Batch 800/938 | Cost: 0.0515\n",
      "Epoch: 006/010 | Batch 850/938 | Cost: 0.0284\n",
      "Epoch: 006/010 | Batch 900/938 | Cost: 0.0581\n",
      "Epoch: 006/010 training accuracy: 98.55%\n",
      "Time elapsed: 3.05 min\n",
      "Epoch: 007/010 | Batch 000/938 | Cost: 0.0375\n",
      "Epoch: 007/010 | Batch 050/938 | Cost: 0.0672\n",
      "Epoch: 007/010 | Batch 100/938 | Cost: 0.0389\n",
      "Epoch: 007/010 | Batch 150/938 | Cost: 0.0220\n",
      "Epoch: 007/010 | Batch 200/938 | Cost: 0.0787\n",
      "Epoch: 007/010 | Batch 250/938 | Cost: 0.0363\n",
      "Epoch: 007/010 | Batch 300/938 | Cost: 0.0636\n",
      "Epoch: 007/010 | Batch 350/938 | Cost: 0.0393\n",
      "Epoch: 007/010 | Batch 400/938 | Cost: 0.0185\n",
      "Epoch: 007/010 | Batch 450/938 | Cost: 0.0126\n",
      "Epoch: 007/010 | Batch 500/938 | Cost: 0.0905\n",
      "Epoch: 007/010 | Batch 550/938 | Cost: 0.0052\n",
      "Epoch: 007/010 | Batch 600/938 | Cost: 0.0227\n",
      "Epoch: 007/010 | Batch 650/938 | Cost: 0.0389\n",
      "Epoch: 007/010 | Batch 700/938 | Cost: 0.0331\n",
      "Epoch: 007/010 | Batch 750/938 | Cost: 0.0191\n",
      "Epoch: 007/010 | Batch 800/938 | Cost: 0.0059\n",
      "Epoch: 007/010 | Batch 850/938 | Cost: 0.0218\n",
      "Epoch: 007/010 | Batch 900/938 | Cost: 0.0066\n",
      "Epoch: 007/010 training accuracy: 98.65%\n",
      "Time elapsed: 3.54 min\n",
      "Epoch: 008/010 | Batch 000/938 | Cost: 0.0326\n",
      "Epoch: 008/010 | Batch 050/938 | Cost: 0.0146\n",
      "Epoch: 008/010 | Batch 100/938 | Cost: 0.0766\n",
      "Epoch: 008/010 | Batch 150/938 | Cost: 0.0154\n",
      "Epoch: 008/010 | Batch 200/938 | Cost: 0.0088\n",
      "Epoch: 008/010 | Batch 250/938 | Cost: 0.0197\n",
      "Epoch: 008/010 | Batch 300/938 | Cost: 0.0336\n",
      "Epoch: 008/010 | Batch 350/938 | Cost: 0.0110\n",
      "Epoch: 008/010 | Batch 400/938 | Cost: 0.0447\n",
      "Epoch: 008/010 | Batch 450/938 | Cost: 0.0110\n",
      "Epoch: 008/010 | Batch 500/938 | Cost: 0.0975\n",
      "Epoch: 008/010 | Batch 550/938 | Cost: 0.0766\n",
      "Epoch: 008/010 | Batch 600/938 | Cost: 0.0654\n",
      "Epoch: 008/010 | Batch 650/938 | Cost: 0.0136\n",
      "Epoch: 008/010 | Batch 700/938 | Cost: 0.0274\n",
      "Epoch: 008/010 | Batch 750/938 | Cost: 0.0191\n",
      "Epoch: 008/010 | Batch 800/938 | Cost: 0.0268\n",
      "Epoch: 008/010 | Batch 850/938 | Cost: 0.0393\n",
      "Epoch: 008/010 | Batch 900/938 | Cost: 0.0755\n",
      "Epoch: 008/010 training accuracy: 99.09%\n",
      "Time elapsed: 4.03 min\n",
      "Epoch: 009/010 | Batch 000/938 | Cost: 0.0173\n",
      "Epoch: 009/010 | Batch 050/938 | Cost: 0.0696\n",
      "Epoch: 009/010 | Batch 100/938 | Cost: 0.0130\n",
      "Epoch: 009/010 | Batch 150/938 | Cost: 0.0075\n",
      "Epoch: 009/010 | Batch 200/938 | Cost: 0.0164\n",
      "Epoch: 009/010 | Batch 250/938 | Cost: 0.0336\n",
      "Epoch: 009/010 | Batch 300/938 | Cost: 0.0289\n",
      "Epoch: 009/010 | Batch 350/938 | Cost: 0.0545\n",
      "Epoch: 009/010 | Batch 400/938 | Cost: 0.0117\n",
      "Epoch: 009/010 | Batch 450/938 | Cost: 0.0066\n",
      "Epoch: 009/010 | Batch 500/938 | Cost: 0.0158\n",
      "Epoch: 009/010 | Batch 550/938 | Cost: 0.0628\n",
      "Epoch: 009/010 | Batch 600/938 | Cost: 0.0356\n",
      "Epoch: 009/010 | Batch 650/938 | Cost: 0.0188\n",
      "Epoch: 009/010 | Batch 700/938 | Cost: 0.0125\n",
      "Epoch: 009/010 | Batch 750/938 | Cost: 0.0242\n",
      "Epoch: 009/010 | Batch 800/938 | Cost: 0.0152\n",
      "Epoch: 009/010 | Batch 850/938 | Cost: 0.0395\n",
      "Epoch: 009/010 | Batch 900/938 | Cost: 0.0068\n",
      "Epoch: 009/010 training accuracy: 98.46%\n",
      "Time elapsed: 4.52 min\n",
      "Epoch: 010/010 | Batch 000/938 | Cost: 0.0253\n",
      "Epoch: 010/010 | Batch 050/938 | Cost: 0.0181\n",
      "Epoch: 010/010 | Batch 100/938 | Cost: 0.0283\n",
      "Epoch: 010/010 | Batch 150/938 | Cost: 0.0166\n",
      "Epoch: 010/010 | Batch 200/938 | Cost: 0.0464\n",
      "Epoch: 010/010 | Batch 250/938 | Cost: 0.0203\n",
      "Epoch: 010/010 | Batch 300/938 | Cost: 0.0331\n",
      "Epoch: 010/010 | Batch 350/938 | Cost: 0.0080\n",
      "Epoch: 010/010 | Batch 400/938 | Cost: 0.0092\n",
      "Epoch: 010/010 | Batch 450/938 | Cost: 0.0335\n",
      "Epoch: 010/010 | Batch 500/938 | Cost: 0.0355\n",
      "Epoch: 010/010 | Batch 550/938 | Cost: 0.0351\n",
      "Epoch: 010/010 | Batch 600/938 | Cost: 0.0144\n",
      "Epoch: 010/010 | Batch 650/938 | Cost: 0.0046\n",
      "Epoch: 010/010 | Batch 700/938 | Cost: 0.0647\n",
      "Epoch: 010/010 | Batch 750/938 | Cost: 0.0147\n",
      "Epoch: 010/010 | Batch 800/938 | Cost: 0.0674\n",
      "Epoch: 010/010 | Batch 850/938 | Cost: 0.0293\n",
      "Epoch: 010/010 | Batch 900/938 | Cost: 0.0084\n",
      "Epoch: 010/010 training accuracy: 99.17%\n",
      "Time elapsed: 5.01 min\n",
      "Total Training Time: 5.01 min\n"
     ]
    }
   ],
   "source": [
    "start_time = time.time()\n",
    "for epoch in range(num_epochs):\n",
    "    model.train()\n",
    "    for batch_idx, (features, targets) in enumerate(train_loader):\n",
    "        \n",
    "        features = features.view(-1, 28*28).to(device)\n",
    "        targets = targets.to(device)\n",
    "        logits, probas = model(features)\n",
    "        cost = F.cross_entropy(logits, targets)\n",
    "        optimizer.zero_grad()\n",
    "        \n",
    "        cost.backward()\n",
    "        optimizer.step()\n",
    "        if not batch_idx % 50:\n",
    "            print ('Epoch: %03d/%03d | Batch %03d/%03d | Cost: %.4f' \n",
    "                   %(epoch+1, num_epochs, batch_idx, \n",
    "                     len(train_loader), cost))\n",
    "\n",
    "    with torch.set_grad_enabled(False):\n",
    "        print('Epoch: %03d/%03d training accuracy: %.2f%%' % (\n",
    "              epoch+1, num_epochs, \n",
    "              compute_accuracy(model, train_loader)))\n",
    "        \n",
    "    print('Time elapsed: %.2f min' % ((time.time() - start_time)/60))\n",
    "    \n",
    "print('Total Training Time: %.2f min' % ((time.time() - start_time)/60))"
   ]
  },
  {
   "cell_type": "code",
   "execution_count": 15,
   "metadata": {},
   "outputs": [
    {
     "name": "stdout",
     "output_type": "stream",
     "text": [
      "Test accuracy: 97.37%\n"
     ]
    }
   ],
   "source": [
    "print('Test accuracy: %.2f%%' % (compute_accuracy(model, test_loader)))"
   ]
  }
 ],
 "metadata": {
  "kernelspec": {
   "display_name": "base",
   "language": "python",
   "name": "python3"
  },
  "language_info": {
   "codemirror_mode": {
    "name": "ipython",
    "version": 3
   },
   "file_extension": ".py",
   "mimetype": "text/x-python",
   "name": "python",
   "nbconvert_exporter": "python",
   "pygments_lexer": "ipython3",
   "version": "3.11.5"
  },
  "toc": {
   "nav_menu": {},
   "number_sections": true,
   "sideBar": true,
   "skip_h1_title": false,
   "title_cell": "Table of Contents",
   "title_sidebar": "Contents",
   "toc_cell": false,
   "toc_position": {},
   "toc_section_display": true,
   "toc_window_display": false
  }
 },
 "nbformat": 4,
 "nbformat_minor": 2
}
