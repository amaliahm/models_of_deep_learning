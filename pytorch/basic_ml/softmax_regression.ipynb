{
 "cells": [
  {
   "cell_type": "markdown",
   "metadata": {},
   "source": [
    "# **Softmax Regression**"
   ]
  },
  {
   "cell_type": "markdown",
   "metadata": {},
   "source": [
    "## **Libraries**"
   ]
  },
  {
   "cell_type": "code",
   "execution_count": 1,
   "metadata": {},
   "outputs": [],
   "source": [
    "from torch.utils.data import DataLoader\n",
    "from torchvision import transforms\n",
    "from torchvision import datasets\n",
    "import torch.nn.functional as F\n",
    "import torch"
   ]
  },
  {
   "cell_type": "markdown",
   "metadata": {},
   "source": [
    "## **Settings**"
   ]
  },
  {
   "cell_type": "code",
   "execution_count": 2,
   "metadata": {},
   "outputs": [],
   "source": [
    "device = torch.device(\"cuda:0\" if torch.cuda.is_available() else \"cpu\")"
   ]
  },
  {
   "cell_type": "markdown",
   "metadata": {},
   "source": [
    "### **Hyperparameters**"
   ]
  },
  {
   "cell_type": "code",
   "execution_count": 3,
   "metadata": {},
   "outputs": [],
   "source": [
    "random_seed = 123\n",
    "learning_rate = 0.1\n",
    "num_epochs = 10\n",
    "batch_size = 256"
   ]
  },
  {
   "cell_type": "markdown",
   "metadata": {},
   "source": [
    "### **Architecture**"
   ]
  },
  {
   "cell_type": "code",
   "execution_count": 4,
   "metadata": {},
   "outputs": [],
   "source": [
    "num_features = 784\n",
    "num_classes = 10"
   ]
  },
  {
   "cell_type": "markdown",
   "metadata": {},
   "source": [
    "## **MNIST Dataset**"
   ]
  },
  {
   "cell_type": "code",
   "execution_count": 6,
   "metadata": {},
   "outputs": [
    {
     "name": "stderr",
     "output_type": "stream",
     "text": [
      "100%|██████████| 9.91M/9.91M [08:22<00:00, 19.7kB/s]\n",
      "100%|██████████| 28.9k/28.9k [00:00<00:00, 165kB/s]\n",
      "100%|██████████| 1.65M/1.65M [00:05<00:00, 289kB/s]\n",
      "100%|██████████| 4.54k/4.54k [00:00<00:00, 760kB/s]\n"
     ]
    }
   ],
   "source": [
    "train_dataset = datasets.MNIST(root='data', train=True, transform=transforms.ToTensor(),  download=True)\n",
    "test_dataset = datasets.MNIST(root='data', train=False, transform=transforms.ToTensor())"
   ]
  },
  {
   "cell_type": "code",
   "execution_count": 7,
   "metadata": {},
   "outputs": [],
   "source": [
    "train_loader = DataLoader(dataset=train_dataset, batch_size=batch_size, shuffle=True)\n",
    "test_loader = DataLoader(dataset=test_dataset, batch_size=batch_size, shuffle=False)"
   ]
  },
  {
   "cell_type": "code",
   "execution_count": 8,
   "metadata": {},
   "outputs": [
    {
     "name": "stdout",
     "output_type": "stream",
     "text": [
      "Image batch dimensions: torch.Size([256, 1, 28, 28])\n",
      "Image label dimensions: torch.Size([256])\n"
     ]
    }
   ],
   "source": [
    "for images, labels in train_loader:  \n",
    "    print('Image batch dimensions:', images.shape)\n",
    "    print('Image label dimensions:', labels.shape)\n",
    "    break"
   ]
  },
  {
   "cell_type": "markdown",
   "metadata": {},
   "source": [
    "## **Model**"
   ]
  },
  {
   "cell_type": "code",
   "execution_count": 9,
   "metadata": {},
   "outputs": [],
   "source": [
    "class SoftmaxRegression(torch.nn.Module):\n",
    "\n",
    "    def __init__(self, num_features, num_classes):\n",
    "        super(SoftmaxRegression, self).__init__()\n",
    "        self.linear = torch.nn.Linear(num_features, num_classes)\n",
    "        \n",
    "        self.linear.weight.detach().zero_()\n",
    "        self.linear.bias.detach().zero_()\n",
    "        \n",
    "    def forward(self, x):\n",
    "        logits = self.linear(x)\n",
    "        probas = F.softmax(logits, dim=1)\n",
    "        return logits, probas\n",
    "\n",
    "model = SoftmaxRegression(num_features=num_features, num_classes=num_classes)\n",
    "\n",
    "model.to(device)\n",
    "optimizer = torch.optim.SGD(model.parameters(), lr=learning_rate)  "
   ]
  },
  {
   "cell_type": "code",
   "execution_count": 10,
   "metadata": {},
   "outputs": [
    {
     "name": "stdout",
     "output_type": "stream",
     "text": [
      "Epoch: 001/010 | Batch 000/234 | Cost: 2.3026\n",
      "Epoch: 001/010 | Batch 050/234 | Cost: 0.7693\n",
      "Epoch: 001/010 | Batch 100/234 | Cost: 0.5321\n",
      "Epoch: 001/010 | Batch 150/234 | Cost: 0.5617\n",
      "Epoch: 001/010 | Batch 200/234 | Cost: 0.5501\n",
      "Epoch: 001/010 training accuracy: 88.05%\n",
      "Epoch: 002/010 | Batch 000/234 | Cost: 0.4793\n",
      "Epoch: 002/010 | Batch 050/234 | Cost: 0.3686\n",
      "Epoch: 002/010 | Batch 100/234 | Cost: 0.4535\n",
      "Epoch: 002/010 | Batch 150/234 | Cost: 0.3731\n",
      "Epoch: 002/010 | Batch 200/234 | Cost: 0.4791\n",
      "Epoch: 002/010 training accuracy: 89.26%\n",
      "Epoch: 003/010 | Batch 000/234 | Cost: 0.4057\n",
      "Epoch: 003/010 | Batch 050/234 | Cost: 0.4456\n",
      "Epoch: 003/010 | Batch 100/234 | Cost: 0.3770\n",
      "Epoch: 003/010 | Batch 150/234 | Cost: 0.3893\n",
      "Epoch: 003/010 | Batch 200/234 | Cost: 0.2996\n",
      "Epoch: 003/010 training accuracy: 89.94%\n",
      "Epoch: 004/010 | Batch 000/234 | Cost: 0.4298\n",
      "Epoch: 004/010 | Batch 050/234 | Cost: 0.3918\n",
      "Epoch: 004/010 | Batch 100/234 | Cost: 0.3756\n",
      "Epoch: 004/010 | Batch 150/234 | Cost: 0.3902\n",
      "Epoch: 004/010 | Batch 200/234 | Cost: 0.3132\n",
      "Epoch: 004/010 training accuracy: 90.29%\n",
      "Epoch: 005/010 | Batch 000/234 | Cost: 0.3102\n",
      "Epoch: 005/010 | Batch 050/234 | Cost: 0.3763\n",
      "Epoch: 005/010 | Batch 100/234 | Cost: 0.3618\n",
      "Epoch: 005/010 | Batch 150/234 | Cost: 0.3139\n",
      "Epoch: 005/010 | Batch 200/234 | Cost: 0.3217\n",
      "Epoch: 005/010 training accuracy: 90.61%\n",
      "Epoch: 006/010 | Batch 000/234 | Cost: 0.3214\n",
      "Epoch: 006/010 | Batch 050/234 | Cost: 0.4165\n",
      "Epoch: 006/010 | Batch 100/234 | Cost: 0.3141\n",
      "Epoch: 006/010 | Batch 150/234 | Cost: 0.2678\n",
      "Epoch: 006/010 | Batch 200/234 | Cost: 0.3189\n",
      "Epoch: 006/010 training accuracy: 90.83%\n",
      "Epoch: 007/010 | Batch 000/234 | Cost: 0.3587\n",
      "Epoch: 007/010 | Batch 050/234 | Cost: 0.3007\n",
      "Epoch: 007/010 | Batch 100/234 | Cost: 0.3010\n",
      "Epoch: 007/010 | Batch 150/234 | Cost: 0.3451\n",
      "Epoch: 007/010 | Batch 200/234 | Cost: 0.3099\n",
      "Epoch: 007/010 training accuracy: 91.01%\n",
      "Epoch: 008/010 | Batch 000/234 | Cost: 0.2991\n",
      "Epoch: 008/010 | Batch 050/234 | Cost: 0.3906\n",
      "Epoch: 008/010 | Batch 100/234 | Cost: 0.2487\n",
      "Epoch: 008/010 | Batch 150/234 | Cost: 0.3093\n",
      "Epoch: 008/010 | Batch 200/234 | Cost: 0.3785\n",
      "Epoch: 008/010 training accuracy: 91.21%\n",
      "Epoch: 009/010 | Batch 000/234 | Cost: 0.2335\n",
      "Epoch: 009/010 | Batch 050/234 | Cost: 0.2315\n",
      "Epoch: 009/010 | Batch 100/234 | Cost: 0.2376\n",
      "Epoch: 009/010 | Batch 150/234 | Cost: 0.2611\n",
      "Epoch: 009/010 | Batch 200/234 | Cost: 0.3514\n",
      "Epoch: 009/010 training accuracy: 91.32%\n",
      "Epoch: 010/010 | Batch 000/234 | Cost: 0.3314\n",
      "Epoch: 010/010 | Batch 050/234 | Cost: 0.3491\n",
      "Epoch: 010/010 | Batch 100/234 | Cost: 0.3197\n",
      "Epoch: 010/010 | Batch 150/234 | Cost: 0.3230\n",
      "Epoch: 010/010 | Batch 200/234 | Cost: 0.2563\n",
      "Epoch: 010/010 training accuracy: 91.46%\n"
     ]
    }
   ],
   "source": [
    "torch.manual_seed(random_seed)\n",
    "\n",
    "def compute_accuracy(model, data_loader):\n",
    "    correct_pred, num_examples = 0, 0\n",
    "    \n",
    "    for features, targets in data_loader:\n",
    "        features = features.view(-1, 28*28).to(device)\n",
    "        targets = targets.to(device)\n",
    "        logits, probas = model(features)\n",
    "        _, predicted_labels = torch.max(probas, 1)\n",
    "        num_examples += targets.size(0)\n",
    "        correct_pred += (predicted_labels == targets).sum()\n",
    "        \n",
    "    return correct_pred.float() / num_examples * 100\n",
    "    \n",
    "for epoch in range(num_epochs):\n",
    "    for batch_idx, (features, targets) in enumerate(train_loader):\n",
    "        \n",
    "        features = features.view(-1, 28*28).to(device)\n",
    "        targets = targets.to(device)\n",
    "        logits, probas = model(features)\n",
    "        cost = F.cross_entropy(logits, targets)\n",
    "        optimizer.zero_grad()\n",
    "        cost.backward()\n",
    "        optimizer.step()\n",
    "        if not batch_idx % 50:\n",
    "            print ('Epoch: %03d/%03d | Batch %03d/%03d | Cost: %.4f' \n",
    "                   %(epoch+1, num_epochs, batch_idx, \n",
    "                     len(train_dataset)//batch_size, cost))\n",
    "            \n",
    "    with torch.set_grad_enabled(False):\n",
    "        print('Epoch: %03d/%03d training accuracy: %.2f%%' % (\n",
    "              epoch+1, num_epochs, \n",
    "              compute_accuracy(model, train_loader)))"
   ]
  },
  {
   "cell_type": "code",
   "execution_count": null,
   "metadata": {},
   "outputs": [
    {
     "name": "stdout",
     "output_type": "stream",
     "text": [
      "Test accuracy: 91.64%\n"
     ]
    }
   ],
   "source": [
    "print('Test accuracy: %.2f%%' % (compute_accuracy(mmlxtendodel, test_loader)))"
   ]
  }
 ],
 "metadata": {
  "kernelspec": {
   "display_name": "base",
   "language": "python",
   "name": "python3"
  },
  "language_info": {
   "codemirror_mode": {
    "name": "ipython",
    "version": 3
   },
   "file_extension": ".py",
   "mimetype": "text/x-python",
   "name": "python",
   "nbconvert_exporter": "python",
   "pygments_lexer": "ipython3",
   "version": "3.11.5"
  },
  "toc": {
   "nav_menu": {},
   "number_sections": true,
   "sideBar": true,
   "skip_h1_title": false,
   "title_cell": "Table of Contents",
   "title_sidebar": "Contents",
   "toc_cell": false,
   "toc_position": {},
   "toc_section_display": true,
   "toc_window_display": false
  }
 },
 "nbformat": 4,
 "nbformat_minor": 2
}
