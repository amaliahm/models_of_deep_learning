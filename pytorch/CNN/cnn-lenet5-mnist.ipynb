{
 "cells": [
  {
   "cell_type": "markdown",
   "metadata": {
    "colab_type": "text",
    "id": "rH4XmErYj5wm"
   },
   "source": [
    "# **LeNet-5 MNIST Digits Classifier**"
   ]
  },
  {
   "cell_type": "markdown",
   "metadata": {
    "colab_type": "text",
    "id": "MkoGLH_Tj5wn"
   },
   "source": [
    "## **Libraries**"
   ]
  },
  {
   "cell_type": "code",
   "execution_count": 1,
   "metadata": {},
   "outputs": [
    {
     "name": "stderr",
     "output_type": "stream",
     "text": [
      "/home/amina/anaconda3/lib/python3.11/site-packages/pandas/core/arrays/masked.py:60: UserWarning: Pandas requires version '1.3.6' or newer of 'bottleneck' (version '1.3.5' currently installed).\n",
      "  from pandas.core import (\n"
     ]
    }
   ],
   "source": [
    "from torch.utils.data import DataLoader\n",
    "from torchvision import transforms\n",
    "from torchvision import datasets\n",
    "import torch.nn.functional as F\n",
    "import matplotlib.pyplot as plt\n",
    "from PIL import Image\n",
    "import torch.nn as nn\n",
    "import pandas as pd\n",
    "import numpy as np\n",
    "import torch\n",
    "import time\n",
    "import os"
   ]
  },
  {
   "cell_type": "code",
   "execution_count": 2,
   "metadata": {
    "colab": {
     "autoexec": {
      "startup": false,
      "wait_interval": 0
     }
    },
    "colab_type": "code",
    "id": "ORj09gnrj5wp"
   },
   "outputs": [],
   "source": [
    "if torch.cuda.is_available():\n",
    "    torch.backends.cudnn.deterministic = True"
   ]
  },
  {
   "cell_type": "markdown",
   "metadata": {
    "colab_type": "text",
    "id": "I6hghKPxj5w0"
   },
   "source": [
    "## **Model Settings**"
   ]
  },
  {
   "cell_type": "code",
   "execution_count": 3,
   "metadata": {},
   "outputs": [],
   "source": [
    "RANDOM_SEED = 1\n",
    "LEARNING_RATE = 0.001\n",
    "BATCH_SIZE = 128\n",
    "NUM_EPOCHS = 10"
   ]
  },
  {
   "cell_type": "code",
   "execution_count": 4,
   "metadata": {},
   "outputs": [],
   "source": [
    "NUM_FEATURES = 32*32\n",
    "NUM_CLASSES = 10"
   ]
  },
  {
   "cell_type": "code",
   "execution_count": 5,
   "metadata": {
    "colab": {
     "autoexec": {
      "startup": false,
      "wait_interval": 0
     },
     "base_uri": "https://localhost:8080/",
     "height": 85
    },
    "colab_type": "code",
    "executionInfo": {
     "elapsed": 23936,
     "status": "ok",
     "timestamp": 1524974497505,
     "user": {
      "displayName": "Sebastian Raschka",
      "photoUrl": "//lh6.googleusercontent.com/-cxK6yOSQ6uE/AAAAAAAAAAI/AAAAAAAAIfw/P9ar_CHsKOQ/s50-c-k-no/photo.jpg",
      "userId": "118404394130788869227"
     },
     "user_tz": 240
    },
    "id": "NnT0sZIwj5wu",
    "outputId": "55aed925-d17e-4c6a-8c71-0d9b3bde5637"
   },
   "outputs": [],
   "source": [
    "DEVICE = \"cpu\"\n",
    "GRAYSCALE = True"
   ]
  },
  {
   "cell_type": "markdown",
   "metadata": {},
   "source": [
    "## **MNIST Dataset**"
   ]
  },
  {
   "cell_type": "code",
   "execution_count": null,
   "metadata": {},
   "outputs": [],
   "source": [
    "resize_transform = transforms.Compose([transforms.Resize((32, 32)), transforms.ToTensor()])"
   ]
  },
  {
   "cell_type": "code",
   "execution_count": null,
   "metadata": {},
   "outputs": [],
   "source": [
    "train_dataset = datasets.MNIST(root='data', train=True, transform=resize_transform, download=True)\n",
    "test_dataset = datasets.MNIST(root='data', train=False, transform=resize_transform)"
   ]
  },
  {
   "cell_type": "code",
   "execution_count": 8,
   "metadata": {},
   "outputs": [],
   "source": [
    "train_loader = DataLoader(dataset=train_dataset, batch_size=BATCH_SIZE, shuffle=True)"
   ]
  },
  {
   "cell_type": "code",
   "execution_count": 9,
   "metadata": {},
   "outputs": [],
   "source": [
    "test_loader = DataLoader(dataset=test_dataset, batch_size=BATCH_SIZE, shuffle=False)"
   ]
  },
  {
   "cell_type": "code",
   "execution_count": 10,
   "metadata": {},
   "outputs": [
    {
     "name": "stdout",
     "output_type": "stream",
     "text": [
      "Image batch dimensions: torch.Size([128, 1, 32, 32])\n",
      "Image label dimensions: torch.Size([128])\n"
     ]
    }
   ],
   "source": [
    "for images, labels in train_loader:  \n",
    "    print('Image batch dimensions:', images.shape)\n",
    "    print('Image label dimensions:', labels.shape)\n",
    "    break"
   ]
  },
  {
   "cell_type": "code",
   "execution_count": 11,
   "metadata": {},
   "outputs": [
    {
     "data": {
      "text/plain": [
       "<torch._C.Generator at 0x73b1ac74a5f0>"
      ]
     },
     "execution_count": 11,
     "metadata": {},
     "output_type": "execute_result"
    }
   ],
   "source": [
    "device = torch.device(DEVICE)\n",
    "torch.manual_seed(0)"
   ]
  },
  {
   "cell_type": "code",
   "execution_count": 12,
   "metadata": {},
   "outputs": [
    {
     "name": "stdout",
     "output_type": "stream",
     "text": [
      "Epoch: 1 | Batch index: 0 | Batch size: 128\n",
      "Epoch: 2 | Batch index: 0 | Batch size: 128\n"
     ]
    }
   ],
   "source": [
    "for epoch in range(2):\n",
    "    for batch_idx, (x, y) in enumerate(train_loader):\n",
    "        print('Epoch:', epoch+1, end='')\n",
    "        print(' | Batch index:', batch_idx, end='')\n",
    "        print(' | Batch size:', y.size()[0])\n",
    "        \n",
    "        # x = x.to(device)\n",
    "        # y = y.to(device)\n",
    "        break"
   ]
  },
  {
   "cell_type": "markdown",
   "metadata": {},
   "source": [
    "## **Building the model**"
   ]
  },
  {
   "cell_type": "code",
   "execution_count": 13,
   "metadata": {},
   "outputs": [],
   "source": [
    "class LeNet5(nn.Module):\n",
    "\n",
    "    def __init__(self, num_classes, grayscale=False):\n",
    "        super(LeNet5, self).__init__()\n",
    "        \n",
    "        self.grayscale = grayscale\n",
    "        self.num_classes = num_classes\n",
    "\n",
    "        if self.grayscale:\n",
    "            in_channels = 1\n",
    "        else:\n",
    "            in_channels = 3\n",
    "\n",
    "        self.features = nn.Sequential(\n",
    "            \n",
    "            nn.Conv2d(in_channels, 6, kernel_size=5),\n",
    "            nn.MaxPool2d(kernel_size=2),\n",
    "            nn.Conv2d(6, 16, kernel_size=5),\n",
    "            nn.MaxPool2d(kernel_size=2)\n",
    "        )\n",
    "\n",
    "        self.classifier = nn.Sequential(\n",
    "            nn.Linear(16*5*5, 120),\n",
    "            nn.Linear(120, 84),\n",
    "            nn.Linear(84, num_classes),\n",
    "        )\n",
    "\n",
    "\n",
    "    def forward(self, x):\n",
    "        x = self.features(x)\n",
    "        x = torch.flatten(x, 1)\n",
    "        logits = self.classifier(x)\n",
    "        probas = F.softmax(logits, dim=1)\n",
    "        return logits, probas"
   ]
  },
  {
   "cell_type": "code",
   "execution_count": 14,
   "metadata": {},
   "outputs": [
    {
     "data": {
      "text/plain": [
       "<torch._C.Generator at 0x73b1ac74a5f0>"
      ]
     },
     "execution_count": 14,
     "metadata": {},
     "output_type": "execute_result"
    }
   ],
   "source": [
    "torch.manual_seed(RANDOM_SEED)"
   ]
  },
  {
   "cell_type": "code",
   "execution_count": 15,
   "metadata": {},
   "outputs": [
    {
     "data": {
      "text/plain": [
       "LeNet5(\n",
       "  (features): Sequential(\n",
       "    (0): Conv2d(1, 6, kernel_size=(5, 5), stride=(1, 1))\n",
       "    (1): MaxPool2d(kernel_size=2, stride=2, padding=0, dilation=1, ceil_mode=False)\n",
       "    (2): Conv2d(6, 16, kernel_size=(5, 5), stride=(1, 1))\n",
       "    (3): MaxPool2d(kernel_size=2, stride=2, padding=0, dilation=1, ceil_mode=False)\n",
       "  )\n",
       "  (classifier): Sequential(\n",
       "    (0): Linear(in_features=400, out_features=120, bias=True)\n",
       "    (1): Linear(in_features=120, out_features=84, bias=True)\n",
       "    (2): Linear(in_features=84, out_features=10, bias=True)\n",
       "  )\n",
       ")"
      ]
     },
     "execution_count": 15,
     "metadata": {},
     "output_type": "execute_result"
    }
   ],
   "source": [
    "model = LeNet5(NUM_CLASSES, GRAYSCALE)\n",
    "model.to(DEVICE)"
   ]
  },
  {
   "cell_type": "code",
   "execution_count": 16,
   "metadata": {
    "colab": {
     "autoexec": {
      "startup": false,
      "wait_interval": 0
     }
    },
    "colab_type": "code",
    "id": "_lza9t_uj5w1"
   },
   "outputs": [],
   "source": [
    "optimizer = torch.optim.Adam(model.parameters(), lr=LEARNING_RATE)  "
   ]
  },
  {
   "cell_type": "markdown",
   "metadata": {
    "colab_type": "text",
    "id": "RAodboScj5w6"
   },
   "source": [
    "## **Training phase**"
   ]
  },
  {
   "cell_type": "code",
   "execution_count": 17,
   "metadata": {},
   "outputs": [],
   "source": [
    "def compute_accuracy(model, data_loader, device):\n",
    "    correct_pred, num_examples = 0, 0\n",
    "    for i, (features, targets) in enumerate(data_loader):\n",
    "            \n",
    "        features = features.to(device)\n",
    "        targets = targets.to(device)\n",
    "\n",
    "        logits, probas = model(features)\n",
    "        _, predicted_labels = torch.max(probas, 1)\n",
    "        num_examples += targets.size(0)\n",
    "        correct_pred += (predicted_labels == targets).sum()\n",
    "    return correct_pred.float()/num_examples * 100"
   ]
  },
  {
   "cell_type": "code",
   "execution_count": 18,
   "metadata": {},
   "outputs": [
    {
     "name": "stdout",
     "output_type": "stream",
     "text": [
      "Epoch: 001/010 | Batch 0000/0469 | Cost: 2.3058\n",
      "Epoch: 001/010 | Batch 0050/0469 | Cost: 0.4081\n",
      "Epoch: 001/010 | Batch 0100/0469 | Cost: 0.2935\n",
      "Epoch: 001/010 | Batch 0150/0469 | Cost: 0.2728\n",
      "Epoch: 001/010 | Batch 0200/0469 | Cost: 0.2707\n",
      "Epoch: 001/010 | Batch 0250/0469 | Cost: 0.1097\n",
      "Epoch: 001/010 | Batch 0300/0469 | Cost: 0.1985\n",
      "Epoch: 001/010 | Batch 0350/0469 | Cost: 0.1474\n",
      "Epoch: 001/010 | Batch 0400/0469 | Cost: 0.1713\n",
      "Epoch: 001/010 | Batch 0450/0469 | Cost: 0.1108\n",
      "Epoch: 001/010 | Train: 96.682%\n",
      "Time elapsed: 0.89 min\n",
      "Epoch: 002/010 | Batch 0000/0469 | Cost: 0.2040\n",
      "Epoch: 002/010 | Batch 0050/0469 | Cost: 0.0632\n",
      "Epoch: 002/010 | Batch 0100/0469 | Cost: 0.0651\n",
      "Epoch: 002/010 | Batch 0150/0469 | Cost: 0.0811\n",
      "Epoch: 002/010 | Batch 0200/0469 | Cost: 0.2704\n",
      "Epoch: 002/010 | Batch 0250/0469 | Cost: 0.1415\n",
      "Epoch: 002/010 | Batch 0300/0469 | Cost: 0.1372\n",
      "Epoch: 002/010 | Batch 0350/0469 | Cost: 0.0665\n",
      "Epoch: 002/010 | Batch 0400/0469 | Cost: 0.2061\n",
      "Epoch: 002/010 | Batch 0450/0469 | Cost: 0.0273\n",
      "Epoch: 002/010 | Train: 97.792%\n",
      "Time elapsed: 1.76 min\n",
      "Epoch: 003/010 | Batch 0000/0469 | Cost: 0.0196\n",
      "Epoch: 003/010 | Batch 0050/0469 | Cost: 0.0796\n",
      "Epoch: 003/010 | Batch 0100/0469 | Cost: 0.0714\n",
      "Epoch: 003/010 | Batch 0150/0469 | Cost: 0.1306\n",
      "Epoch: 003/010 | Batch 0200/0469 | Cost: 0.1401\n",
      "Epoch: 003/010 | Batch 0250/0469 | Cost: 0.1459\n",
      "Epoch: 003/010 | Batch 0300/0469 | Cost: 0.0988\n",
      "Epoch: 003/010 | Batch 0350/0469 | Cost: 0.0505\n",
      "Epoch: 003/010 | Batch 0400/0469 | Cost: 0.0693\n",
      "Epoch: 003/010 | Batch 0450/0469 | Cost: 0.0835\n",
      "Epoch: 003/010 | Train: 98.070%\n",
      "Time elapsed: 2.64 min\n",
      "Epoch: 004/010 | Batch 0000/0469 | Cost: 0.1018\n",
      "Epoch: 004/010 | Batch 0050/0469 | Cost: 0.0433\n",
      "Epoch: 004/010 | Batch 0100/0469 | Cost: 0.1061\n",
      "Epoch: 004/010 | Batch 0150/0469 | Cost: 0.0644\n",
      "Epoch: 004/010 | Batch 0200/0469 | Cost: 0.1291\n",
      "Epoch: 004/010 | Batch 0250/0469 | Cost: 0.0694\n",
      "Epoch: 004/010 | Batch 0300/0469 | Cost: 0.1044\n",
      "Epoch: 004/010 | Batch 0350/0469 | Cost: 0.0531\n",
      "Epoch: 004/010 | Batch 0400/0469 | Cost: 0.0572\n",
      "Epoch: 004/010 | Batch 0450/0469 | Cost: 0.0816\n",
      "Epoch: 004/010 | Train: 98.098%\n",
      "Time elapsed: 3.52 min\n",
      "Epoch: 005/010 | Batch 0000/0469 | Cost: 0.0344\n",
      "Epoch: 005/010 | Batch 0050/0469 | Cost: 0.0934\n",
      "Epoch: 005/010 | Batch 0100/0469 | Cost: 0.0205\n",
      "Epoch: 005/010 | Batch 0150/0469 | Cost: 0.0233\n",
      "Epoch: 005/010 | Batch 0200/0469 | Cost: 0.0491\n",
      "Epoch: 005/010 | Batch 0250/0469 | Cost: 0.0680\n",
      "Epoch: 005/010 | Batch 0300/0469 | Cost: 0.0089\n",
      "Epoch: 005/010 | Batch 0350/0469 | Cost: 0.0471\n",
      "Epoch: 005/010 | Batch 0400/0469 | Cost: 0.0511\n",
      "Epoch: 005/010 | Batch 0450/0469 | Cost: 0.0306\n",
      "Epoch: 005/010 | Train: 98.613%\n",
      "Time elapsed: 4.40 min\n",
      "Epoch: 006/010 | Batch 0000/0469 | Cost: 0.0303\n",
      "Epoch: 006/010 | Batch 0050/0469 | Cost: 0.0557\n",
      "Epoch: 006/010 | Batch 0100/0469 | Cost: 0.1051\n",
      "Epoch: 006/010 | Batch 0150/0469 | Cost: 0.0259\n",
      "Epoch: 006/010 | Batch 0200/0469 | Cost: 0.0076\n",
      "Epoch: 006/010 | Batch 0250/0469 | Cost: 0.1472\n",
      "Epoch: 006/010 | Batch 0300/0469 | Cost: 0.0247\n",
      "Epoch: 006/010 | Batch 0350/0469 | Cost: 0.0206\n",
      "Epoch: 006/010 | Batch 0400/0469 | Cost: 0.0208\n",
      "Epoch: 006/010 | Batch 0450/0469 | Cost: 0.0376\n",
      "Epoch: 006/010 | Train: 98.563%\n",
      "Time elapsed: 5.28 min\n",
      "Epoch: 007/010 | Batch 0000/0469 | Cost: 0.0763\n",
      "Epoch: 007/010 | Batch 0050/0469 | Cost: 0.0250\n",
      "Epoch: 007/010 | Batch 0100/0469 | Cost: 0.0556\n",
      "Epoch: 007/010 | Batch 0150/0469 | Cost: 0.0203\n",
      "Epoch: 007/010 | Batch 0200/0469 | Cost: 0.0388\n",
      "Epoch: 007/010 | Batch 0250/0469 | Cost: 0.0790\n",
      "Epoch: 007/010 | Batch 0300/0469 | Cost: 0.0554\n",
      "Epoch: 007/010 | Batch 0350/0469 | Cost: 0.0126\n",
      "Epoch: 007/010 | Batch 0400/0469 | Cost: 0.0176\n",
      "Epoch: 007/010 | Batch 0450/0469 | Cost: 0.0198\n",
      "Epoch: 007/010 | Train: 98.622%\n",
      "Time elapsed: 6.16 min\n",
      "Epoch: 008/010 | Batch 0000/0469 | Cost: 0.0611\n",
      "Epoch: 008/010 | Batch 0050/0469 | Cost: 0.1303\n",
      "Epoch: 008/010 | Batch 0100/0469 | Cost: 0.0637\n",
      "Epoch: 008/010 | Batch 0150/0469 | Cost: 0.0086\n",
      "Epoch: 008/010 | Batch 0200/0469 | Cost: 0.0186\n",
      "Epoch: 008/010 | Batch 0250/0469 | Cost: 0.0475\n",
      "Epoch: 008/010 | Batch 0300/0469 | Cost: 0.0444\n",
      "Epoch: 008/010 | Batch 0350/0469 | Cost: 0.0430\n",
      "Epoch: 008/010 | Batch 0400/0469 | Cost: 0.0405\n",
      "Epoch: 008/010 | Batch 0450/0469 | Cost: 0.0160\n",
      "Epoch: 008/010 | Train: 98.487%\n",
      "Time elapsed: 7.09 min\n",
      "Epoch: 009/010 | Batch 0000/0469 | Cost: 0.0350\n",
      "Epoch: 009/010 | Batch 0050/0469 | Cost: 0.0845\n",
      "Epoch: 009/010 | Batch 0100/0469 | Cost: 0.0204\n",
      "Epoch: 009/010 | Batch 0150/0469 | Cost: 0.0183\n",
      "Epoch: 009/010 | Batch 0200/0469 | Cost: 0.0435\n",
      "Epoch: 009/010 | Batch 0250/0469 | Cost: 0.0951\n",
      "Epoch: 009/010 | Batch 0300/0469 | Cost: 0.0203\n",
      "Epoch: 009/010 | Batch 0350/0469 | Cost: 0.0955\n",
      "Epoch: 009/010 | Batch 0400/0469 | Cost: 0.0174\n",
      "Epoch: 009/010 | Batch 0450/0469 | Cost: 0.0289\n",
      "Epoch: 009/010 | Train: 98.775%\n",
      "Time elapsed: 7.99 min\n",
      "Epoch: 010/010 | Batch 0000/0469 | Cost: 0.0254\n",
      "Epoch: 010/010 | Batch 0050/0469 | Cost: 0.0753\n",
      "Epoch: 010/010 | Batch 0100/0469 | Cost: 0.0260\n",
      "Epoch: 010/010 | Batch 0150/0469 | Cost: 0.0467\n",
      "Epoch: 010/010 | Batch 0200/0469 | Cost: 0.0410\n",
      "Epoch: 010/010 | Batch 0250/0469 | Cost: 0.0518\n",
      "Epoch: 010/010 | Batch 0300/0469 | Cost: 0.0161\n",
      "Epoch: 010/010 | Batch 0350/0469 | Cost: 0.0793\n",
      "Epoch: 010/010 | Batch 0400/0469 | Cost: 0.0369\n",
      "Epoch: 010/010 | Batch 0450/0469 | Cost: 0.0370\n",
      "Epoch: 010/010 | Train: 98.972%\n",
      "Time elapsed: 8.89 min\n"
     ]
    }
   ],
   "source": [
    "start_time = time.time()\n",
    "for epoch in range(NUM_EPOCHS):\n",
    "    model.train()\n",
    "    for batch_idx, (features, targets) in enumerate(train_loader):\n",
    "        features = features.to(DEVICE)\n",
    "        targets = targets.to(DEVICE)\n",
    "            \n",
    "        logits, probas = model(features)\n",
    "        cost = F.cross_entropy(logits, targets)\n",
    "        optimizer.zero_grad()\n",
    "        \n",
    "        cost.backward()\n",
    "        optimizer.step()\n",
    "        \n",
    "        if not batch_idx % 50:\n",
    "            print ('Epoch: %03d/%03d | Batch %04d/%04d | Cost: %.4f' %(epoch+1, NUM_EPOCHS, batch_idx, len(train_loader), cost))\n",
    "    model.eval()\n",
    "    with torch.set_grad_enabled(False):\n",
    "        print('Epoch: %03d/%03d | Train: %.3f%%' % (\n",
    "              epoch+1, NUM_EPOCHS, \n",
    "              compute_accuracy(model, train_loader, device=DEVICE)))\n",
    "        \n",
    "    print('Time elapsed: %.2f min' % ((time.time() - start_time)/60))"
   ]
  },
  {
   "cell_type": "code",
   "execution_count": 19,
   "metadata": {
    "colab": {
     "autoexec": {
      "startup": false,
      "wait_interval": 0
     },
     "base_uri": "https://localhost:8080/",
     "height": 1547
    },
    "colab_type": "code",
    "executionInfo": {
     "elapsed": 2384585,
     "status": "ok",
     "timestamp": 1524976888520,
     "user": {
      "displayName": "Sebastian Raschka",
      "photoUrl": "//lh6.googleusercontent.com/-cxK6yOSQ6uE/AAAAAAAAAAI/AAAAAAAAIfw/P9ar_CHsKOQ/s50-c-k-no/photo.jpg",
      "userId": "118404394130788869227"
     },
     "user_tz": 240
    },
    "id": "Dzh3ROmRj5w7",
    "outputId": "5f8fd8c9-b076-403a-b0b7-fd2d498b48d7"
   },
   "outputs": [
    {
     "name": "stdout",
     "output_type": "stream",
     "text": [
      "Total Training Time: 8.89 min\n"
     ]
    }
   ],
   "source": [
    "print('Total Training Time: %.2f min' % ((time.time() - start_time)/60))"
   ]
  },
  {
   "cell_type": "markdown",
   "metadata": {
    "colab_type": "text",
    "id": "paaeEQHQj5xC"
   },
   "source": [
    "## **Evaluation**"
   ]
  },
  {
   "cell_type": "code",
   "execution_count": 20,
   "metadata": {
    "colab": {
     "autoexec": {
      "startup": false,
      "wait_interval": 0
     },
     "base_uri": "https://localhost:8080/",
     "height": 34
    },
    "colab_type": "code",
    "executionInfo": {
     "elapsed": 6514,
     "status": "ok",
     "timestamp": 1524976895054,
     "user": {
      "displayName": "Sebastian Raschka",
      "photoUrl": "//lh6.googleusercontent.com/-cxK6yOSQ6uE/AAAAAAAAAAI/AAAAAAAAIfw/P9ar_CHsKOQ/s50-c-k-no/photo.jpg",
      "userId": "118404394130788869227"
     },
     "user_tz": 240
    },
    "id": "gzQMWKq5j5xE",
    "outputId": "de7dc005-5eeb-4177-9f9f-d9b5d1358db9"
   },
   "outputs": [
    {
     "name": "stdout",
     "output_type": "stream",
     "text": [
      "Test accuracy: 98.48%\n"
     ]
    }
   ],
   "source": [
    "with torch.set_grad_enabled(False):\n",
    "    print('Test accuracy: %.2f%%' % (compute_accuracy(model, test_loader, device=DEVICE)))"
   ]
  },
  {
   "cell_type": "code",
   "execution_count": 21,
   "metadata": {},
   "outputs": [],
   "source": [
    "for batch_idx, (features, targets) in enumerate(test_loader):\n",
    "    features = features\n",
    "    targets = targets\n",
    "    break"
   ]
  },
  {
   "cell_type": "code",
   "execution_count": 22,
   "metadata": {},
   "outputs": [
    {
     "data": {
      "image/png": "[encoded data removed]",
      "text/plain": [
       "<Figure size 640x480 with 1 Axes>"
      ]
     },
     "metadata": {},
     "output_type": "display_data"
    }
   ],
   "source": [
    "nhwc_img = np.transpose(features[0], axes=(1, 2, 0))\n",
    "nhw_img = np.squeeze(nhwc_img.numpy(), axis=2)\n",
    "plt.imshow(nhw_img, cmap='Greys');"
   ]
  },
  {
   "cell_type": "code",
   "execution_count": 23,
   "metadata": {},
   "outputs": [
    {
     "name": "stdout",
     "output_type": "stream",
     "text": [
      "Probability 7 100.00%\n"
     ]
    }
   ],
   "source": [
    "model.eval()\n",
    "logits, probas = model(features.to(device)[0, None])\n",
    "print('Probability 7 %.2f%%' % (probas[0][7]*100))"
   ]
  }
 ],
 "metadata": {
  "accelerator": "GPU",
  "colab": {
   "collapsed_sections": [],
   "default_view": {},
   "name": "convnet-vgg16.ipynb",
   "provenance": [],
   "version": "0.3.2",
   "views": {}
  },
  "kernelspec": {
   "display_name": "base",
   "language": "python",
   "name": "python3"
  },
  "language_info": {
   "codemirror_mode": {
    "name": "ipython",
    "version": 3
   },
   "file_extension": ".py",
   "mimetype": "text/x-python",
   "name": "python",
   "nbconvert_exporter": "python",
   "pygments_lexer": "ipython3",
   "version": "3.11.5"
  },
  "toc": {
   "nav_menu": {},
   "number_sections": true,
   "sideBar": true,
   "skip_h1_title": false,
   "title_cell": "Table of Contents",
   "title_sidebar": "Contents",
   "toc_cell": true,
   "toc_position": {
    "height": "calc(100% - 180px)",
    "left": "10px",
    "top": "150px",
    "width": "371px"
   },
   "toc_section_display": true,
   "toc_window_display": true
  }
 },
 "nbformat": 4,
 "nbformat_minor": 4
}
