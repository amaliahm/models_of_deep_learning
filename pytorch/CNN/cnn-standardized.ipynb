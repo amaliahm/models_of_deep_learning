{
 "cells": [
  {
   "cell_type": "markdown",
   "metadata": {},
   "source": [
    "# **Standardizing Images**"
   ]
  },
  {
   "cell_type": "markdown",
   "metadata": {},
   "source": [
    "## **Libraries**"
   ]
  },
  {
   "cell_type": "code",
   "execution_count": 1,
   "metadata": {},
   "outputs": [],
   "source": [
    "from torch.utils.data import DataLoader\n",
    "from torchvision import transforms\n",
    "from torchvision import datasets\n",
    "import torch.nn.functional as F\n",
    "import numpy as np\n",
    "import torch\n",
    "import time"
   ]
  },
  {
   "cell_type": "code",
   "execution_count": 2,
   "metadata": {},
   "outputs": [],
   "source": [
    "if torch.cuda.is_available():\n",
    "    torch.backends.cudnn.deterministic = True"
   ]
  },
  {
   "cell_type": "markdown",
   "metadata": {},
   "source": [
    "## **Settings**"
   ]
  },
  {
   "cell_type": "code",
   "execution_count": 3,
   "metadata": {},
   "outputs": [],
   "source": [
    "device = torch.device(\"cuda:0\" if torch.cuda.is_available() else \"cpu\")"
   ]
  },
  {
   "cell_type": "code",
   "execution_count": 4,
   "metadata": {},
   "outputs": [],
   "source": [
    "random_seed = 1\n",
    "learning_rate = 0.05\n",
    "num_epochs = 10\n",
    "batch_size = 128"
   ]
  },
  {
   "cell_type": "code",
   "execution_count": 5,
   "metadata": {},
   "outputs": [],
   "source": [
    "num_classes = 10"
   ]
  },
  {
   "cell_type": "markdown",
   "metadata": {},
   "source": [
    "Compute the Mean and Standard Deviation for Normalization"
   ]
  },
  {
   "cell_type": "code",
   "execution_count": 6,
   "metadata": {},
   "outputs": [],
   "source": [
    "train_dataset = datasets.MNIST(root='data', train=True, transform=transforms.ToTensor(), download=True)\n",
    "train_loader = DataLoader(dataset=train_dataset, batch_size=batch_size, shuffle=False)"
   ]
  },
  {
   "cell_type": "code",
   "execution_count": 7,
   "metadata": {},
   "outputs": [],
   "source": [
    "train_mean = []\n",
    "train_std = []\n",
    "\n",
    "for i, image in enumerate(train_loader, 0):\n",
    "    numpy_image = image[0].numpy()\n",
    "    \n",
    "    batch_mean = np.mean(numpy_image, axis=(0, 2, 3))\n",
    "    batch_std = np.std(numpy_image, axis=(0, 2, 3))\n",
    "    \n",
    "    train_mean.append(batch_mean)\n",
    "    train_std.append(batch_std)"
   ]
  },
  {
   "cell_type": "code",
   "execution_count": 8,
   "metadata": {},
   "outputs": [],
   "source": [
    "train_mean = torch.tensor(np.mean(train_mean, axis=0))\n",
    "train_std = torch.tensor(np.mean(train_std, axis=0))"
   ]
  },
  {
   "cell_type": "code",
   "execution_count": 9,
   "metadata": {},
   "outputs": [
    {
     "name": "stdout",
     "output_type": "stream",
     "text": [
      "Mean: tensor([0.1307])\n",
      "Std Dev: tensor([0.3077])\n"
     ]
    }
   ],
   "source": [
    "print('Mean:', train_mean)\n",
    "print('Std Dev:', train_std)"
   ]
  },
  {
   "cell_type": "markdown",
   "metadata": {},
   "source": [
    "Standardized Dataset Loader"
   ]
  },
  {
   "cell_type": "code",
   "execution_count": 10,
   "metadata": {},
   "outputs": [],
   "source": [
    "custom_transform = transforms.Compose([transforms.ToTensor(), transforms.Normalize(mean=train_mean, std=train_std)])"
   ]
  },
  {
   "cell_type": "markdown",
   "metadata": {},
   "source": [
    "## **MNIST dataset**"
   ]
  },
  {
   "cell_type": "code",
   "execution_count": 11,
   "metadata": {},
   "outputs": [],
   "source": [
    "train_dataset = datasets.MNIST(root='data', train=True, transform=custom_transform, download=True)\n",
    "test_dataset = datasets.MNIST(root='data', train=False, transform=custom_transform)"
   ]
  },
  {
   "cell_type": "code",
   "execution_count": 12,
   "metadata": {},
   "outputs": [],
   "source": [
    "train_loader = DataLoader(dataset=train_dataset, batch_size=batch_size, shuffle=True)\n",
    "test_loader = DataLoader(dataset=test_dataset, batch_size=batch_size, shuffle=False)"
   ]
  },
  {
   "cell_type": "code",
   "execution_count": 13,
   "metadata": {},
   "outputs": [
    {
     "name": "stdout",
     "output_type": "stream",
     "text": [
      "Image batch dimensions: torch.Size([128, 1, 28, 28])\n",
      "Image label dimensions: torch.Size([128])\n"
     ]
    }
   ],
   "source": [
    "for images, labels in train_loader:  \n",
    "    print('Image batch dimensions:', images.shape)\n",
    "    print('Image label dimensions:', labels.shape)\n",
    "    break"
   ]
  },
  {
   "cell_type": "code",
   "execution_count": 14,
   "metadata": {},
   "outputs": [
    {
     "name": "stdout",
     "output_type": "stream",
     "text": [
      "Channel mean: tensor(0.0120)\n",
      "Channel std: tensor(1.0132)\n"
     ]
    }
   ],
   "source": [
    "print('Channel mean:', torch.mean(images[:, 0, :, :]))\n",
    "print('Channel std:', torch.std(images[:, 0, :, :]))"
   ]
  },
  {
   "cell_type": "markdown",
   "metadata": {},
   "source": [
    "## **Building the model**"
   ]
  },
  {
   "cell_type": "code",
   "execution_count": 15,
   "metadata": {},
   "outputs": [],
   "source": [
    "class ConvNet(torch.nn.Module):\n",
    "\n",
    "    def __init__(self, num_classes):\n",
    "        super(ConvNet, self).__init__()\n",
    "\n",
    "        # 28x28x1 => 28x28x4\n",
    "        self.conv_1 = torch.nn.Conv2d(in_channels=1,\n",
    "                                      out_channels=4,\n",
    "                                      kernel_size=(3, 3),\n",
    "                                      stride=(1, 1),\n",
    "                                      padding=1) # (1(28-1) - 28 + 3) / 2 = 1\n",
    "        # 28x28x4 => 14x14x4\n",
    "        self.pool_1 = torch.nn.MaxPool2d(kernel_size=(2, 2),\n",
    "                                         stride=(2, 2),\n",
    "                                         padding=0) # (2(14-1) - 28 + 2) = 0                                       \n",
    "        # 14x14x4 => 14x14x8\n",
    "        self.conv_2 = torch.nn.Conv2d(in_channels=4,\n",
    "                                      out_channels=8,\n",
    "                                      kernel_size=(3, 3),\n",
    "                                      stride=(1, 1),\n",
    "                                      padding=1) # (1(14-1) - 14 + 3) / 2 = 1                 \n",
    "        # 14x14x8 => 7x7x8                             \n",
    "        self.pool_2 = torch.nn.MaxPool2d(kernel_size=(2, 2),\n",
    "                                         stride=(2, 2),\n",
    "                                         padding=0) # (2(7-1) - 14 + 2) = 0\n",
    "        \n",
    "        self.linear_1 = torch.nn.Linear(7*7*8, num_classes)\n",
    "\n",
    "        \n",
    "    def forward(self, x):\n",
    "        out = self.conv_1(x)\n",
    "        out = F.relu(out)\n",
    "        out = self.pool_1(out)\n",
    "\n",
    "        out = self.conv_2(out)\n",
    "        out = F.relu(out)\n",
    "        out = self.pool_2(out)\n",
    "        \n",
    "        logits = self.linear_1(out.view(-1, 7*7*8))\n",
    "        probas = F.softmax(logits, dim=1)\n",
    "        return logits, probas"
   ]
  },
  {
   "cell_type": "code",
   "execution_count": 16,
   "metadata": {},
   "outputs": [],
   "source": [
    "torch.manual_seed(random_seed)\n",
    "model = ConvNet(num_classes=num_classes)"
   ]
  },
  {
   "cell_type": "code",
   "execution_count": 17,
   "metadata": {},
   "outputs": [],
   "source": [
    "model = model.to(device)"
   ]
  },
  {
   "cell_type": "code",
   "execution_count": 18,
   "metadata": {},
   "outputs": [],
   "source": [
    "optimizer = torch.optim.SGD(model.parameters(), lr=learning_rate)  "
   ]
  },
  {
   "cell_type": "markdown",
   "metadata": {},
   "source": [
    "## **Training phase**"
   ]
  },
  {
   "cell_type": "code",
   "execution_count": 19,
   "metadata": {},
   "outputs": [],
   "source": [
    "def compute_accuracy(model, data_loader):\n",
    "    correct_pred, num_examples = 0, 0\n",
    "    for features, targets in data_loader:\n",
    "        features = features.to(device)\n",
    "        targets = targets.to(device)\n",
    "        logits, probas = model(features)\n",
    "        _, predicted_labels = torch.max(probas, 1)\n",
    "        num_examples += targets.size(0)\n",
    "        correct_pred += (predicted_labels == targets).sum()\n",
    "    return correct_pred.float()/num_examples * 100"
   ]
  },
  {
   "cell_type": "code",
   "execution_count": 21,
   "metadata": {},
   "outputs": [
    {
     "name": "stdout",
     "output_type": "stream",
     "text": [
      "Epoch: 001/010 | Batch 000/469 | Cost: 2.3226\n",
      "Epoch: 001/010 | Batch 050/469 | Cost: 0.6869\n",
      "Epoch: 001/010 | Batch 100/469 | Cost: 0.3672\n",
      "Epoch: 001/010 | Batch 150/469 | Cost: 0.1709\n",
      "Epoch: 001/010 | Batch 200/469 | Cost: 0.1696\n",
      "Epoch: 001/010 | Batch 250/469 | Cost: 0.1216\n",
      "Epoch: 001/010 | Batch 300/469 | Cost: 0.1375\n",
      "Epoch: 001/010 | Batch 350/469 | Cost: 0.1643\n",
      "Epoch: 001/010 | Batch 400/469 | Cost: 0.1692\n",
      "Epoch: 001/010 | Batch 450/469 | Cost: 0.1302\n",
      "Epoch: 001/010 training accuracy: 93.55%\n",
      "Time elapsed: 0.94 min\n",
      "Epoch: 002/010 | Batch 000/469 | Cost: 0.3376\n",
      "Epoch: 002/010 | Batch 050/469 | Cost: 0.0870\n",
      "Epoch: 002/010 | Batch 100/469 | Cost: 0.1786\n",
      "Epoch: 002/010 | Batch 150/469 | Cost: 0.1353\n",
      "Epoch: 002/010 | Batch 200/469 | Cost: 0.1302\n",
      "Epoch: 002/010 | Batch 250/469 | Cost: 0.1282\n",
      "Epoch: 002/010 | Batch 300/469 | Cost: 0.0811\n",
      "Epoch: 002/010 | Batch 350/469 | Cost: 0.1510\n",
      "Epoch: 002/010 | Batch 400/469 | Cost: 0.1340\n",
      "Epoch: 002/010 | Batch 450/469 | Cost: 0.0909\n",
      "Epoch: 002/010 training accuracy: 96.52%\n",
      "Time elapsed: 1.84 min\n",
      "Epoch: 003/010 | Batch 000/469 | Cost: 0.1455\n",
      "Epoch: 003/010 | Batch 050/469 | Cost: 0.1308\n",
      "Epoch: 003/010 | Batch 100/469 | Cost: 0.1196\n",
      "Epoch: 003/010 | Batch 150/469 | Cost: 0.2389\n",
      "Epoch: 003/010 | Batch 200/469 | Cost: 0.1535\n",
      "Epoch: 003/010 | Batch 250/469 | Cost: 0.0503\n",
      "Epoch: 003/010 | Batch 300/469 | Cost: 0.1140\n",
      "Epoch: 003/010 | Batch 350/469 | Cost: 0.0747\n",
      "Epoch: 003/010 | Batch 400/469 | Cost: 0.0578\n",
      "Epoch: 003/010 | Batch 450/469 | Cost: 0.1206\n",
      "Epoch: 003/010 training accuracy: 96.99%\n",
      "Time elapsed: 2.76 min\n",
      "Epoch: 004/010 | Batch 000/469 | Cost: 0.0461\n",
      "Epoch: 004/010 | Batch 050/469 | Cost: 0.0912\n",
      "Epoch: 004/010 | Batch 100/469 | Cost: 0.1832\n",
      "Epoch: 004/010 | Batch 150/469 | Cost: 0.0747\n",
      "Epoch: 004/010 | Batch 200/469 | Cost: 0.0534\n",
      "Epoch: 004/010 | Batch 250/469 | Cost: 0.1226\n",
      "Epoch: 004/010 | Batch 300/469 | Cost: 0.0859\n",
      "Epoch: 004/010 | Batch 350/469 | Cost: 0.1310\n",
      "Epoch: 004/010 | Batch 400/469 | Cost: 0.0724\n",
      "Epoch: 004/010 | Batch 450/469 | Cost: 0.0692\n",
      "Epoch: 004/010 training accuracy: 96.91%\n",
      "Time elapsed: 3.72 min\n",
      "Epoch: 005/010 | Batch 000/469 | Cost: 0.0726\n",
      "Epoch: 005/010 | Batch 050/469 | Cost: 0.0867\n",
      "Epoch: 005/010 | Batch 100/469 | Cost: 0.0743\n",
      "Epoch: 005/010 | Batch 150/469 | Cost: 0.1265\n",
      "Epoch: 005/010 | Batch 200/469 | Cost: 0.0364\n",
      "Epoch: 005/010 | Batch 250/469 | Cost: 0.0406\n",
      "Epoch: 005/010 | Batch 300/469 | Cost: 0.0282\n",
      "Epoch: 005/010 | Batch 350/469 | Cost: 0.0840\n",
      "Epoch: 005/010 | Batch 400/469 | Cost: 0.0615\n",
      "Epoch: 005/010 | Batch 450/469 | Cost: 0.0934\n",
      "Epoch: 005/010 training accuracy: 97.62%\n",
      "Time elapsed: 4.65 min\n",
      "Epoch: 006/010 | Batch 000/469 | Cost: 0.0606\n",
      "Epoch: 006/010 | Batch 050/469 | Cost: 0.0787\n",
      "Epoch: 006/010 | Batch 100/469 | Cost: 0.1721\n",
      "Epoch: 006/010 | Batch 150/469 | Cost: 0.0765\n",
      "Epoch: 006/010 | Batch 200/469 | Cost: 0.0708\n",
      "Epoch: 006/010 | Batch 250/469 | Cost: 0.1069\n",
      "Epoch: 006/010 | Batch 300/469 | Cost: 0.1099\n",
      "Epoch: 006/010 | Batch 350/469 | Cost: 0.0971\n",
      "Epoch: 006/010 | Batch 400/469 | Cost: 0.0612\n",
      "Epoch: 006/010 | Batch 450/469 | Cost: 0.0265\n",
      "Epoch: 006/010 training accuracy: 97.90%\n",
      "Time elapsed: 5.56 min\n",
      "Epoch: 007/010 | Batch 000/469 | Cost: 0.1342\n",
      "Epoch: 007/010 | Batch 050/469 | Cost: 0.0955\n",
      "Epoch: 007/010 | Batch 100/469 | Cost: 0.0491\n",
      "Epoch: 007/010 | Batch 150/469 | Cost: 0.0375\n",
      "Epoch: 007/010 | Batch 200/469 | Cost: 0.0525\n",
      "Epoch: 007/010 | Batch 250/469 | Cost: 0.1446\n",
      "Epoch: 007/010 | Batch 300/469 | Cost: 0.0888\n",
      "Epoch: 007/010 | Batch 350/469 | Cost: 0.0720\n",
      "Epoch: 007/010 | Batch 400/469 | Cost: 0.0647\n",
      "Epoch: 007/010 | Batch 450/469 | Cost: 0.0924\n",
      "Epoch: 007/010 training accuracy: 98.01%\n",
      "Time elapsed: 6.55 min\n",
      "Epoch: 008/010 | Batch 000/469 | Cost: 0.0638\n",
      "Epoch: 008/010 | Batch 050/469 | Cost: 0.0468\n",
      "Epoch: 008/010 | Batch 100/469 | Cost: 0.0653\n",
      "Epoch: 008/010 | Batch 150/469 | Cost: 0.0375\n",
      "Epoch: 008/010 | Batch 200/469 | Cost: 0.0671\n",
      "Epoch: 008/010 | Batch 250/469 | Cost: 0.0781\n",
      "Epoch: 008/010 | Batch 300/469 | Cost: 0.0159\n",
      "Epoch: 008/010 | Batch 350/469 | Cost: 0.1415\n",
      "Epoch: 008/010 | Batch 400/469 | Cost: 0.0724\n",
      "Epoch: 008/010 | Batch 450/469 | Cost: 0.0779\n",
      "Epoch: 008/010 training accuracy: 98.17%\n",
      "Time elapsed: 8.09 min\n",
      "Epoch: 009/010 | Batch 000/469 | Cost: 0.0942\n",
      "Epoch: 009/010 | Batch 050/469 | Cost: 0.0665\n",
      "Epoch: 009/010 | Batch 100/469 | Cost: 0.0202\n",
      "Epoch: 009/010 | Batch 150/469 | Cost: 0.0353\n",
      "Epoch: 009/010 | Batch 200/469 | Cost: 0.1575\n",
      "Epoch: 009/010 | Batch 250/469 | Cost: 0.0322\n",
      "Epoch: 009/010 | Batch 300/469 | Cost: 0.0715\n",
      "Epoch: 009/010 | Batch 350/469 | Cost: 0.1175\n",
      "Epoch: 009/010 | Batch 400/469 | Cost: 0.0390\n",
      "Epoch: 009/010 | Batch 450/469 | Cost: 0.0369\n",
      "Epoch: 009/010 training accuracy: 98.29%\n",
      "Time elapsed: 9.48 min\n",
      "Epoch: 010/010 | Batch 000/469 | Cost: 0.0533\n",
      "Epoch: 010/010 | Batch 050/469 | Cost: 0.0100\n",
      "Epoch: 010/010 | Batch 100/469 | Cost: 0.0293\n",
      "Epoch: 010/010 | Batch 150/469 | Cost: 0.0639\n",
      "Epoch: 010/010 | Batch 200/469 | Cost: 0.0611\n",
      "Epoch: 010/010 | Batch 250/469 | Cost: 0.0730\n",
      "Epoch: 010/010 | Batch 300/469 | Cost: 0.0410\n",
      "Epoch: 010/010 | Batch 350/469 | Cost: 0.0739\n",
      "Epoch: 010/010 | Batch 400/469 | Cost: 0.0264\n",
      "Epoch: 010/010 | Batch 450/469 | Cost: 0.0570\n",
      "Epoch: 010/010 training accuracy: 98.39%\n",
      "Time elapsed: 10.85 min\n"
     ]
    }
   ],
   "source": [
    "start_time = time.time()\n",
    "for epoch in range(num_epochs):\n",
    "    model = model.train()\n",
    "    for batch_idx, (features, targets) in enumerate(train_loader):\n",
    "        \n",
    "        features = features.to(device)\n",
    "        targets = targets.to(device)\n",
    "\n",
    "        logits, probas = model(features)\n",
    "        cost = F.cross_entropy(logits, targets)\n",
    "        optimizer.zero_grad()\n",
    "        \n",
    "        cost.backward()\n",
    "        optimizer.step()\n",
    "        if not batch_idx % 50:\n",
    "            print ('Epoch: %03d/%03d | Batch %03d/%03d | Cost: %.4f' \n",
    "                   %(epoch+1, num_epochs, batch_idx, \n",
    "                     len(train_loader), cost))\n",
    "    \n",
    "    model = model.eval()\n",
    "    print('Epoch: %03d/%03d training accuracy: %.2f%%' % (\n",
    "          epoch+1, num_epochs, \n",
    "          compute_accuracy(model, train_loader)))\n",
    "    \n",
    "    print('Time elapsed: %.2f min' % ((time.time() - start_time)/60))"
   ]
  },
  {
   "cell_type": "code",
   "execution_count": 22,
   "metadata": {},
   "outputs": [
    {
     "name": "stdout",
     "output_type": "stream",
     "text": [
      "Total Training Time: 10.85 min\n"
     ]
    }
   ],
   "source": [
    "print('Total Training Time: %.2f min' % ((time.time() - start_time)/60))"
   ]
  },
  {
   "cell_type": "markdown",
   "metadata": {},
   "source": [
    "## **Evaluation**"
   ]
  },
  {
   "cell_type": "code",
   "execution_count": 23,
   "metadata": {},
   "outputs": [
    {
     "name": "stdout",
     "output_type": "stream",
     "text": [
      "Test accuracy: 98.28%\n"
     ]
    }
   ],
   "source": [
    "print('Test accuracy: %.2f%%' % (compute_accuracy(model, test_loader)))"
   ]
  }
 ],
 "metadata": {
  "kernelspec": {
   "display_name": "base",
   "language": "python",
   "name": "python3"
  },
  "language_info": {
   "codemirror_mode": {
    "name": "ipython",
    "version": 3
   },
   "file_extension": ".py",
   "mimetype": "text/x-python",
   "name": "python",
   "nbconvert_exporter": "python",
   "pygments_lexer": "ipython3",
   "version": "3.11.5"
  },
  "toc": {
   "nav_menu": {},
   "number_sections": true,
   "sideBar": true,
   "skip_h1_title": false,
   "title_cell": "Table of Contents",
   "title_sidebar": "Contents",
   "toc_cell": false,
   "toc_position": {},
   "toc_section_display": true,
   "toc_window_display": false
  }
 },
 "nbformat": 4,
 "nbformat_minor": 2
}
