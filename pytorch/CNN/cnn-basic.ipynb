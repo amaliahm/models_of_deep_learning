{
 "cells": [
  {
   "cell_type": "markdown",
   "metadata": {},
   "source": [
    "# **Convolutional Neural Network**"
   ]
  },
  {
   "cell_type": "markdown",
   "metadata": {},
   "source": [
    "## **Libraries**"
   ]
  },
  {
   "cell_type": "code",
   "execution_count": 1,
   "metadata": {},
   "outputs": [],
   "source": [
    "from torch.utils.data import DataLoader\n",
    "from torchvision import transforms\n",
    "from torchvision import datasets\n",
    "import torch.nn.functional as F\n",
    "import numpy as np\n",
    "import torch\n",
    "import time"
   ]
  },
  {
   "cell_type": "code",
   "execution_count": 2,
   "metadata": {},
   "outputs": [],
   "source": [
    "if torch.cuda.is_available():\n",
    "    torch.backends.cudnn.deterministic = True"
   ]
  },
  {
   "cell_type": "markdown",
   "metadata": {},
   "source": [
    "## **Settings**"
   ]
  },
  {
   "cell_type": "code",
   "execution_count": 3,
   "metadata": {},
   "outputs": [],
   "source": [
    "device = torch.device(\"cuda:3\" if torch.cuda.is_available() else \"cpu\")"
   ]
  },
  {
   "cell_type": "code",
   "execution_count": 4,
   "metadata": {},
   "outputs": [],
   "source": [
    "random_seed = 1\n",
    "learning_rate = 0.05\n",
    "num_epochs = 10\n",
    "batch_size = 128"
   ]
  },
  {
   "cell_type": "code",
   "execution_count": 5,
   "metadata": {},
   "outputs": [],
   "source": [
    "num_classes = 10"
   ]
  },
  {
   "cell_type": "markdown",
   "metadata": {},
   "source": [
    "## **MNIST dataset**"
   ]
  },
  {
   "cell_type": "code",
   "execution_count": 7,
   "metadata": {},
   "outputs": [],
   "source": [
    "train_dataset = datasets.MNIST(root='data', train=True, transform=transforms.ToTensor(),download=True)\n",
    "test_dataset = datasets.MNIST(root='data', train=False, transform=transforms.ToTensor())"
   ]
  },
  {
   "cell_type": "code",
   "execution_count": 8,
   "metadata": {},
   "outputs": [],
   "source": [
    "train_loader = DataLoader(dataset=train_dataset, batch_size=batch_size, shuffle=True)\n",
    "test_loader = DataLoader(dataset=test_dataset, batch_size=batch_size, shuffle=False)"
   ]
  },
  {
   "cell_type": "code",
   "execution_count": 9,
   "metadata": {},
   "outputs": [
    {
     "name": "stdout",
     "output_type": "stream",
     "text": [
      "Image batch dimensions: torch.Size([128, 1, 28, 28])\n",
      "Image label dimensions: torch.Size([128])\n"
     ]
    }
   ],
   "source": [
    "for images, labels in train_loader:  \n",
    "    print('Image batch dimensions:', images.shape)\n",
    "    print('Image label dimensions:', labels.shape)\n",
    "    break"
   ]
  },
  {
   "cell_type": "markdown",
   "metadata": {},
   "source": [
    "## **Building the model**"
   ]
  },
  {
   "cell_type": "code",
   "execution_count": 10,
   "metadata": {},
   "outputs": [],
   "source": [
    "class ConvNet(torch.nn.Module):\n",
    "\n",
    "    def __init__(self, num_classes):\n",
    "        super(ConvNet, self).__init__()        \n",
    "\n",
    "        self.conv_1 = torch.nn.Conv2d(in_channels=1, out_channels=8, kernel_size=(3, 3), stride=(1, 1), padding=1) \n",
    "        self.pool_1 = torch.nn.MaxPool2d(kernel_size=(2, 2), stride=(2, 2), padding=0)\n",
    "        self.conv_2 = torch.nn.Conv2d(in_channels=8, out_channels=16, kernel_size=(3, 3), stride=(1, 1), padding=1)        \n",
    "        self.pool_2 = torch.nn.MaxPool2d(kernel_size=(2, 2), stride=(2, 2), padding=0) \n",
    "\n",
    "        self.linear_1 = torch.nn.Linear(7*7*16, num_classes)\n",
    "\n",
    "        for m in self.modules():\n",
    "            if isinstance(m, torch.nn.Conv2d) or isinstance(m, torch.nn.Linear):\n",
    "                m.weight.data.normal_(0.0, 0.01)\n",
    "                m.bias.data.zero_()\n",
    "                if m.bias is not None:\n",
    "                    m.bias.detach().zero_()\n",
    "        \n",
    "        \n",
    "    def forward(self, x):\n",
    "        out = self.conv_1(x)\n",
    "        out = F.relu(out)\n",
    "        out = self.pool_1(out)\n",
    "\n",
    "        out = self.conv_2(out)\n",
    "        out = F.relu(out)\n",
    "        out = self.pool_2(out)\n",
    "        \n",
    "        logits = self.linear_1(out.view(-1, 7*7*16))\n",
    "        probas = F.softmax(logits, dim=1)\n",
    "        return logits, probas"
   ]
  },
  {
   "cell_type": "code",
   "execution_count": 11,
   "metadata": {},
   "outputs": [],
   "source": [
    "torch.manual_seed(random_seed)\n",
    "model = ConvNet(num_classes=num_classes)"
   ]
  },
  {
   "cell_type": "code",
   "execution_count": 12,
   "metadata": {},
   "outputs": [],
   "source": [
    "model = model.to(device)"
   ]
  },
  {
   "cell_type": "code",
   "execution_count": 13,
   "metadata": {},
   "outputs": [],
   "source": [
    "optimizer = torch.optim.SGD(model.parameters(), lr=learning_rate)  "
   ]
  },
  {
   "cell_type": "markdown",
   "metadata": {},
   "source": [
    "## **Training phase**"
   ]
  },
  {
   "cell_type": "code",
   "execution_count": 14,
   "metadata": {},
   "outputs": [],
   "source": [
    "def compute_accuracy(model, data_loader):\n",
    "    correct_pred, num_examples = 0, 0\n",
    "    for features, targets in data_loader:\n",
    "        features = features.to(device)\n",
    "        targets = targets.to(device)\n",
    "        logits, probas = model(features)\n",
    "        _, predicted_labels = torch.max(probas, 1)\n",
    "        num_examples += targets.size(0)\n",
    "        correct_pred += (predicted_labels == targets).sum()\n",
    "    return correct_pred.float()/num_examples * 100"
   ]
  },
  {
   "cell_type": "code",
   "execution_count": 16,
   "metadata": {},
   "outputs": [
    {
     "name": "stdout",
     "output_type": "stream",
     "text": [
      "Epoch: 001/010 | Batch 000/469 | Cost: 2.3026\n",
      "Epoch: 001/010 | Batch 050/469 | Cost: 2.2991\n",
      "Epoch: 001/010 | Batch 100/469 | Cost: 2.2996\n",
      "Epoch: 001/010 | Batch 150/469 | Cost: 2.2982\n",
      "Epoch: 001/010 | Batch 200/469 | Cost: 2.3028\n",
      "Epoch: 001/010 | Batch 250/469 | Cost: 2.2980\n",
      "Epoch: 001/010 | Batch 300/469 | Cost: 2.3024\n",
      "Epoch: 001/010 | Batch 350/469 | Cost: 2.3009\n",
      "Epoch: 001/010 | Batch 400/469 | Cost: 2.2967\n",
      "Epoch: 001/010 | Batch 450/469 | Cost: 2.2740\n",
      "Epoch: 001/010 training accuracy: 32.29%\n",
      "Time elapsed: 0.74 min\n",
      "Epoch: 002/010 | Batch 000/469 | Cost: 2.2205\n",
      "Epoch: 002/010 | Batch 050/469 | Cost: 1.1182\n",
      "Epoch: 002/010 | Batch 100/469 | Cost: 0.8915\n",
      "Epoch: 002/010 | Batch 150/469 | Cost: 0.5937\n",
      "Epoch: 002/010 | Batch 200/469 | Cost: 0.4591\n",
      "Epoch: 002/010 | Batch 250/469 | Cost: 0.2613\n",
      "Epoch: 002/010 | Batch 300/469 | Cost: 0.3219\n",
      "Epoch: 002/010 | Batch 350/469 | Cost: 0.2371\n",
      "Epoch: 002/010 | Batch 400/469 | Cost: 0.2065\n",
      "Epoch: 002/010 | Batch 450/469 | Cost: 0.1443\n",
      "Epoch: 002/010 training accuracy: 93.04%\n",
      "Time elapsed: 1.53 min\n",
      "Epoch: 003/010 | Batch 000/469 | Cost: 0.2497\n",
      "Epoch: 003/010 | Batch 050/469 | Cost: 0.2086\n",
      "Epoch: 003/010 | Batch 100/469 | Cost: 0.2099\n",
      "Epoch: 003/010 | Batch 150/469 | Cost: 0.2017\n",
      "Epoch: 003/010 | Batch 200/469 | Cost: 0.1525\n",
      "Epoch: 003/010 | Batch 250/469 | Cost: 0.2028\n",
      "Epoch: 003/010 | Batch 300/469 | Cost: 0.1861\n",
      "Epoch: 003/010 | Batch 350/469 | Cost: 0.2241\n",
      "Epoch: 003/010 | Batch 400/469 | Cost: 0.1435\n",
      "Epoch: 003/010 | Batch 450/469 | Cost: 0.1967\n",
      "Epoch: 003/010 training accuracy: 95.90%\n",
      "Time elapsed: 2.34 min\n",
      "Epoch: 004/010 | Batch 000/469 | Cost: 0.1711\n",
      "Epoch: 004/010 | Batch 050/469 | Cost: 0.1313\n",
      "Epoch: 004/010 | Batch 100/469 | Cost: 0.1648\n",
      "Epoch: 004/010 | Batch 150/469 | Cost: 0.1432\n",
      "Epoch: 004/010 | Batch 200/469 | Cost: 0.1388\n",
      "Epoch: 004/010 | Batch 250/469 | Cost: 0.1470\n",
      "Epoch: 004/010 | Batch 300/469 | Cost: 0.2760\n",
      "Epoch: 004/010 | Batch 350/469 | Cost: 0.0780\n",
      "Epoch: 004/010 | Batch 400/469 | Cost: 0.1242\n",
      "Epoch: 004/010 | Batch 450/469 | Cost: 0.0794\n",
      "Epoch: 004/010 training accuracy: 96.40%\n",
      "Time elapsed: 3.02 min\n",
      "Epoch: 005/010 | Batch 000/469 | Cost: 0.1202\n",
      "Epoch: 005/010 | Batch 050/469 | Cost: 0.1244\n",
      "Epoch: 005/010 | Batch 100/469 | Cost: 0.1112\n",
      "Epoch: 005/010 | Batch 150/469 | Cost: 0.0865\n",
      "Epoch: 005/010 | Batch 200/469 | Cost: 0.1098\n",
      "Epoch: 005/010 | Batch 250/469 | Cost: 0.0983\n",
      "Epoch: 005/010 | Batch 300/469 | Cost: 0.1199\n",
      "Epoch: 005/010 | Batch 350/469 | Cost: 0.0439\n",
      "Epoch: 005/010 | Batch 400/469 | Cost: 0.0916\n",
      "Epoch: 005/010 | Batch 450/469 | Cost: 0.1254\n",
      "Epoch: 005/010 training accuracy: 96.81%\n",
      "Time elapsed: 3.73 min\n",
      "Epoch: 006/010 | Batch 000/469 | Cost: 0.0909\n",
      "Epoch: 006/010 | Batch 050/469 | Cost: 0.1045\n",
      "Epoch: 006/010 | Batch 100/469 | Cost: 0.0761\n",
      "Epoch: 006/010 | Batch 150/469 | Cost: 0.0804\n",
      "Epoch: 006/010 | Batch 200/469 | Cost: 0.1517\n",
      "Epoch: 006/010 | Batch 250/469 | Cost: 0.0534\n",
      "Epoch: 006/010 | Batch 300/469 | Cost: 0.0778\n",
      "Epoch: 006/010 | Batch 350/469 | Cost: 0.1580\n",
      "Epoch: 006/010 | Batch 400/469 | Cost: 0.0445\n",
      "Epoch: 006/010 | Batch 450/469 | Cost: 0.1155\n",
      "Epoch: 006/010 training accuracy: 97.46%\n",
      "Time elapsed: 4.45 min\n",
      "Epoch: 007/010 | Batch 000/469 | Cost: 0.0455\n",
      "Epoch: 007/010 | Batch 050/469 | Cost: 0.0717\n",
      "Epoch: 007/010 | Batch 100/469 | Cost: 0.0973\n",
      "Epoch: 007/010 | Batch 150/469 | Cost: 0.0771\n",
      "Epoch: 007/010 | Batch 200/469 | Cost: 0.1012\n",
      "Epoch: 007/010 | Batch 250/469 | Cost: 0.1510\n",
      "Epoch: 007/010 | Batch 300/469 | Cost: 0.0425\n",
      "Epoch: 007/010 | Batch 350/469 | Cost: 0.1090\n",
      "Epoch: 007/010 | Batch 400/469 | Cost: 0.0500\n",
      "Epoch: 007/010 | Batch 450/469 | Cost: 0.1170\n",
      "Epoch: 007/010 training accuracy: 97.43%\n",
      "Time elapsed: 5.19 min\n",
      "Epoch: 008/010 | Batch 000/469 | Cost: 0.0795\n",
      "Epoch: 008/010 | Batch 050/469 | Cost: 0.0680\n",
      "Epoch: 008/010 | Batch 100/469 | Cost: 0.1777\n",
      "Epoch: 008/010 | Batch 150/469 | Cost: 0.0416\n",
      "Epoch: 008/010 | Batch 200/469 | Cost: 0.1198\n",
      "Epoch: 008/010 | Batch 250/469 | Cost: 0.0584\n",
      "Epoch: 008/010 | Batch 300/469 | Cost: 0.1284\n",
      "Epoch: 008/010 | Batch 350/469 | Cost: 0.0911\n",
      "Epoch: 008/010 | Batch 400/469 | Cost: 0.0661\n",
      "Epoch: 008/010 | Batch 450/469 | Cost: 0.0841\n",
      "Epoch: 008/010 training accuracy: 97.38%\n",
      "Time elapsed: 5.96 min\n",
      "Epoch: 009/010 | Batch 000/469 | Cost: 0.0871\n",
      "Epoch: 009/010 | Batch 050/469 | Cost: 0.1297\n",
      "Epoch: 009/010 | Batch 100/469 | Cost: 0.0469\n",
      "Epoch: 009/010 | Batch 150/469 | Cost: 0.0714\n",
      "Epoch: 009/010 | Batch 200/469 | Cost: 0.0113\n",
      "Epoch: 009/010 | Batch 250/469 | Cost: 0.1008\n",
      "Epoch: 009/010 | Batch 300/469 | Cost: 0.0720\n",
      "Epoch: 009/010 | Batch 350/469 | Cost: 0.0315\n",
      "Epoch: 009/010 | Batch 400/469 | Cost: 0.0652\n",
      "Epoch: 009/010 | Batch 450/469 | Cost: 0.0357\n",
      "Epoch: 009/010 training accuracy: 98.11%\n",
      "Time elapsed: 6.78 min\n",
      "Epoch: 010/010 | Batch 000/469 | Cost: 0.0292\n",
      "Epoch: 010/010 | Batch 050/469 | Cost: 0.0581\n",
      "Epoch: 010/010 | Batch 100/469 | Cost: 0.0174\n",
      "Epoch: 010/010 | Batch 150/469 | Cost: 0.0237\n",
      "Epoch: 010/010 | Batch 200/469 | Cost: 0.0910\n",
      "Epoch: 010/010 | Batch 250/469 | Cost: 0.0705\n",
      "Epoch: 010/010 | Batch 300/469 | Cost: 0.1021\n",
      "Epoch: 010/010 | Batch 350/469 | Cost: 0.0391\n",
      "Epoch: 010/010 | Batch 400/469 | Cost: 0.0600\n",
      "Epoch: 010/010 | Batch 450/469 | Cost: 0.0997\n",
      "Epoch: 010/010 training accuracy: 98.27%\n",
      "Time elapsed: 7.58 min\n"
     ]
    }
   ],
   "source": [
    "start_time = time.time()    \n",
    "for epoch in range(num_epochs):\n",
    "    model = model.train()\n",
    "    for batch_idx, (features, targets) in enumerate(train_loader):\n",
    "        \n",
    "        features = features.to(device)\n",
    "        targets = targets.to(device)\n",
    "\n",
    "        logits, probas = model(features)\n",
    "        cost = F.cross_entropy(logits, targets)\n",
    "        optimizer.zero_grad()\n",
    "        \n",
    "        cost.backward()\n",
    "        \n",
    "        optimizer.step()\n",
    "        \n",
    "        if not batch_idx % 50:\n",
    "            print ('Epoch: %03d/%03d | Batch %03d/%03d | Cost: %.4f' \n",
    "                   %(epoch+1, num_epochs, batch_idx, \n",
    "                     len(train_loader), cost))\n",
    "    \n",
    "    model = model.eval()\n",
    "    print('Epoch: %03d/%03d training accuracy: %.2f%%' % (\n",
    "          epoch+1, num_epochs, \n",
    "          compute_accuracy(model, train_loader)))\n",
    "\n",
    "    print('Time elapsed: %.2f min' % ((time.time() - start_time)/60))"
   ]
  },
  {
   "cell_type": "code",
   "execution_count": 17,
   "metadata": {},
   "outputs": [
    {
     "name": "stdout",
     "output_type": "stream",
     "text": [
      "Total Training Time: 7.58 min\n"
     ]
    }
   ],
   "source": [
    "print('Total Training Time: %.2f min' % ((time.time() - start_time)/60))"
   ]
  },
  {
   "cell_type": "markdown",
   "metadata": {},
   "source": [
    "## **Evaluation**"
   ]
  },
  {
   "cell_type": "code",
   "execution_count": 18,
   "metadata": {},
   "outputs": [
    {
     "name": "stdout",
     "output_type": "stream",
     "text": [
      "Test accuracy: 98.25%\n"
     ]
    }
   ],
   "source": [
    "with torch.set_grad_enabled(False):\n",
    "    print('Test accuracy: %.2f%%' % (compute_accuracy(model, test_loader)))"
   ]
  }
 ],
 "metadata": {
  "kernelspec": {
   "display_name": "base",
   "language": "python",
   "name": "python3"
  },
  "language_info": {
   "codemirror_mode": {
    "name": "ipython",
    "version": 3
   },
   "file_extension": ".py",
   "mimetype": "text/x-python",
   "name": "python",
   "nbconvert_exporter": "python",
   "pygments_lexer": "ipython3",
   "version": "3.11.5"
  },
  "toc": {
   "nav_menu": {},
   "number_sections": true,
   "sideBar": true,
   "skip_h1_title": false,
   "title_cell": "Table of Contents",
   "title_sidebar": "Contents",
   "toc_cell": false,
   "toc_position": {},
   "toc_section_display": true,
   "toc_window_display": false
  }
 },
 "nbformat": 4,
 "nbformat_minor": 4
}
