{
 "cells": [
  {
   "cell_type": "markdown",
   "metadata": {},
   "source": [
    "# **Multilayer Perceptron with BatchNorm**"
   ]
  },
  {
   "cell_type": "markdown",
   "metadata": {},
   "source": [
    "## **Libraries**"
   ]
  },
  {
   "cell_type": "code",
   "execution_count": 1,
   "metadata": {},
   "outputs": [],
   "source": [
    "from torch.utils.data import DataLoader\n",
    "from torchvision import transforms\n",
    "from torchvision import datasets\n",
    "import torch.nn.functional as F\n",
    "import numpy as np\n",
    "import torch\n",
    "import time"
   ]
  },
  {
   "cell_type": "code",
   "execution_count": 2,
   "metadata": {},
   "outputs": [],
   "source": [
    "if torch.cuda.is_available():\n",
    "    torch.backends.cudnn.deterministic = True"
   ]
  },
  {
   "cell_type": "markdown",
   "metadata": {},
   "source": [
    "## **Settings**"
   ]
  },
  {
   "cell_type": "code",
   "execution_count": 3,
   "metadata": {},
   "outputs": [],
   "source": [
    "device = torch.device(\"cuda:0\" if torch.cuda.is_available() else \"cpu\")"
   ]
  },
  {
   "cell_type": "code",
   "execution_count": 4,
   "metadata": {},
   "outputs": [],
   "source": [
    "random_seed = 1\n",
    "learning_rate = 0.1\n",
    "num_epochs = 10\n",
    "batch_size = 64"
   ]
  },
  {
   "cell_type": "code",
   "execution_count": 5,
   "metadata": {},
   "outputs": [],
   "source": [
    "num_features = 784\n",
    "num_hidden_1 = 128\n",
    "num_hidden_2 = 256\n",
    "num_classes = 10"
   ]
  },
  {
   "cell_type": "markdown",
   "metadata": {},
   "source": [
    "## **MNIST dataset**"
   ]
  },
  {
   "cell_type": "code",
   "execution_count": 6,
   "metadata": {},
   "outputs": [],
   "source": [
    "train_dataset = datasets.MNIST(root='data', train=True, transform=transforms.ToTensor(), download=True)\n",
    "test_dataset = datasets.MNIST(root='data', train=False, transform=transforms.ToTensor())"
   ]
  },
  {
   "cell_type": "code",
   "execution_count": 7,
   "metadata": {},
   "outputs": [],
   "source": [
    "train_loader = DataLoader(dataset=train_dataset, batch_size=batch_size, shuffle=True)\n",
    "test_loader = DataLoader(dataset=test_dataset, batch_size=batch_size, shuffle=False)"
   ]
  },
  {
   "cell_type": "code",
   "execution_count": 8,
   "metadata": {},
   "outputs": [
    {
     "name": "stdout",
     "output_type": "stream",
     "text": [
      "Image batch dimensions: torch.Size([64, 1, 28, 28])\n",
      "Image label dimensions: torch.Size([64])\n"
     ]
    }
   ],
   "source": [
    "for images, labels in train_loader:  \n",
    "    print('Image batch dimensions:', images.shape)\n",
    "    print('Image label dimensions:', labels.shape)\n",
    "    break"
   ]
  },
  {
   "cell_type": "markdown",
   "metadata": {},
   "source": [
    "## **Model**"
   ]
  },
  {
   "cell_type": "code",
   "execution_count": 9,
   "metadata": {},
   "outputs": [],
   "source": [
    "class MultilayerPerceptron(torch.nn.Module):\n",
    "    def __init__(self, num_features, num_classes):\n",
    "        super(MultilayerPerceptron, self).__init__()\n",
    "        \n",
    "        self.linear_1 = torch.nn.Linear(num_features, num_hidden_1)\n",
    "        self.linear_1.weight.detach().normal_(0.0, 0.1)\n",
    "        self.linear_1.bias.detach().zero_()\n",
    "        self.linear_1_bn = torch.nn.BatchNorm1d(num_hidden_1)\n",
    "        \n",
    "        self.linear_2 = torch.nn.Linear(num_hidden_1, num_hidden_2)\n",
    "        self.linear_2.weight.detach().normal_(0.0, 0.1)\n",
    "        self.linear_2.bias.detach().zero_()\n",
    "        self.linear_2_bn = torch.nn.BatchNorm1d(num_hidden_2)\n",
    "        \n",
    "        self.linear_out = torch.nn.Linear(num_hidden_2, num_classes)\n",
    "        self.linear_out.weight.detach().normal_(0.0, 0.1)\n",
    "        self.linear_out.bias.detach().zero_()\n",
    "        \n",
    "    def forward(self, x):\n",
    "        out = self.linear_1(x)\n",
    "        out = self.linear_1_bn(out)\n",
    "        out = F.relu(out)\n",
    "        \n",
    "        out = self.linear_2(out)\n",
    "        out = self.linear_2_bn(out)\n",
    "        out = F.relu(out)\n",
    "        \n",
    "        logits = self.linear_out(out)\n",
    "        probas = F.softmax(logits, dim=1)\n",
    "        return logits, probas"
   ]
  },
  {
   "cell_type": "code",
   "execution_count": 10,
   "metadata": {},
   "outputs": [],
   "source": [
    "torch.manual_seed(random_seed)\n",
    "model = MultilayerPerceptron(num_features=num_features, num_classes=num_classes)"
   ]
  },
  {
   "cell_type": "code",
   "execution_count": 11,
   "metadata": {},
   "outputs": [],
   "source": [
    "model = model.to(device)"
   ]
  },
  {
   "cell_type": "code",
   "execution_count": 12,
   "metadata": {},
   "outputs": [],
   "source": [
    "optimizer = torch.optim.SGD(model.parameters(), lr=learning_rate)"
   ]
  },
  {
   "cell_type": "code",
   "execution_count": 13,
   "metadata": {},
   "outputs": [],
   "source": [
    "def compute_accuracy(net, data_loader):\n",
    "    net.eval()\n",
    "    correct_pred, num_examples = 0, 0\n",
    "    with torch.no_grad():\n",
    "        for features, targets in data_loader:\n",
    "            features = features.view(-1, 28*28).to(device)\n",
    "            targets = targets.to(device)\n",
    "            logits, probas = net(features)\n",
    "            _, predicted_labels = torch.max(probas, 1)\n",
    "            num_examples += targets.size(0)\n",
    "            correct_pred += (predicted_labels == targets).sum()\n",
    "        return correct_pred.float()/num_examples * 100"
   ]
  },
  {
   "cell_type": "code",
   "execution_count": 14,
   "metadata": {},
   "outputs": [
    {
     "name": "stdout",
     "output_type": "stream",
     "text": [
      "Epoch: 001/010 | Batch 000/938 | Cost: 2.7294\n",
      "Epoch: 001/010 | Batch 050/938 | Cost: 0.5899\n",
      "Epoch: 001/010 | Batch 100/938 | Cost: 0.5684\n",
      "Epoch: 001/010 | Batch 150/938 | Cost: 0.4042\n",
      "Epoch: 001/010 | Batch 200/938 | Cost: 0.2943\n",
      "Epoch: 001/010 | Batch 250/938 | Cost: 0.4567\n",
      "Epoch: 001/010 | Batch 300/938 | Cost: 0.6906\n",
      "Epoch: 001/010 | Batch 350/938 | Cost: 0.2202\n",
      "Epoch: 001/010 | Batch 400/938 | Cost: 0.3931\n",
      "Epoch: 001/010 | Batch 450/938 | Cost: 0.2545\n",
      "Epoch: 001/010 | Batch 500/938 | Cost: 0.3103\n",
      "Epoch: 001/010 | Batch 550/938 | Cost: 0.1357\n",
      "Epoch: 001/010 | Batch 600/938 | Cost: 0.0689\n",
      "Epoch: 001/010 | Batch 650/938 | Cost: 0.2388\n",
      "Epoch: 001/010 | Batch 700/938 | Cost: 0.4222\n",
      "Epoch: 001/010 | Batch 750/938 | Cost: 0.2718\n",
      "Epoch: 001/010 | Batch 800/938 | Cost: 0.1105\n",
      "Epoch: 001/010 | Batch 850/938 | Cost: 0.2325\n",
      "Epoch: 001/010 | Batch 900/938 | Cost: 0.2173\n",
      "Epoch: 001/010 training accuracy: 96.37%\n",
      "Time elapsed: 0.52 min\n",
      "Epoch: 002/010 | Batch 000/938 | Cost: 0.0474\n",
      "Epoch: 002/010 | Batch 050/938 | Cost: 0.1371\n",
      "Epoch: 002/010 | Batch 100/938 | Cost: 0.0884\n",
      "Epoch: 002/010 | Batch 150/938 | Cost: 0.2836\n",
      "Epoch: 002/010 | Batch 200/938 | Cost: 0.0921\n",
      "Epoch: 002/010 | Batch 250/938 | Cost: 0.1759\n",
      "Epoch: 002/010 | Batch 300/938 | Cost: 0.0837\n",
      "Epoch: 002/010 | Batch 350/938 | Cost: 0.1314\n",
      "Epoch: 002/010 | Batch 400/938 | Cost: 0.0806\n",
      "Epoch: 002/010 | Batch 450/938 | Cost: 0.0902\n",
      "Epoch: 002/010 | Batch 500/938 | Cost: 0.1310\n",
      "Epoch: 002/010 | Batch 550/938 | Cost: 0.2219\n",
      "Epoch: 002/010 | Batch 600/938 | Cost: 0.1592\n",
      "Epoch: 002/010 | Batch 650/938 | Cost: 0.3180\n",
      "Epoch: 002/010 | Batch 700/938 | Cost: 0.1958\n",
      "Epoch: 002/010 | Batch 750/938 | Cost: 0.1067\n",
      "Epoch: 002/010 | Batch 800/938 | Cost: 0.1796\n",
      "Epoch: 002/010 | Batch 850/938 | Cost: 0.0685\n",
      "Epoch: 002/010 | Batch 900/938 | Cost: 0.2069\n",
      "Epoch: 002/010 training accuracy: 97.74%\n",
      "Time elapsed: 1.11 min\n",
      "Epoch: 003/010 | Batch 000/938 | Cost: 0.1056\n",
      "Epoch: 003/010 | Batch 050/938 | Cost: 0.1345\n",
      "Epoch: 003/010 | Batch 100/938 | Cost: 0.1255\n",
      "Epoch: 003/010 | Batch 150/938 | Cost: 0.1851\n",
      "Epoch: 003/010 | Batch 200/938 | Cost: 0.0344\n",
      "Epoch: 003/010 | Batch 250/938 | Cost: 0.0956\n",
      "Epoch: 003/010 | Batch 300/938 | Cost: 0.1148\n",
      "Epoch: 003/010 | Batch 350/938 | Cost: 0.1599\n",
      "Epoch: 003/010 | Batch 400/938 | Cost: 0.0746\n",
      "Epoch: 003/010 | Batch 450/938 | Cost: 0.0750\n",
      "Epoch: 003/010 | Batch 500/938 | Cost: 0.0688\n",
      "Epoch: 003/010 | Batch 550/938 | Cost: 0.0552\n",
      "Epoch: 003/010 | Batch 600/938 | Cost: 0.1151\n",
      "Epoch: 003/010 | Batch 650/938 | Cost: 0.0674\n",
      "Epoch: 003/010 | Batch 700/938 | Cost: 0.0282\n",
      "Epoch: 003/010 | Batch 750/938 | Cost: 0.0398\n",
      "Epoch: 003/010 | Batch 800/938 | Cost: 0.0630\n",
      "Epoch: 003/010 | Batch 850/938 | Cost: 0.0964\n",
      "Epoch: 003/010 | Batch 900/938 | Cost: 0.0470\n",
      "Epoch: 003/010 training accuracy: 98.41%\n",
      "Time elapsed: 1.75 min\n",
      "Epoch: 004/010 | Batch 000/938 | Cost: 0.0606\n",
      "Epoch: 004/010 | Batch 050/938 | Cost: 0.0828\n",
      "Epoch: 004/010 | Batch 100/938 | Cost: 0.0477\n",
      "Epoch: 004/010 | Batch 150/938 | Cost: 0.0160\n",
      "Epoch: 004/010 | Batch 200/938 | Cost: 0.1177\n",
      "Epoch: 004/010 | Batch 250/938 | Cost: 0.0336\n",
      "Epoch: 004/010 | Batch 300/938 | Cost: 0.0438\n",
      "Epoch: 004/010 | Batch 350/938 | Cost: 0.0601\n",
      "Epoch: 004/010 | Batch 400/938 | Cost: 0.0505\n",
      "Epoch: 004/010 | Batch 450/938 | Cost: 0.0514\n",
      "Epoch: 004/010 | Batch 500/938 | Cost: 0.0389\n",
      "Epoch: 004/010 | Batch 550/938 | Cost: 0.0648\n",
      "Epoch: 004/010 | Batch 600/938 | Cost: 0.0509\n",
      "Epoch: 004/010 | Batch 650/938 | Cost: 0.0513\n",
      "Epoch: 004/010 | Batch 700/938 | Cost: 0.0668\n",
      "Epoch: 004/010 | Batch 750/938 | Cost: 0.1299\n",
      "Epoch: 004/010 | Batch 800/938 | Cost: 0.1272\n",
      "Epoch: 004/010 | Batch 850/938 | Cost: 0.0747\n",
      "Epoch: 004/010 | Batch 900/938 | Cost: 0.0713\n",
      "Epoch: 004/010 training accuracy: 98.75%\n",
      "Time elapsed: 2.49 min\n",
      "Epoch: 005/010 | Batch 000/938 | Cost: 0.0755\n",
      "Epoch: 005/010 | Batch 050/938 | Cost: 0.1302\n",
      "Epoch: 005/010 | Batch 100/938 | Cost: 0.0477\n",
      "Epoch: 005/010 | Batch 150/938 | Cost: 0.0287\n",
      "Epoch: 005/010 | Batch 200/938 | Cost: 0.0680\n",
      "Epoch: 005/010 | Batch 250/938 | Cost: 0.0183\n",
      "Epoch: 005/010 | Batch 300/938 | Cost: 0.1630\n",
      "Epoch: 005/010 | Batch 350/938 | Cost: 0.0134\n",
      "Epoch: 005/010 | Batch 400/938 | Cost: 0.0408\n",
      "Epoch: 005/010 | Batch 450/938 | Cost: 0.0964\n",
      "Epoch: 005/010 | Batch 500/938 | Cost: 0.0945\n",
      "Epoch: 005/010 | Batch 550/938 | Cost: 0.0216\n",
      "Epoch: 005/010 | Batch 600/938 | Cost: 0.0898\n",
      "Epoch: 005/010 | Batch 650/938 | Cost: 0.0542\n",
      "Epoch: 005/010 | Batch 700/938 | Cost: 0.0705\n",
      "Epoch: 005/010 | Batch 750/938 | Cost: 0.1979\n",
      "Epoch: 005/010 | Batch 800/938 | Cost: 0.0463\n",
      "Epoch: 005/010 | Batch 850/938 | Cost: 0.0148\n",
      "Epoch: 005/010 | Batch 900/938 | Cost: 0.0732\n",
      "Epoch: 005/010 training accuracy: 99.09%\n",
      "Time elapsed: 3.29 min\n",
      "Epoch: 006/010 | Batch 000/938 | Cost: 0.0525\n",
      "Epoch: 006/010 | Batch 050/938 | Cost: 0.0894\n",
      "Epoch: 006/010 | Batch 100/938 | Cost: 0.0821\n",
      "Epoch: 006/010 | Batch 150/938 | Cost: 0.0249\n",
      "Epoch: 006/010 | Batch 200/938 | Cost: 0.0330\n",
      "Epoch: 006/010 | Batch 250/938 | Cost: 0.0374\n",
      "Epoch: 006/010 | Batch 300/938 | Cost: 0.0300\n",
      "Epoch: 006/010 | Batch 350/938 | Cost: 0.0338\n",
      "Epoch: 006/010 | Batch 400/938 | Cost: 0.0899\n",
      "Epoch: 006/010 | Batch 450/938 | Cost: 0.0242\n",
      "Epoch: 006/010 | Batch 500/938 | Cost: 0.0329\n",
      "Epoch: 006/010 | Batch 550/938 | Cost: 0.0864\n",
      "Epoch: 006/010 | Batch 600/938 | Cost: 0.0628\n",
      "Epoch: 006/010 | Batch 650/938 | Cost: 0.0175\n",
      "Epoch: 006/010 | Batch 700/938 | Cost: 0.1680\n",
      "Epoch: 006/010 | Batch 750/938 | Cost: 0.1287\n",
      "Epoch: 006/010 | Batch 800/938 | Cost: 0.0326\n",
      "Epoch: 006/010 | Batch 850/938 | Cost: 0.0231\n",
      "Epoch: 006/010 | Batch 900/938 | Cost: 0.0534\n",
      "Epoch: 006/010 training accuracy: 99.34%\n",
      "Time elapsed: 4.06 min\n",
      "Epoch: 007/010 | Batch 000/938 | Cost: 0.0256\n",
      "Epoch: 007/010 | Batch 050/938 | Cost: 0.0515\n",
      "Epoch: 007/010 | Batch 100/938 | Cost: 0.0270\n",
      "Epoch: 007/010 | Batch 150/938 | Cost: 0.0266\n",
      "Epoch: 007/010 | Batch 200/938 | Cost: 0.0607\n",
      "Epoch: 007/010 | Batch 250/938 | Cost: 0.0274\n",
      "Epoch: 007/010 | Batch 300/938 | Cost: 0.0293\n",
      "Epoch: 007/010 | Batch 350/938 | Cost: 0.0385\n",
      "Epoch: 007/010 | Batch 400/938 | Cost: 0.0203\n",
      "Epoch: 007/010 | Batch 450/938 | Cost: 0.0297\n",
      "Epoch: 007/010 | Batch 500/938 | Cost: 0.1082\n",
      "Epoch: 007/010 | Batch 550/938 | Cost: 0.0084\n",
      "Epoch: 007/010 | Batch 600/938 | Cost: 0.0121\n",
      "Epoch: 007/010 | Batch 650/938 | Cost: 0.0357\n",
      "Epoch: 007/010 | Batch 700/938 | Cost: 0.0438\n",
      "Epoch: 007/010 | Batch 750/938 | Cost: 0.0153\n",
      "Epoch: 007/010 | Batch 800/938 | Cost: 0.0075\n",
      "Epoch: 007/010 | Batch 850/938 | Cost: 0.0408\n",
      "Epoch: 007/010 | Batch 900/938 | Cost: 0.0172\n",
      "Epoch: 007/010 training accuracy: 99.61%\n",
      "Time elapsed: 4.98 min\n",
      "Epoch: 008/010 | Batch 000/938 | Cost: 0.0101\n",
      "Epoch: 008/010 | Batch 050/938 | Cost: 0.0558\n",
      "Epoch: 008/010 | Batch 100/938 | Cost: 0.0566\n",
      "Epoch: 008/010 | Batch 150/938 | Cost: 0.0182\n",
      "Epoch: 008/010 | Batch 200/938 | Cost: 0.0077\n",
      "Epoch: 008/010 | Batch 250/938 | Cost: 0.0297\n",
      "Epoch: 008/010 | Batch 300/938 | Cost: 0.0244\n",
      "Epoch: 008/010 | Batch 350/938 | Cost: 0.0130\n",
      "Epoch: 008/010 | Batch 400/938 | Cost: 0.0440\n",
      "Epoch: 008/010 | Batch 450/938 | Cost: 0.0220\n",
      "Epoch: 008/010 | Batch 500/938 | Cost: 0.1414\n",
      "Epoch: 008/010 | Batch 550/938 | Cost: 0.0324\n",
      "Epoch: 008/010 | Batch 600/938 | Cost: 0.0321\n",
      "Epoch: 008/010 | Batch 650/938 | Cost: 0.0088\n",
      "Epoch: 008/010 | Batch 700/938 | Cost: 0.0408\n",
      "Epoch: 008/010 | Batch 750/938 | Cost: 0.0367\n",
      "Epoch: 008/010 | Batch 800/938 | Cost: 0.0150\n",
      "Epoch: 008/010 | Batch 850/938 | Cost: 0.0125\n",
      "Epoch: 008/010 | Batch 900/938 | Cost: 0.0539\n",
      "Epoch: 008/010 training accuracy: 99.61%\n",
      "Time elapsed: 5.59 min\n",
      "Epoch: 009/010 | Batch 000/938 | Cost: 0.0228\n",
      "Epoch: 009/010 | Batch 050/938 | Cost: 0.0456\n",
      "Epoch: 009/010 | Batch 100/938 | Cost: 0.0229\n",
      "Epoch: 009/010 | Batch 150/938 | Cost: 0.0217\n",
      "Epoch: 009/010 | Batch 200/938 | Cost: 0.0377\n",
      "Epoch: 009/010 | Batch 250/938 | Cost: 0.0488\n",
      "Epoch: 009/010 | Batch 300/938 | Cost: 0.0207\n",
      "Epoch: 009/010 | Batch 350/938 | Cost: 0.0587\n",
      "Epoch: 009/010 | Batch 400/938 | Cost: 0.0088\n",
      "Epoch: 009/010 | Batch 450/938 | Cost: 0.0043\n",
      "Epoch: 009/010 | Batch 500/938 | Cost: 0.0115\n",
      "Epoch: 009/010 | Batch 550/938 | Cost: 0.0484\n",
      "Epoch: 009/010 | Batch 600/938 | Cost: 0.0252\n",
      "Epoch: 009/010 | Batch 650/938 | Cost: 0.0388\n",
      "Epoch: 009/010 | Batch 700/938 | Cost: 0.0037\n",
      "Epoch: 009/010 | Batch 750/938 | Cost: 0.0090\n",
      "Epoch: 009/010 | Batch 800/938 | Cost: 0.0228\n",
      "Epoch: 009/010 | Batch 850/938 | Cost: 0.0730\n",
      "Epoch: 009/010 | Batch 900/938 | Cost: 0.0105\n",
      "Epoch: 009/010 training accuracy: 99.75%\n",
      "Time elapsed: 6.30 min\n",
      "Epoch: 010/010 | Batch 000/938 | Cost: 0.0066\n",
      "Epoch: 010/010 | Batch 050/938 | Cost: 0.0238\n",
      "Epoch: 010/010 | Batch 100/938 | Cost: 0.0114\n",
      "Epoch: 010/010 | Batch 150/938 | Cost: 0.0321\n",
      "Epoch: 010/010 | Batch 200/938 | Cost: 0.0067\n",
      "Epoch: 010/010 | Batch 250/938 | Cost: 0.0138\n",
      "Epoch: 010/010 | Batch 300/938 | Cost: 0.0280\n",
      "Epoch: 010/010 | Batch 350/938 | Cost: 0.0290\n",
      "Epoch: 010/010 | Batch 400/938 | Cost: 0.0101\n",
      "Epoch: 010/010 | Batch 450/938 | Cost: 0.0145\n",
      "Epoch: 010/010 | Batch 500/938 | Cost: 0.0245\n",
      "Epoch: 010/010 | Batch 550/938 | Cost: 0.0099\n",
      "Epoch: 010/010 | Batch 600/938 | Cost: 0.0104\n",
      "Epoch: 010/010 | Batch 650/938 | Cost: 0.0075\n",
      "Epoch: 010/010 | Batch 700/938 | Cost: 0.0166\n",
      "Epoch: 010/010 | Batch 750/938 | Cost: 0.0257\n",
      "Epoch: 010/010 | Batch 800/938 | Cost: 0.0803\n",
      "Epoch: 010/010 | Batch 850/938 | Cost: 0.0210\n",
      "Epoch: 010/010 | Batch 900/938 | Cost: 0.0076\n",
      "Epoch: 010/010 training accuracy: 99.79%\n",
      "Time elapsed: 6.95 min\n",
      "Total Training Time: 6.95 min\n"
     ]
    }
   ],
   "source": [
    "start_time = time.time()\n",
    "for epoch in range(num_epochs):\n",
    "    model.train()\n",
    "    for batch_idx, (features, targets) in enumerate(train_loader):\n",
    "        \n",
    "        features = features.view(-1, 28*28).to(device)\n",
    "        targets = targets.to(device)\n",
    "            \n",
    "        logits, probas = model(features)\n",
    "        cost = F.cross_entropy(logits, targets)\n",
    "        optimizer.zero_grad()\n",
    "        \n",
    "        cost.backward()\n",
    "        optimizer.step()\n",
    "        \n",
    "        if not batch_idx % 50:\n",
    "            print ('Epoch: %03d/%03d | Batch %03d/%03d | Cost: %.4f' \n",
    "                   %(epoch+1, num_epochs, batch_idx, \n",
    "                     len(train_loader), cost))\n",
    "\n",
    "    print('Epoch: %03d/%03d training accuracy: %.2f%%' % (\n",
    "          epoch+1, num_epochs, \n",
    "          compute_accuracy(model, train_loader)))\n",
    "\n",
    "    print('Time elapsed: %.2f min' % ((time.time() - start_time)/60))\n",
    "    \n",
    "print('Total Training Time: %.2f min' % ((time.time() - start_time)/60))"
   ]
  },
  {
   "cell_type": "code",
   "execution_count": 15,
   "metadata": {},
   "outputs": [
    {
     "name": "stdout",
     "output_type": "stream",
     "text": [
      "Test accuracy: 97.73%\n"
     ]
    }
   ],
   "source": [
    "print('Test accuracy: %.2f%%' % (compute_accuracy(model, test_loader)))"
   ]
  }
 ],
 "metadata": {
  "kernelspec": {
   "display_name": "base",
   "language": "python",
   "name": "python3"
  },
  "language_info": {
   "codemirror_mode": {
    "name": "ipython",
    "version": 3
   },
   "file_extension": ".py",
   "mimetype": "text/x-python",
   "name": "python",
   "nbconvert_exporter": "python",
   "pygments_lexer": "ipython3",
   "version": "3.11.5"
  },
  "toc": {
   "nav_menu": {},
   "number_sections": true,
   "sideBar": true,
   "skip_h1_title": false,
   "title_cell": "Table of Contents",
   "title_sidebar": "Contents",
   "toc_cell": false,
   "toc_position": {},
   "toc_section_display": true,
   "toc_window_display": false
  }
 },
 "nbformat": 4,
 "nbformat_minor": 2
}
