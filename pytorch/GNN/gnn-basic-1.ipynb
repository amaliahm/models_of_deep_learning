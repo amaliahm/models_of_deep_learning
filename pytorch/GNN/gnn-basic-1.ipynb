{
 "cells": [
  {
   "cell_type": "markdown",
   "metadata": {},
   "source": [
    "# **Most Basic Graph Neural Network with Gaussian Filter on MNIST**"
   ]
  },
  {
   "cell_type": "markdown",
   "metadata": {},
   "source": [
    "## **Libraries**"
   ]
  },
  {
   "cell_type": "code",
   "execution_count": 3,
   "metadata": {},
   "outputs": [],
   "source": [
    "from torch.utils.data.dataset import Subset\n",
    "from scipy.spatial.distance import cdist\n",
    "from torch.utils.data import DataLoader\n",
    "from torchvision import transforms\n",
    "from torchvision import datasets\n",
    "import matplotlib.pyplot as plt\n",
    "import torch.nn.functional as F\n",
    "import torch.nn as nn\n",
    "import numpy as np\n",
    "import torch\n",
    "import time"
   ]
  },
  {
   "cell_type": "code",
   "execution_count": 2,
   "metadata": {},
   "outputs": [],
   "source": [
    "if torch.cuda.is_available():\n",
    "    torch.backends.cudnn.deterministic = True"
   ]
  },
  {
   "cell_type": "markdown",
   "metadata": {},
   "source": [
    "## **Settings**"
   ]
  },
  {
   "cell_type": "code",
   "execution_count": 4,
   "metadata": {},
   "outputs": [],
   "source": [
    "DEVICE = torch.device(\"cuda:0\" if torch.cuda.is_available() else \"cpu\")"
   ]
  },
  {
   "cell_type": "code",
   "execution_count": 5,
   "metadata": {},
   "outputs": [],
   "source": [
    "RANDOM_SEED = 1\n",
    "LEARNING_RATE = 0.05\n",
    "NUM_EPOCHS = 20\n",
    "BATCH_SIZE = 128\n",
    "IMG_SIZE = 28"
   ]
  },
  {
   "cell_type": "code",
   "execution_count": 6,
   "metadata": {},
   "outputs": [],
   "source": [
    "NUM_CLASSES = 10"
   ]
  },
  {
   "cell_type": "markdown",
   "metadata": {},
   "source": [
    "## **MNIST Dataset**"
   ]
  },
  {
   "cell_type": "code",
   "execution_count": 7,
   "metadata": {},
   "outputs": [],
   "source": [
    "train_indices = torch.arange(0, 59000)\n",
    "valid_indices = torch.arange(59000, 60000)"
   ]
  },
  {
   "cell_type": "code",
   "execution_count": 8,
   "metadata": {},
   "outputs": [],
   "source": [
    "custom_transform = transforms.Compose([transforms.ToTensor()])"
   ]
  },
  {
   "cell_type": "code",
   "execution_count": 9,
   "metadata": {},
   "outputs": [],
   "source": [
    "train_and_valid = datasets.MNIST(root='data', train=True, transform=custom_transform, download=True)\n",
    "test_dataset = datasets.MNIST(root='data', train=False, transform=custom_transform, download=True)"
   ]
  },
  {
   "cell_type": "code",
   "execution_count": 10,
   "metadata": {},
   "outputs": [],
   "source": [
    "train_dataset = Subset(train_and_valid, train_indices)\n",
    "valid_dataset = Subset(train_and_valid, valid_indices)"
   ]
  },
  {
   "cell_type": "code",
   "execution_count": 11,
   "metadata": {},
   "outputs": [],
   "source": [
    "train_loader = DataLoader(dataset=train_dataset, batch_size=BATCH_SIZE, num_workers=4, shuffle=True)\n",
    "valid_loader = DataLoader(dataset=valid_dataset, batch_size=BATCH_SIZE, num_workers=4, shuffle=False)\n",
    "test_loader = DataLoader(dataset=test_dataset, batch_size=BATCH_SIZE, num_workers=4, shuffle=False)"
   ]
  },
  {
   "cell_type": "code",
   "execution_count": 12,
   "metadata": {},
   "outputs": [
    {
     "name": "stdout",
     "output_type": "stream",
     "text": [
      "Image batch dimensions: torch.Size([128, 1, 28, 28])\n",
      "Image label dimensions: torch.Size([128])\n"
     ]
    }
   ],
   "source": [
    "for images, labels in train_loader:  \n",
    "    print('Image batch dimensions:', images.shape)\n",
    "    print('Image label dimensions:', labels.shape)\n",
    "    break"
   ]
  },
  {
   "cell_type": "markdown",
   "metadata": {},
   "source": [
    "## **Building the model**"
   ]
  },
  {
   "cell_type": "code",
   "execution_count": 13,
   "metadata": {},
   "outputs": [],
   "source": [
    "def precompute_adjacency_matrix(img_size):\n",
    "    col, row = np.meshgrid(np.arange(img_size), np.arange(img_size))\n",
    "    \n",
    "    coord = np.stack((col, row), axis=2).reshape(-1, 2) / img_size\n",
    "    dist = cdist(coord, coord, metric='euclidean')\n",
    "    sigma = 0.05 * np.pi\n",
    "    A = np.exp(- dist / sigma ** 2)\n",
    "    A[A < 0.01] = 0\n",
    "    A = torch.from_numpy(A).float()\n",
    "    D = A.sum(1)\n",
    "    D_hat = (D + 1e-5) ** (-0.5)\n",
    "    A_hat = D_hat.view(-1, 1) * A * D_hat.view(1, -1) \n",
    "    \n",
    "    return A_hat"
   ]
  },
  {
   "cell_type": "code",
   "execution_count": 14,
   "metadata": {},
   "outputs": [
    {
     "data": {
      "image/png": "[encoded data removed]",
      "text/plain": [
       "<Figure size 640x480 with 1 Axes>"
      ]
     },
     "metadata": {},
     "output_type": "display_data"
    }
   ],
   "source": [
    "plt.imshow(precompute_adjacency_matrix(28));"
   ]
  },
  {
   "cell_type": "code",
   "execution_count": 15,
   "metadata": {},
   "outputs": [],
   "source": [
    "class GraphNet(nn.Module):\n",
    "    def __init__(self, img_size=28, num_classes=10):\n",
    "        super(GraphNet, self).__init__()\n",
    "        \n",
    "        n_rows = img_size**2\n",
    "        self.fc = nn.Linear(n_rows, num_classes, bias=False)\n",
    "\n",
    "        A = precompute_adjacency_matrix(img_size)\n",
    "        self.register_buffer('A', A)\n",
    "\n",
    "        \n",
    "    def forward(self, x):\n",
    "        \n",
    "        B = x.size(0)\n",
    "        A_tensor = self.A.unsqueeze(0)\n",
    "        A_tensor = self.A.expand(B, -1, -1)\n",
    "        x_reshape = x.view(B, -1, 1)\n",
    "        avg_neighbor_features = (torch.bmm(A_tensor, x_reshape).view(B, -1))\n",
    "        \n",
    "        logits = self.fc(avg_neighbor_features)\n",
    "        probas = F.softmax(logits, dim=1)\n",
    "        return logits, probas"
   ]
  },
  {
   "cell_type": "code",
   "execution_count": 16,
   "metadata": {},
   "outputs": [],
   "source": [
    "torch.manual_seed(RANDOM_SEED)\n",
    "model = GraphNet(img_size=IMG_SIZE, num_classes=NUM_CLASSES)"
   ]
  },
  {
   "cell_type": "code",
   "execution_count": 17,
   "metadata": {},
   "outputs": [],
   "source": [
    "model = model.to(DEVICE)"
   ]
  },
  {
   "cell_type": "code",
   "execution_count": 18,
   "metadata": {},
   "outputs": [],
   "source": [
    "optimizer = torch.optim.SGD(model.parameters(), lr=LEARNING_RATE)  "
   ]
  },
  {
   "cell_type": "markdown",
   "metadata": {},
   "source": [
    "## **Training phase**"
   ]
  },
  {
   "cell_type": "code",
   "execution_count": 19,
   "metadata": {},
   "outputs": [],
   "source": [
    "def compute_acc(model, data_loader, device):\n",
    "    correct_pred, num_examples = 0, 0\n",
    "    for features, targets in data_loader:\n",
    "        features = features.to(device)\n",
    "        targets = targets.to(device)\n",
    "        logits, probas = model(features)\n",
    "        _, predicted_labels = torch.max(probas, 1)\n",
    "        num_examples += targets.size(0)\n",
    "        correct_pred += (predicted_labels == targets).sum()\n",
    "    return correct_pred.float()/num_examples * 100"
   ]
  },
  {
   "cell_type": "code",
   "execution_count": 20,
   "metadata": {},
   "outputs": [
    {
     "name": "stdout",
     "output_type": "stream",
     "text": [
      "Epoch: 001/020 | Batch 000/461 | Cost: 2.2449\n",
      "Epoch: 001/020 | Batch 150/461 | Cost: 0.8476\n",
      "Epoch: 001/020 | Batch 300/461 | Cost: 0.5709\n",
      "Epoch: 001/020 | Batch 450/461 | Cost: 0.5937\n",
      "Epoch: 001/020\n",
      "Train ACC: 86.90 | Validation ACC: 92.10\n",
      "Time elapsed: 0.79 min\n",
      "Epoch: 002/020 | Batch 000/461 | Cost: 0.5034\n",
      "Epoch: 002/020 | Batch 150/461 | Cost: 0.4132\n",
      "Epoch: 002/020 | Batch 300/461 | Cost: 0.4706\n",
      "Epoch: 002/020 | Batch 450/461 | Cost: 0.3690\n",
      "Epoch: 002/020\n",
      "Train ACC: 88.33 | Validation ACC: 92.60\n",
      "Time elapsed: 1.56 min\n",
      "Epoch: 003/020 | Batch 000/461 | Cost: 0.4121\n",
      "Epoch: 003/020 | Batch 150/461 | Cost: 0.4513\n",
      "Epoch: 003/020 | Batch 300/461 | Cost: 0.4056\n",
      "Epoch: 003/020 | Batch 450/461 | Cost: 0.2735\n",
      "Epoch: 003/020\n",
      "Train ACC: 88.94 | Validation ACC: 93.20\n",
      "Time elapsed: 2.30 min\n",
      "Epoch: 004/020 | Batch 000/461 | Cost: 0.4208\n",
      "Epoch: 004/020 | Batch 150/461 | Cost: 0.4065\n",
      "Epoch: 004/020 | Batch 300/461 | Cost: 0.3819\n",
      "Epoch: 004/020 | Batch 450/461 | Cost: 0.2904\n",
      "Epoch: 004/020\n",
      "Train ACC: 89.34 | Validation ACC: 93.40\n",
      "Time elapsed: 3.20 min\n",
      "Epoch: 005/020 | Batch 000/461 | Cost: 0.3654\n",
      "Epoch: 005/020 | Batch 150/461 | Cost: 0.4190\n",
      "Epoch: 005/020 | Batch 300/461 | Cost: 0.3042\n",
      "Epoch: 005/020 | Batch 450/461 | Cost: 0.3107\n",
      "Epoch: 005/020\n",
      "Train ACC: 89.57 | Validation ACC: 93.30\n",
      "Time elapsed: 3.86 min\n",
      "Epoch: 006/020 | Batch 000/461 | Cost: 0.3033\n",
      "Epoch: 006/020 | Batch 150/461 | Cost: 0.2328\n",
      "Epoch: 006/020 | Batch 300/461 | Cost: 0.4077\n",
      "Epoch: 006/020 | Batch 450/461 | Cost: 0.3193\n",
      "Epoch: 006/020\n",
      "Train ACC: 89.85 | Validation ACC: 93.40\n",
      "Time elapsed: 4.74 min\n",
      "Epoch: 007/020 | Batch 000/461 | Cost: 0.3091\n",
      "Epoch: 007/020 | Batch 150/461 | Cost: 0.3587\n",
      "Epoch: 007/020 | Batch 300/461 | Cost: 0.3683\n",
      "Epoch: 007/020 | Batch 450/461 | Cost: 0.4457\n",
      "Epoch: 007/020\n",
      "Train ACC: 90.02 | Validation ACC: 93.50\n",
      "Time elapsed: 5.67 min\n",
      "Epoch: 008/020 | Batch 000/461 | Cost: 0.4139\n",
      "Epoch: 008/020 | Batch 150/461 | Cost: 0.4187\n",
      "Epoch: 008/020 | Batch 300/461 | Cost: 0.3743\n",
      "Epoch: 008/020 | Batch 450/461 | Cost: 0.2877\n",
      "Epoch: 008/020\n",
      "Train ACC: 90.15 | Validation ACC: 93.50\n",
      "Time elapsed: 6.47 min\n",
      "Epoch: 009/020 | Batch 000/461 | Cost: 0.3968\n",
      "Epoch: 009/020 | Batch 150/461 | Cost: 0.3138\n",
      "Epoch: 009/020 | Batch 300/461 | Cost: 0.3523\n",
      "Epoch: 009/020 | Batch 450/461 | Cost: 0.2781\n",
      "Epoch: 009/020\n",
      "Train ACC: 90.32 | Validation ACC: 93.50\n",
      "Time elapsed: 7.26 min\n",
      "Epoch: 010/020 | Batch 000/461 | Cost: 0.3185\n",
      "Epoch: 010/020 | Batch 150/461 | Cost: 0.2965\n",
      "Epoch: 010/020 | Batch 300/461 | Cost: 0.2944\n",
      "Epoch: 010/020 | Batch 450/461 | Cost: 0.3858\n",
      "Epoch: 010/020\n",
      "Train ACC: 90.41 | Validation ACC: 93.90\n",
      "Time elapsed: 8.11 min\n",
      "Epoch: 011/020 | Batch 000/461 | Cost: 0.3209\n",
      "Epoch: 011/020 | Batch 150/461 | Cost: 0.2527\n",
      "Epoch: 011/020 | Batch 300/461 | Cost: 0.3861\n",
      "Epoch: 011/020 | Batch 450/461 | Cost: 0.2901\n",
      "Epoch: 011/020\n",
      "Train ACC: 90.45 | Validation ACC: 93.60\n",
      "Time elapsed: 9.08 min\n",
      "Epoch: 012/020 | Batch 000/461 | Cost: 0.3041\n",
      "Epoch: 012/020 | Batch 150/461 | Cost: 0.2818\n",
      "Epoch: 012/020 | Batch 300/461 | Cost: 0.3099\n",
      "Epoch: 012/020 | Batch 450/461 | Cost: 0.1977\n",
      "Epoch: 012/020\n",
      "Train ACC: 90.55 | Validation ACC: 93.70\n",
      "Time elapsed: 9.98 min\n",
      "Epoch: 013/020 | Batch 000/461 | Cost: 0.3444\n",
      "Epoch: 013/020 | Batch 150/461 | Cost: 0.2362\n",
      "Epoch: 013/020 | Batch 300/461 | Cost: 0.3644\n",
      "Epoch: 013/020 | Batch 450/461 | Cost: 0.4099\n",
      "Epoch: 013/020\n",
      "Train ACC: 90.65 | Validation ACC: 93.70\n",
      "Time elapsed: 10.67 min\n",
      "Epoch: 014/020 | Batch 000/461 | Cost: 0.3228\n",
      "Epoch: 014/020 | Batch 150/461 | Cost: 0.4233\n",
      "Epoch: 014/020 | Batch 300/461 | Cost: 0.3921\n",
      "Epoch: 014/020 | Batch 450/461 | Cost: 0.3622\n",
      "Epoch: 014/020\n",
      "Train ACC: 90.73 | Validation ACC: 93.90\n",
      "Time elapsed: 11.47 min\n",
      "Epoch: 015/020 | Batch 000/461 | Cost: 0.2567\n",
      "Epoch: 015/020 | Batch 150/461 | Cost: 0.3895\n",
      "Epoch: 015/020 | Batch 300/461 | Cost: 0.3357\n",
      "Epoch: 015/020 | Batch 450/461 | Cost: 0.3190\n",
      "Epoch: 015/020\n",
      "Train ACC: 90.75 | Validation ACC: 94.00\n",
      "Time elapsed: 12.30 min\n",
      "Epoch: 016/020 | Batch 000/461 | Cost: 0.5331\n",
      "Epoch: 016/020 | Batch 150/461 | Cost: 0.3115\n",
      "Epoch: 016/020 | Batch 300/461 | Cost: 0.3443\n",
      "Epoch: 016/020 | Batch 450/461 | Cost: 0.2899\n",
      "Epoch: 016/020\n",
      "Train ACC: 90.86 | Validation ACC: 93.90\n",
      "Time elapsed: 13.17 min\n",
      "Epoch: 017/020 | Batch 000/461 | Cost: 0.2820\n",
      "Epoch: 017/020 | Batch 150/461 | Cost: 0.3433\n",
      "Epoch: 017/020 | Batch 300/461 | Cost: 0.3142\n",
      "Epoch: 017/020 | Batch 450/461 | Cost: 0.4003\n",
      "Epoch: 017/020\n",
      "Train ACC: 90.94 | Validation ACC: 94.00\n",
      "Time elapsed: 14.06 min\n",
      "Epoch: 018/020 | Batch 000/461 | Cost: 0.4574\n",
      "Epoch: 018/020 | Batch 150/461 | Cost: 0.3893\n",
      "Epoch: 018/020 | Batch 300/461 | Cost: 0.3480\n",
      "Epoch: 018/020 | Batch 450/461 | Cost: 0.2934\n",
      "Epoch: 018/020\n",
      "Train ACC: 90.99 | Validation ACC: 94.00\n",
      "Time elapsed: 14.77 min\n",
      "Epoch: 019/020 | Batch 000/461 | Cost: 0.4406\n",
      "Epoch: 019/020 | Batch 150/461 | Cost: 0.4070\n",
      "Epoch: 019/020 | Batch 300/461 | Cost: 0.3000\n",
      "Epoch: 019/020 | Batch 450/461 | Cost: 0.4349\n",
      "Epoch: 019/020\n",
      "Train ACC: 91.03 | Validation ACC: 94.20\n",
      "Time elapsed: 15.47 min\n",
      "Epoch: 020/020 | Batch 000/461 | Cost: 0.2947\n",
      "Epoch: 020/020 | Batch 150/461 | Cost: 0.4256\n",
      "Epoch: 020/020 | Batch 300/461 | Cost: 0.2831\n",
      "Epoch: 020/020 | Batch 450/461 | Cost: 0.2728\n",
      "Epoch: 020/020\n",
      "Train ACC: 91.05 | Validation ACC: 94.10\n",
      "Time elapsed: 16.19 min\n",
      "Total Training Time: 16.19 min\n"
     ]
    }
   ],
   "source": [
    "start_time = time.time()\n",
    "\n",
    "cost_list = []\n",
    "train_acc_list, valid_acc_list = [], []\n",
    "\n",
    "\n",
    "for epoch in range(NUM_EPOCHS):\n",
    "    \n",
    "    model.train()\n",
    "    for batch_idx, (features, targets) in enumerate(train_loader):\n",
    "        \n",
    "        features = features.to(DEVICE)\n",
    "        targets = targets.to(DEVICE)\n",
    "        logits, probas = model(features)\n",
    "        cost = F.cross_entropy(logits, targets)\n",
    "        optimizer.zero_grad()\n",
    "        \n",
    "        cost.backward()\n",
    "        optimizer.step()\n",
    "        cost_list.append(cost.item())\n",
    "        if not batch_idx % 150:\n",
    "            print (f'Epoch: {epoch+1:03d}/{NUM_EPOCHS:03d} | ' f'Batch {batch_idx:03d}/{len(train_loader):03d} |' f' Cost: {cost:.4f}')\n",
    "\n",
    "    model.eval()\n",
    "    with torch.set_grad_enabled(False):\n",
    "        \n",
    "        train_acc = compute_acc(model, train_loader, device=DEVICE)\n",
    "        valid_acc = compute_acc(model, valid_loader, device=DEVICE)\n",
    "        \n",
    "        print(f'Epoch: {epoch+1:03d}/{NUM_EPOCHS:03d}\\n'\n",
    "              f'Train ACC: {train_acc:.2f} | Validation ACC: {valid_acc:.2f}')\n",
    "        \n",
    "        train_acc_list.append(train_acc)\n",
    "        valid_acc_list.append(valid_acc)\n",
    "        \n",
    "    elapsed = (time.time() - start_time)/60\n",
    "    print(f'Time elapsed: {elapsed:.2f} min')\n",
    "  \n",
    "elapsed = (time.time() - start_time)/60\n",
    "print(f'Total Training Time: {elapsed:.2f} min')"
   ]
  },
  {
   "cell_type": "markdown",
   "metadata": {},
   "source": [
    "## **Evaluation**"
   ]
  },
  {
   "cell_type": "code",
   "execution_count": 21,
   "metadata": {},
   "outputs": [
    {
     "data": {
      "image/png": "[encoded data removed]",
      "text/plain": [
       "<Figure size 640x480 with 1 Axes>"
      ]
     },
     "metadata": {},
     "output_type": "display_data"
    }
   ],
   "source": [
    "plt.plot(cost_list, label='Minibatch cost')\n",
    "plt.plot(np.convolve(cost_list, \n",
    "                     np.ones(200,)/200, mode='valid'), \n",
    "         label='Running average')\n",
    "\n",
    "plt.ylabel('Cross Entropy')\n",
    "plt.xlabel('Iteration')\n",
    "plt.legend()\n",
    "plt.show()"
   ]
  },
  {
   "cell_type": "code",
   "execution_count": 22,
   "metadata": {},
   "outputs": [
    {
     "data": {
      "image/png": "[encoded data removed]",
      "text/plain": [
       "<Figure size 640x480 with 1 Axes>"
      ]
     },
     "metadata": {},
     "output_type": "display_data"
    }
   ],
   "source": [
    "plt.plot(np.arange(1, NUM_EPOCHS+1), train_acc_list, label='Training')\n",
    "plt.plot(np.arange(1, NUM_EPOCHS+1), valid_acc_list, label='Validation')\n",
    "\n",
    "plt.xlabel('Epoch')\n",
    "plt.ylabel('Accuracy')\n",
    "plt.legend()\n",
    "plt.show()"
   ]
  },
  {
   "cell_type": "code",
   "execution_count": 23,
   "metadata": {},
   "outputs": [
    {
     "name": "stdout",
     "output_type": "stream",
     "text": [
      "Validation ACC: 94.10%\n",
      "Test ACC: 91.59%\n"
     ]
    }
   ],
   "source": [
    "with torch.set_grad_enabled(False):\n",
    "    test_acc = compute_acc(model=model,\n",
    "                           data_loader=test_loader,\n",
    "                           device=DEVICE)\n",
    "    \n",
    "    valid_acc = compute_acc(model=model,\n",
    "                            data_loader=valid_loader,\n",
    "                            device=DEVICE)\n",
    "    \n",
    "\n",
    "print(f'Validation ACC: {valid_acc:.2f}%')\n",
    "print(f'Test ACC: {test_acc:.2f}%')"
   ]
  }
 ],
 "metadata": {
  "kernelspec": {
   "display_name": "base",
   "language": "python",
   "name": "python3"
  },
  "language_info": {
   "codemirror_mode": {
    "name": "ipython",
    "version": 3
   },
   "file_extension": ".py",
   "mimetype": "text/x-python",
   "name": "python",
   "nbconvert_exporter": "python",
   "pygments_lexer": "ipython3",
   "version": "3.11.5"
  },
  "toc": {
   "nav_menu": {},
   "number_sections": true,
   "sideBar": true,
   "skip_h1_title": false,
   "title_cell": "Table of Contents",
   "title_sidebar": "Contents",
   "toc_cell": false,
   "toc_position": {},
   "toc_section_display": true,
   "toc_window_display": false
  }
 },
 "nbformat": 4,
 "nbformat_minor": 4
}
