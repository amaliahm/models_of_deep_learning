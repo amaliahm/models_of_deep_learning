{
 "cells": [
  {
   "cell_type": "markdown",
   "metadata": {},
   "source": [
    "# **Model Zoo -- Convolutional Autoencoder with Deconvolutions (without pooling operations)**"
   ]
  },
  {
   "cell_type": "markdown",
   "metadata": {},
   "source": [
    "## **Libraries**"
   ]
  },
  {
   "cell_type": "code",
   "execution_count": 1,
   "metadata": {},
   "outputs": [],
   "source": [
    "from torch.utils.data import DataLoader\n",
    "from torchvision import transforms\n",
    "from torchvision import datasets\n",
    "import torch.nn.functional as F\n",
    "import matplotlib.pyplot as plt\n",
    "import numpy as np\n",
    "import torch\n",
    "import time"
   ]
  },
  {
   "cell_type": "code",
   "execution_count": 2,
   "metadata": {},
   "outputs": [],
   "source": [
    "if torch.cuda.is_available():\n",
    "    torch.backends.cudnn.deterministic = True"
   ]
  },
  {
   "cell_type": "markdown",
   "metadata": {},
   "source": [
    "## **Settings**"
   ]
  },
  {
   "cell_type": "code",
   "execution_count": 3,
   "metadata": {},
   "outputs": [],
   "source": [
    "# Device\n",
    "device = torch.device(\"cuda:0\" if torch.cuda.is_available() else \"cpu\")\n",
    "\n",
    "# Hyperparameters\n",
    "random_seed = 456\n",
    "learning_rate = 0.005\n",
    "num_epochs = 10\n",
    "batch_size = 128"
   ]
  },
  {
   "cell_type": "markdown",
   "metadata": {},
   "source": [
    "## **MNIST dataset**"
   ]
  },
  {
   "cell_type": "code",
   "execution_count": 4,
   "metadata": {},
   "outputs": [],
   "source": [
    "train_dataset = datasets.MNIST(root='data', \n",
    "                               train=True, \n",
    "                               transform=transforms.ToTensor(),\n",
    "                               download=True)\n",
    "\n",
    "test_dataset = datasets.MNIST(root='data', \n",
    "                              train=False, \n",
    "                              transform=transforms.ToTensor())"
   ]
  },
  {
   "cell_type": "code",
   "execution_count": 5,
   "metadata": {},
   "outputs": [],
   "source": [
    "train_loader = DataLoader(dataset=train_dataset, \n",
    "                          batch_size=batch_size, \n",
    "                          shuffle=True)\n",
    "\n",
    "test_loader = DataLoader(dataset=test_dataset, \n",
    "                         batch_size=batch_size, \n",
    "                         shuffle=False)"
   ]
  },
  {
   "cell_type": "code",
   "execution_count": 6,
   "metadata": {},
   "outputs": [
    {
     "name": "stdout",
     "output_type": "stream",
     "text": [
      "Image batch dimensions: torch.Size([128, 1, 28, 28])\n",
      "Image label dimensions: torch.Size([128])\n"
     ]
    }
   ],
   "source": [
    "for images, labels in train_loader:  \n",
    "    print('Image batch dimensions:', images.shape)\n",
    "    print('Image label dimensions:', labels.shape)\n",
    "    break"
   ]
  },
  {
   "cell_type": "markdown",
   "metadata": {},
   "source": [
    "## **Model**"
   ]
  },
  {
   "cell_type": "code",
   "execution_count": 7,
   "metadata": {},
   "outputs": [],
   "source": [
    "class ConvolutionalAutoencoder(torch.nn.Module):\n",
    "    def __init__(self):\n",
    "        super(ConvolutionalAutoencoder, self).__init__()\n",
    "        self.conv_1 = torch.nn.Conv2d(in_channels=1,\n",
    "                                      out_channels=4,\n",
    "                                      kernel_size=(3, 3),\n",
    "                                      stride=(2, 2),\n",
    "                                      padding=0)\n",
    "        self.conv_2 = torch.nn.Conv2d(in_channels=4,\n",
    "                                      out_channels=8,\n",
    "                                      kernel_size=(3, 3),\n",
    "                                      stride=(2, 2),\n",
    "                                      padding=1)                 \n",
    "        self.deconv_1 = torch.nn.ConvTranspose2d(in_channels=8,\n",
    "                                                 out_channels=4,\n",
    "                                                 kernel_size=(3, 3),\n",
    "                                                 stride=(2, 2),\n",
    "                                                 padding=0)\n",
    "        self.deconv_2 = torch.nn.ConvTranspose2d(in_channels=4,\n",
    "                                                 out_channels=1,\n",
    "                                                 kernel_size=(3, 3),\n",
    "                                                 stride=(2, 2),\n",
    "                                                 padding=1)\n",
    "    def forward(self, x):\n",
    "        x = self.conv_1(x)\n",
    "        x = F.leaky_relu(x)\n",
    "        x = self.conv_2(x)\n",
    "        x = F.leaky_relu(x)\n",
    "        x = self.deconv_1(x)  \n",
    "        x = F.leaky_relu(x)\n",
    "        x = self.deconv_2(x)\n",
    "        x = F.leaky_relu(x)\n",
    "        x = x[:, :, :-1, :-1]\n",
    "        x = torch.sigmoid(x)\n",
    "        return x"
   ]
  },
  {
   "cell_type": "code",
   "execution_count": 8,
   "metadata": {},
   "outputs": [],
   "source": [
    "torch.manual_seed(random_seed)\n",
    "model = ConvolutionalAutoencoder()\n",
    "model = model.to(device)"
   ]
  },
  {
   "cell_type": "code",
   "execution_count": 9,
   "metadata": {},
   "outputs": [],
   "source": [
    "optimizer = torch.optim.Adam(model.parameters(), lr=learning_rate)  "
   ]
  },
  {
   "cell_type": "markdown",
   "metadata": {},
   "source": [
    "## **Training phase**"
   ]
  },
  {
   "cell_type": "code",
   "execution_count": 10,
   "metadata": {},
   "outputs": [
    {
     "name": "stdout",
     "output_type": "stream",
     "text": [
      "Epoch: 001/010 | Batch 000/469 | Cost: 0.7177\n",
      "Epoch: 001/010 | Batch 050/469 | Cost: 0.6897\n",
      "Epoch: 001/010 | Batch 100/469 | Cost: 0.6489\n",
      "Epoch: 001/010 | Batch 150/469 | Cost: 0.5885\n",
      "Epoch: 001/010 | Batch 200/469 | Cost: 0.3476\n",
      "Epoch: 001/010 | Batch 250/469 | Cost: 0.3221\n",
      "Epoch: 001/010 | Batch 300/469 | Cost: 0.2494\n",
      "Epoch: 001/010 | Batch 350/469 | Cost: 0.2575\n",
      "Epoch: 001/010 | Batch 400/469 | Cost: 0.2340\n",
      "Epoch: 001/010 | Batch 450/469 | Cost: 0.2444\n",
      "Time elapsed: 0.84 min\n",
      "Epoch: 002/010 | Batch 000/469 | Cost: 0.2148\n",
      "Epoch: 002/010 | Batch 050/469 | Cost: 0.2237\n",
      "Epoch: 002/010 | Batch 100/469 | Cost: 0.2233\n",
      "Epoch: 002/010 | Batch 150/469 | Cost: 0.2226\n",
      "Epoch: 002/010 | Batch 200/469 | Cost: 0.2147\n",
      "Epoch: 002/010 | Batch 250/469 | Cost: 0.1822\n",
      "Epoch: 002/010 | Batch 300/469 | Cost: 0.2278\n",
      "Epoch: 002/010 | Batch 350/469 | Cost: 0.1925\n",
      "Epoch: 002/010 | Batch 400/469 | Cost: 0.2000\n",
      "Epoch: 002/010 | Batch 450/469 | Cost: 0.1865\n",
      "Time elapsed: 1.84 min\n",
      "Epoch: 003/010 | Batch 000/469 | Cost: 0.2046\n",
      "Epoch: 003/010 | Batch 050/469 | Cost: 0.1930\n",
      "Epoch: 003/010 | Batch 100/469 | Cost: 0.1806\n",
      "Epoch: 003/010 | Batch 150/469 | Cost: 0.1932\n",
      "Epoch: 003/010 | Batch 200/469 | Cost: 0.1994\n",
      "Epoch: 003/010 | Batch 250/469 | Cost: 0.1937\n",
      "Epoch: 003/010 | Batch 300/469 | Cost: 0.1888\n",
      "Epoch: 003/010 | Batch 350/469 | Cost: 0.1859\n",
      "Epoch: 003/010 | Batch 400/469 | Cost: 0.1841\n",
      "Epoch: 003/010 | Batch 450/469 | Cost: 0.1890\n",
      "Time elapsed: 2.70 min\n",
      "Epoch: 004/010 | Batch 000/469 | Cost: 0.1860\n",
      "Epoch: 004/010 | Batch 050/469 | Cost: 0.1931\n",
      "Epoch: 004/010 | Batch 100/469 | Cost: 0.1916\n",
      "Epoch: 004/010 | Batch 150/469 | Cost: 0.1794\n",
      "Epoch: 004/010 | Batch 200/469 | Cost: 0.1884\n",
      "Epoch: 004/010 | Batch 250/469 | Cost: 0.1791\n",
      "Epoch: 004/010 | Batch 300/469 | Cost: 0.1951\n",
      "Epoch: 004/010 | Batch 350/469 | Cost: 0.1749\n",
      "Epoch: 004/010 | Batch 400/469 | Cost: 0.1704\n",
      "Epoch: 004/010 | Batch 450/469 | Cost: 0.2027\n",
      "Time elapsed: 3.75 min\n",
      "Epoch: 005/010 | Batch 000/469 | Cost: 0.1912\n",
      "Epoch: 005/010 | Batch 050/469 | Cost: 0.1844\n",
      "Epoch: 005/010 | Batch 100/469 | Cost: 0.1726\n",
      "Epoch: 005/010 | Batch 150/469 | Cost: 0.1722\n",
      "Epoch: 005/010 | Batch 200/469 | Cost: 0.1704\n",
      "Epoch: 005/010 | Batch 250/469 | Cost: 0.1727\n",
      "Epoch: 005/010 | Batch 300/469 | Cost: 0.1722\n",
      "Epoch: 005/010 | Batch 350/469 | Cost: 0.1742\n",
      "Epoch: 005/010 | Batch 400/469 | Cost: 0.1794\n",
      "Epoch: 005/010 | Batch 450/469 | Cost: 0.1830\n",
      "Time elapsed: 4.65 min\n",
      "Epoch: 006/010 | Batch 000/469 | Cost: 0.1795\n",
      "Epoch: 006/010 | Batch 050/469 | Cost: 0.1674\n",
      "Epoch: 006/010 | Batch 100/469 | Cost: 0.1776\n",
      "Epoch: 006/010 | Batch 150/469 | Cost: 0.1605\n",
      "Epoch: 006/010 | Batch 200/469 | Cost: 0.1827\n",
      "Epoch: 006/010 | Batch 250/469 | Cost: 0.1698\n",
      "Epoch: 006/010 | Batch 300/469 | Cost: 0.1773\n",
      "Epoch: 006/010 | Batch 350/469 | Cost: 0.1571\n",
      "Epoch: 006/010 | Batch 400/469 | Cost: 0.1656\n",
      "Epoch: 006/010 | Batch 450/469 | Cost: 0.1816\n",
      "Time elapsed: 5.42 min\n",
      "Epoch: 007/010 | Batch 000/469 | Cost: 0.1673\n",
      "Epoch: 007/010 | Batch 050/469 | Cost: 0.1733\n",
      "Epoch: 007/010 | Batch 100/469 | Cost: 0.1763\n",
      "Epoch: 007/010 | Batch 150/469 | Cost: 0.1695\n",
      "Epoch: 007/010 | Batch 200/469 | Cost: 0.1639\n",
      "Epoch: 007/010 | Batch 250/469 | Cost: 0.1622\n",
      "Epoch: 007/010 | Batch 300/469 | Cost: 0.1699\n",
      "Epoch: 007/010 | Batch 350/469 | Cost: 0.1696\n",
      "Epoch: 007/010 | Batch 400/469 | Cost: 0.1724\n",
      "Epoch: 007/010 | Batch 450/469 | Cost: 0.1689\n",
      "Time elapsed: 6.13 min\n",
      "Epoch: 008/010 | Batch 000/469 | Cost: 0.1590\n",
      "Epoch: 008/010 | Batch 050/469 | Cost: 0.1730\n",
      "Epoch: 008/010 | Batch 100/469 | Cost: 0.1834\n",
      "Epoch: 008/010 | Batch 150/469 | Cost: 0.1765\n",
      "Epoch: 008/010 | Batch 200/469 | Cost: 0.1604\n",
      "Epoch: 008/010 | Batch 250/469 | Cost: 0.1595\n",
      "Epoch: 008/010 | Batch 300/469 | Cost: 0.1615\n",
      "Epoch: 008/010 | Batch 350/469 | Cost: 0.1531\n",
      "Epoch: 008/010 | Batch 400/469 | Cost: 0.1647\n",
      "Epoch: 008/010 | Batch 450/469 | Cost: 0.1604\n",
      "Time elapsed: 6.80 min\n",
      "Epoch: 009/010 | Batch 000/469 | Cost: 0.1710\n",
      "Epoch: 009/010 | Batch 050/469 | Cost: 0.1655\n",
      "Epoch: 009/010 | Batch 100/469 | Cost: 0.1732\n",
      "Epoch: 009/010 | Batch 150/469 | Cost: 0.1551\n",
      "Epoch: 009/010 | Batch 200/469 | Cost: 0.1679\n",
      "Epoch: 009/010 | Batch 250/469 | Cost: 0.1660\n",
      "Epoch: 009/010 | Batch 300/469 | Cost: 0.1717\n",
      "Epoch: 009/010 | Batch 350/469 | Cost: 0.1625\n",
      "Epoch: 009/010 | Batch 400/469 | Cost: 0.1596\n",
      "Epoch: 009/010 | Batch 450/469 | Cost: 0.1739\n",
      "Time elapsed: 7.46 min\n",
      "Epoch: 010/010 | Batch 000/469 | Cost: 0.1657\n",
      "Epoch: 010/010 | Batch 050/469 | Cost: 0.1751\n",
      "Epoch: 010/010 | Batch 100/469 | Cost: 0.1659\n",
      "Epoch: 010/010 | Batch 150/469 | Cost: 0.1633\n",
      "Epoch: 010/010 | Batch 200/469 | Cost: 0.1643\n",
      "Epoch: 010/010 | Batch 250/469 | Cost: 0.1687\n",
      "Epoch: 010/010 | Batch 300/469 | Cost: 0.1658\n",
      "Epoch: 010/010 | Batch 350/469 | Cost: 0.1716\n",
      "Epoch: 010/010 | Batch 400/469 | Cost: 0.1762\n",
      "Epoch: 010/010 | Batch 450/469 | Cost: 0.1710\n",
      "Time elapsed: 8.20 min\n",
      "Total Training Time: 8.20 min\n"
     ]
    }
   ],
   "source": [
    "start_time = time.time()\n",
    "for epoch in range(num_epochs):\n",
    "    for batch_idx, (features, targets) in enumerate(train_loader):\n",
    "        features = features.to(device)\n",
    "        decoded = model(features)\n",
    "        cost = F.binary_cross_entropy(decoded, features)\n",
    "        optimizer.zero_grad()\n",
    "        cost.backward()\n",
    "        optimizer.step()\n",
    "        if not batch_idx % 50:\n",
    "            print ('Epoch: %03d/%03d | Batch %03d/%03d | Cost: %.4f' \n",
    "                   %(epoch+1, num_epochs, batch_idx, \n",
    "                     len(train_loader), cost))\n",
    "            \n",
    "    print('Time elapsed: %.2f min' % ((time.time() - start_time)/60))\n",
    "    \n",
    "print('Total Training Time: %.2f min' % ((time.time() - start_time)/60))"
   ]
  },
  {
   "cell_type": "markdown",
   "metadata": {},
   "source": [
    "## **Evaluation**"
   ]
  },
  {
   "cell_type": "code",
   "execution_count": 11,
   "metadata": {},
   "outputs": [
    {
     "data": {
      "image/png": "[encoded data removed]",
      "text/plain": [
       "<Figure size 2000x250 with 30 Axes>"
      ]
     },
     "metadata": {},
     "output_type": "display_data"
    }
   ],
   "source": [
    "n_images = 15\n",
    "image_width = 28\n",
    "\n",
    "fig, axes = plt.subplots(nrows=2, ncols=n_images, sharex=True, sharey=True, figsize=(20, 2.5))\n",
    "orig_images = features[:n_images]\n",
    "decoded_images = decoded[:n_images]\n",
    "\n",
    "for i in range(n_images):\n",
    "    for ax, img in zip(axes, [orig_images, decoded_images]):\n",
    "        curr_img = img[i].detach().to(torch.device('cpu'))\n",
    "        ax[i].imshow(curr_img.view((image_width, image_width)), cmap='binary')"
   ]
  }
 ],
 "metadata": {
  "kernelspec": {
   "display_name": "base",
   "language": "python",
   "name": "python3"
  },
  "language_info": {
   "codemirror_mode": {
    "name": "ipython",
    "version": 3
   },
   "file_extension": ".py",
   "mimetype": "text/x-python",
   "name": "python",
   "nbconvert_exporter": "python",
   "pygments_lexer": "ipython3",
   "version": "3.11.5"
  },
  "toc": {
   "nav_menu": {},
   "number_sections": true,
   "sideBar": true,
   "skip_h1_title": false,
   "title_cell": "Table of Contents",
   "title_sidebar": "Contents",
   "toc_cell": false,
   "toc_position": {},
   "toc_section_display": true,
   "toc_window_display": false
  }
 },
 "nbformat": 4,
 "nbformat_minor": 2
}
