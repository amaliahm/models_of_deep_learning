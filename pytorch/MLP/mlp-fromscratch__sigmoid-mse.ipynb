{
 "cells": [
  {
   "cell_type": "markdown",
   "metadata": {},
   "source": [
    "# **Multilayer Perceptron From Scratch (Sigmoid activation, MSE Loss)**"
   ]
  },
  {
   "cell_type": "markdown",
   "metadata": {},
   "source": [
    "## **Libraries**"
   ]
  },
  {
   "cell_type": "code",
   "execution_count": 1,
   "metadata": {},
   "outputs": [
    {
     "name": "stderr",
     "output_type": "stream",
     "text": [
      "/home/amina/anaconda3/lib/python3.11/site-packages/pandas/core/arrays/masked.py:60: UserWarning: Pandas requires version '1.3.6' or newer of 'bottleneck' (version '1.3.5' currently installed).\n",
      "  from pandas.core import (\n"
     ]
    }
   ],
   "source": [
    "from torch.utils.data import DataLoader\n",
    "from torchvision import transforms\n",
    "from torchvision import datasets\n",
    "import torch.nn.functional as F\n",
    "import matplotlib.pyplot as plt\n",
    "import pandas as pd\n",
    "import numpy as np\n",
    "import matplotlib\n",
    "import torch\n",
    "import time"
   ]
  },
  {
   "cell_type": "markdown",
   "metadata": {},
   "source": [
    "## **Settings**"
   ]
  },
  {
   "cell_type": "code",
   "execution_count": 2,
   "metadata": {},
   "outputs": [],
   "source": [
    "RANDOM_SEED = 1\n",
    "BATCH_SIZE = 100\n",
    "NUM_EPOCHS = 10"
   ]
  },
  {
   "cell_type": "markdown",
   "metadata": {},
   "source": [
    "## **MNIST dataset**"
   ]
  },
  {
   "cell_type": "code",
   "execution_count": 3,
   "metadata": {},
   "outputs": [],
   "source": [
    "train_dataset = datasets.MNIST(root='data', train=True, transform=transforms.ToTensor(), download=True)\n",
    "test_dataset = datasets.MNIST(root='data', train=False, transform=transforms.ToTensor())"
   ]
  },
  {
   "cell_type": "code",
   "execution_count": 4,
   "metadata": {},
   "outputs": [],
   "source": [
    "train_loader = DataLoader(dataset=train_dataset, batch_size=BATCH_SIZE, shuffle=True)\n",
    "test_loader = DataLoader(dataset=test_dataset, batch_size=BATCH_SIZE, shuffle=False)"
   ]
  },
  {
   "cell_type": "code",
   "execution_count": 5,
   "metadata": {},
   "outputs": [
    {
     "name": "stdout",
     "output_type": "stream",
     "text": [
      "Image batch dimensions: torch.Size([100, 1, 28, 28])\n",
      "Image label dimensions: torch.Size([100])\n"
     ]
    }
   ],
   "source": [
    "for images, labels in train_loader:  \n",
    "    print('Image batch dimensions:', images.shape)\n",
    "    print('Image label dimensions:', labels.shape)\n",
    "    break"
   ]
  },
  {
   "cell_type": "markdown",
   "metadata": {},
   "source": [
    "## **Model Implementation**"
   ]
  },
  {
   "cell_type": "code",
   "execution_count": 6,
   "metadata": {},
   "outputs": [],
   "source": [
    "class MultilayerPerceptron():\n",
    "    def __init__(self, num_features, num_hidden, num_classes):\n",
    "        super(MultilayerPerceptron, self).__init__()\n",
    "        \n",
    "        self.num_classes = num_classes\n",
    "        self.weight_1 = torch.zeros(num_hidden, num_features, dtype=torch.float).normal_(0.0, 0.1)\n",
    "        self.bias_1 = torch.zeros(num_hidden, dtype=torch.float)\n",
    "        self.weight_o = torch.zeros(self.num_classes, num_hidden, dtype=torch.float).normal_(0.0, 0.1)\n",
    "        self.bias_o = torch.zeros(self.num_classes, dtype=torch.float)\n",
    "        \n",
    "    def forward(self, x):\n",
    "        z_1 = torch.mm(x, self.weight_1.t()) + self.bias_1\n",
    "        a_1 = torch.sigmoid(z_1)\n",
    "        z_2 = torch.mm(a_1, self.weight_o.t()) + self.bias_o\n",
    "        a_2 = torch.sigmoid(z_2)\n",
    "        return a_1, a_2\n",
    "\n",
    "    def backward(self, x, a_1, a_2, y):  \n",
    "        y_onehot = torch.FloatTensor(y.size(0), self.num_classes)\n",
    "        y_onehot.zero_()\n",
    "        y_onehot.scatter_(1, y.view(-1, 1).long(), 1)\n",
    "        dloss_da2 = 2.*(a_2 - y_onehot) / y.size(0)\n",
    "        da2_dz2 = a_2 * (1. - a_2) \n",
    "        delta_out = dloss_da2 * da2_dz2 \n",
    "        dz2__dw_out = a_1\n",
    "        dloss__dw_out = torch.mm(delta_out.t(), dz2__dw_out)\n",
    "        dloss__db_out = torch.sum(delta_out, dim=0)\n",
    "        dz2__a1 = self.weight_o\n",
    "        dloss_a1 = torch.mm(delta_out, dz2__a1)\n",
    "        da1__dz1 = a_1 * (1. - a_1) \n",
    "        dz1__dw1 = x\n",
    "        dloss_dw1 = torch.mm((dloss_a1 * da1__dz1).t(), dz1__dw1)\n",
    "        dloss_db1 = torch.sum((dloss_a1 * da1__dz1), dim=0)\n",
    "\n",
    "        return dloss__dw_out, dloss__db_out, dloss_dw1, dloss_db1"
   ]
  },
  {
   "cell_type": "markdown",
   "metadata": {},
   "source": [
    "## **Training phase**"
   ]
  },
  {
   "cell_type": "code",
   "execution_count": 7,
   "metadata": {},
   "outputs": [],
   "source": [
    "def to_onehot(y, num_classes):\n",
    "    y_onehot = torch.FloatTensor(y.size(0), num_classes)\n",
    "    y_onehot.zero_()\n",
    "    y_onehot.scatter_(1, y.view(-1, 1).long(), 1).float()\n",
    "    return y_onehot"
   ]
  },
  {
   "cell_type": "code",
   "execution_count": 8,
   "metadata": {},
   "outputs": [],
   "source": [
    "def loss_func(targets_onehot, probas_onehot):\n",
    "    return torch.mean(torch.mean((targets_onehot - probas_onehot)**2, dim=0))"
   ]
  },
  {
   "cell_type": "code",
   "execution_count": 9,
   "metadata": {},
   "outputs": [],
   "source": [
    "def compute_mse(net, data_loader):\n",
    "    curr_mse, num_examples = torch.zeros(model.num_classes).float(), 0\n",
    "    with torch.no_grad():\n",
    "        for features, targets in data_loader:\n",
    "            features = features.view(-1, 28*28)\n",
    "            logits, probas = net.forward(features)\n",
    "            y_onehot = to_onehot(targets, model.num_classes)\n",
    "            loss = torch.sum((y_onehot - probas)**2, dim=0)\n",
    "            num_examples += targets.size(0)\n",
    "            curr_mse += loss\n",
    "\n",
    "        curr_mse = torch.mean(curr_mse/num_examples, dim=0)\n",
    "        return curr_mse"
   ]
  },
  {
   "cell_type": "code",
   "execution_count": 10,
   "metadata": {},
   "outputs": [],
   "source": [
    "def train(model, data_loader, num_epochs, learning_rate=0.1):\n",
    "    \n",
    "    minibatch_cost = []\n",
    "    epoch_cost = []\n",
    "    \n",
    "    for e in range(num_epochs):\n",
    "        for batch_idx, (features, targets) in enumerate(train_loader):\n",
    "            features = features.view(-1, 28*28)\n",
    "            a_1, a_2 = model.forward(features)\n",
    "            dloss__dw_out, dloss__db_out, dloss_dw1, dloss_db1 = \\\n",
    "                model.backward(features, a_1, a_2, targets)\n",
    "            model.weight_1 -= learning_rate * dloss_dw1\n",
    "            model.bias_1 -= learning_rate * dloss_db1\n",
    "            model.weight_o -= learning_rate * dloss__dw_out\n",
    "            model.bias_o -= learning_rate * dloss__db_out\n",
    "            curr_cost = loss_func(to_onehot(targets, model.num_classes), a_2)\n",
    "            minibatch_cost.append(curr_cost)\n",
    "            if not batch_idx % 50:\n",
    "                print ('Epoch: %03d/%03d | Batch %03d/%03d | Cost: %.4f' \n",
    "                       %(e+1, NUM_EPOCHS, batch_idx, \n",
    "                         len(train_loader), curr_cost))\n",
    "        \n",
    "        curr_cost = compute_mse(model, train_loader)\n",
    "        epoch_cost.append(curr_cost)\n",
    "        print('Epoch: %03d/%03d |' % (e+1, NUM_EPOCHS), end=\"\")\n",
    "        print(' Train MSE: %.5f' % curr_cost)\n",
    "\n",
    "    return minibatch_cost, epoch_cost"
   ]
  },
  {
   "cell_type": "code",
   "execution_count": 11,
   "metadata": {},
   "outputs": [],
   "source": [
    "torch.manual_seed(RANDOM_SEED)\n",
    "model = MultilayerPerceptron(num_features=28*28, num_hidden=50, num_classes=10)"
   ]
  },
  {
   "cell_type": "code",
   "execution_count": 12,
   "metadata": {},
   "outputs": [
    {
     "name": "stdout",
     "output_type": "stream",
     "text": [
      "Epoch: 001/010 | Batch 000/600 | Cost: 0.2453\n",
      "Epoch: 001/010 | Batch 050/600 | Cost: 0.0886\n",
      "Epoch: 001/010 | Batch 100/600 | Cost: 0.0890\n",
      "Epoch: 001/010 | Batch 150/600 | Cost: 0.0867\n",
      "Epoch: 001/010 | Batch 200/600 | Cost: 0.0851\n",
      "Epoch: 001/010 | Batch 250/600 | Cost: 0.0846\n",
      "Epoch: 001/010 | Batch 300/600 | Cost: 0.0822\n",
      "Epoch: 001/010 | Batch 350/600 | Cost: 0.0779\n",
      "Epoch: 001/010 | Batch 400/600 | Cost: 0.0768\n",
      "Epoch: 001/010 | Batch 450/600 | Cost: 0.0765\n",
      "Epoch: 001/010 | Batch 500/600 | Cost: 0.0737\n",
      "Epoch: 001/010 | Batch 550/600 | Cost: 0.0685\n",
      "Epoch: 001/010 | Train MSE: 0.06579\n",
      "Epoch: 002/010 | Batch 000/600 | Cost: 0.0667\n",
      "Epoch: 002/010 | Batch 050/600 | Cost: 0.0592\n",
      "Epoch: 002/010 | Batch 100/600 | Cost: 0.0574\n",
      "Epoch: 002/010 | Batch 150/600 | Cost: 0.0581\n",
      "Epoch: 002/010 | Batch 200/600 | Cost: 0.0498\n",
      "Epoch: 002/010 | Batch 250/600 | Cost: 0.0520\n",
      "Epoch: 002/010 | Batch 300/600 | Cost: 0.0516\n",
      "Epoch: 002/010 | Batch 350/600 | Cost: 0.0511\n",
      "Epoch: 002/010 | Batch 400/600 | Cost: 0.0489\n",
      "Epoch: 002/010 | Batch 450/600 | Cost: 0.0455\n",
      "Epoch: 002/010 | Batch 500/600 | Cost: 0.0472\n",
      "Epoch: 002/010 | Batch 550/600 | Cost: 0.0487\n",
      "Epoch: 002/010 | Train MSE: 0.04304\n",
      "Epoch: 003/010 | Batch 000/600 | Cost: 0.0467\n",
      "Epoch: 003/010 | Batch 050/600 | Cost: 0.0405\n",
      "Epoch: 003/010 | Batch 100/600 | Cost: 0.0355\n",
      "Epoch: 003/010 | Batch 150/600 | Cost: 0.0387\n",
      "Epoch: 003/010 | Batch 200/600 | Cost: 0.0410\n",
      "Epoch: 003/010 | Batch 250/600 | Cost: 0.0329\n",
      "Epoch: 003/010 | Batch 300/600 | Cost: 0.0366\n",
      "Epoch: 003/010 | Batch 350/600 | Cost: 0.0327\n",
      "Epoch: 003/010 | Batch 400/600 | Cost: 0.0421\n",
      "Epoch: 003/010 | Batch 450/600 | Cost: 0.0395\n",
      "Epoch: 003/010 | Batch 500/600 | Cost: 0.0336\n",
      "Epoch: 003/010 | Batch 550/600 | Cost: 0.0300\n",
      "Epoch: 003/010 | Train MSE: 0.03251\n",
      "Epoch: 004/010 | Batch 000/600 | Cost: 0.0348\n",
      "Epoch: 004/010 | Batch 050/600 | Cost: 0.0329\n",
      "Epoch: 004/010 | Batch 100/600 | Cost: 0.0335\n",
      "Epoch: 004/010 | Batch 150/600 | Cost: 0.0267\n",
      "Epoch: 004/010 | Batch 200/600 | Cost: 0.0252\n",
      "Epoch: 004/010 | Batch 250/600 | Cost: 0.0325\n",
      "Epoch: 004/010 | Batch 300/600 | Cost: 0.0236\n",
      "Epoch: 004/010 | Batch 350/600 | Cost: 0.0326\n",
      "Epoch: 004/010 | Batch 400/600 | Cost: 0.0287\n",
      "Epoch: 004/010 | Batch 450/600 | Cost: 0.0292\n",
      "Epoch: 004/010 | Batch 500/600 | Cost: 0.0280\n",
      "Epoch: 004/010 | Batch 550/600 | Cost: 0.0260\n",
      "Epoch: 004/010 | Train MSE: 0.02694\n",
      "Epoch: 005/010 | Batch 000/600 | Cost: 0.0325\n",
      "Epoch: 005/010 | Batch 050/600 | Cost: 0.0258\n",
      "Epoch: 005/010 | Batch 100/600 | Cost: 0.0239\n",
      "Epoch: 005/010 | Batch 150/600 | Cost: 0.0313\n",
      "Epoch: 005/010 | Batch 200/600 | Cost: 0.0231\n",
      "Epoch: 005/010 | Batch 250/600 | Cost: 0.0206\n",
      "Epoch: 005/010 | Batch 300/600 | Cost: 0.0244\n",
      "Epoch: 005/010 | Batch 350/600 | Cost: 0.0271\n",
      "Epoch: 005/010 | Batch 400/600 | Cost: 0.0188\n",
      "Epoch: 005/010 | Batch 450/600 | Cost: 0.0261\n",
      "Epoch: 005/010 | Batch 500/600 | Cost: 0.0209\n",
      "Epoch: 005/010 | Batch 550/600 | Cost: 0.0254\n",
      "Epoch: 005/010 | Train MSE: 0.02366\n",
      "Epoch: 006/010 | Batch 000/600 | Cost: 0.0281\n",
      "Epoch: 006/010 | Batch 050/600 | Cost: 0.0245\n",
      "Epoch: 006/010 | Batch 100/600 | Cost: 0.0197\n",
      "Epoch: 006/010 | Batch 150/600 | Cost: 0.0235\n",
      "Epoch: 006/010 | Batch 200/600 | Cost: 0.0234\n",
      "Epoch: 006/010 | Batch 250/600 | Cost: 0.0246\n",
      "Epoch: 006/010 | Batch 300/600 | Cost: 0.0158\n",
      "Epoch: 006/010 | Batch 350/600 | Cost: 0.0216\n",
      "Epoch: 006/010 | Batch 400/600 | Cost: 0.0198\n",
      "Epoch: 006/010 | Batch 450/600 | Cost: 0.0228\n",
      "Epoch: 006/010 | Batch 500/600 | Cost: 0.0237\n",
      "Epoch: 006/010 | Batch 550/600 | Cost: 0.0191\n",
      "Epoch: 006/010 | Train MSE: 0.02157\n",
      "Epoch: 007/010 | Batch 000/600 | Cost: 0.0192\n",
      "Epoch: 007/010 | Batch 050/600 | Cost: 0.0206\n",
      "Epoch: 007/010 | Batch 100/600 | Cost: 0.0235\n",
      "Epoch: 007/010 | Batch 150/600 | Cost: 0.0203\n",
      "Epoch: 007/010 | Batch 200/600 | Cost: 0.0250\n",
      "Epoch: 007/010 | Batch 250/600 | Cost: 0.0177\n",
      "Epoch: 007/010 | Batch 300/600 | Cost: 0.0195\n",
      "Epoch: 007/010 | Batch 350/600 | Cost: 0.0195\n",
      "Epoch: 007/010 | Batch 400/600 | Cost: 0.0224\n",
      "Epoch: 007/010 | Batch 450/600 | Cost: 0.0218\n",
      "Epoch: 007/010 | Batch 500/600 | Cost: 0.0274\n",
      "Epoch: 007/010 | Batch 550/600 | Cost: 0.0192\n",
      "Epoch: 007/010 | Train MSE: 0.02007\n",
      "Epoch: 008/010 | Batch 000/600 | Cost: 0.0251\n",
      "Epoch: 008/010 | Batch 050/600 | Cost: 0.0182\n",
      "Epoch: 008/010 | Batch 100/600 | Cost: 0.0224\n",
      "Epoch: 008/010 | Batch 150/600 | Cost: 0.0167\n",
      "Epoch: 008/010 | Batch 200/600 | Cost: 0.0191\n",
      "Epoch: 008/010 | Batch 250/600 | Cost: 0.0207\n",
      "Epoch: 008/010 | Batch 300/600 | Cost: 0.0201\n",
      "Epoch: 008/010 | Batch 350/600 | Cost: 0.0217\n",
      "Epoch: 008/010 | Batch 400/600 | Cost: 0.0218\n",
      "Epoch: 008/010 | Batch 450/600 | Cost: 0.0206\n",
      "Epoch: 008/010 | Batch 500/600 | Cost: 0.0174\n",
      "Epoch: 008/010 | Batch 550/600 | Cost: 0.0170\n",
      "Epoch: 008/010 | Train MSE: 0.01894\n",
      "Epoch: 009/010 | Batch 000/600 | Cost: 0.0182\n",
      "Epoch: 009/010 | Batch 050/600 | Cost: 0.0159\n",
      "Epoch: 009/010 | Batch 100/600 | Cost: 0.0164\n",
      "Epoch: 009/010 | Batch 150/600 | Cost: 0.0223\n",
      "Epoch: 009/010 | Batch 200/600 | Cost: 0.0147\n",
      "Epoch: 009/010 | Batch 250/600 | Cost: 0.0142\n",
      "Epoch: 009/010 | Batch 300/600 | Cost: 0.0215\n",
      "Epoch: 009/010 | Batch 350/600 | Cost: 0.0163\n",
      "Epoch: 009/010 | Batch 400/600 | Cost: 0.0187\n",
      "Epoch: 009/010 | Batch 450/600 | Cost: 0.0168\n",
      "Epoch: 009/010 | Batch 500/600 | Cost: 0.0123\n",
      "Epoch: 009/010 | Batch 550/600 | Cost: 0.0206\n",
      "Epoch: 009/010 | Train MSE: 0.01804\n",
      "Epoch: 010/010 | Batch 000/600 | Cost: 0.0206\n",
      "Epoch: 010/010 | Batch 050/600 | Cost: 0.0198\n",
      "Epoch: 010/010 | Batch 100/600 | Cost: 0.0168\n",
      "Epoch: 010/010 | Batch 150/600 | Cost: 0.0164\n",
      "Epoch: 010/010 | Batch 200/600 | Cost: 0.0191\n",
      "Epoch: 010/010 | Batch 250/600 | Cost: 0.0194\n",
      "Epoch: 010/010 | Batch 300/600 | Cost: 0.0139\n",
      "Epoch: 010/010 | Batch 350/600 | Cost: 0.0158\n",
      "Epoch: 010/010 | Batch 400/600 | Cost: 0.0198\n",
      "Epoch: 010/010 | Batch 450/600 | Cost: 0.0124\n",
      "Epoch: 010/010 | Batch 500/600 | Cost: 0.0191\n",
      "Epoch: 010/010 | Batch 550/600 | Cost: 0.0192\n",
      "Epoch: 010/010 | Train MSE: 0.01729\n"
     ]
    }
   ],
   "source": [
    "minibatch_cost, epoch_cost = train(model, train_loader, num_epochs=NUM_EPOCHS, learning_rate=0.1)"
   ]
  },
  {
   "cell_type": "markdown",
   "metadata": {},
   "source": [
    "## **Evaluation**"
   ]
  },
  {
   "cell_type": "code",
   "execution_count": 13,
   "metadata": {},
   "outputs": [
    {
     "data": {
      "image/png": "[encoded data removed]",
      "text/plain": [
       "<Figure size 640x480 with 1 Axes>"
      ]
     },
     "metadata": {},
     "output_type": "display_data"
    },
    {
     "data": {
      "image/png": "[encoded data removed]",
      "text/plain": [
       "<Figure size 640x480 with 1 Axes>"
      ]
     },
     "metadata": {},
     "output_type": "display_data"
    }
   ],
   "source": [
    "plt.plot(range(len(minibatch_cost)), minibatch_cost)\n",
    "plt.ylabel('Mean Squared Error')\n",
    "plt.xlabel('Minibatch')\n",
    "plt.show()\n",
    "\n",
    "plt.plot(range(len(epoch_cost)), epoch_cost)\n",
    "plt.ylabel('Mean Squared Error')\n",
    "plt.xlabel('Epoch')\n",
    "plt.show()"
   ]
  },
  {
   "cell_type": "code",
   "execution_count": 14,
   "metadata": {},
   "outputs": [
    {
     "name": "stdout",
     "output_type": "stream",
     "text": [
      "Training Accuracy: 90.74\n",
      "Test Accuracy: 91.23\n"
     ]
    }
   ],
   "source": [
    "def compute_accuracy(net, data_loader):\n",
    "    correct_pred, num_examples = 0, 0\n",
    "    with torch.no_grad():\n",
    "        for features, targets in data_loader:\n",
    "            features = features.view(-1, 28*28)\n",
    "            _, outputs = net.forward(features)\n",
    "            predicted_labels = torch.argmax(outputs, 1)\n",
    "            num_examples += targets.size(0)\n",
    "            correct_pred += (predicted_labels == targets).sum()\n",
    "        return correct_pred.float()/num_examples * 100\n",
    "    \n",
    "print('Training Accuracy: %.2f' % compute_accuracy(model, train_loader))\n",
    "print('Test Accuracy: %.2f' % compute_accuracy(model, test_loader))"
   ]
  },
  {
   "cell_type": "markdown",
   "metadata": {},
   "source": [
    "## **Visual Inspection**"
   ]
  },
  {
   "cell_type": "code",
   "execution_count": 15,
   "metadata": {},
   "outputs": [
    {
     "data": {
      "image/png": "[encoded data removed]",
      "text/plain": [
       "<Figure size 640x480 with 4 Axes>"
      ]
     },
     "metadata": {},
     "output_type": "display_data"
    }
   ],
   "source": [
    "for features, targets in test_loader:\n",
    "    break\n",
    "    \n",
    "fig, ax = plt.subplots(1, 4)\n",
    "for i in range(4):\n",
    "    ax[i].imshow(features[i].view(28, 28), cmap=matplotlib.cm.binary)\n",
    "\n",
    "plt.show()"
   ]
  },
  {
   "cell_type": "code",
   "execution_count": 16,
   "metadata": {},
   "outputs": [
    {
     "name": "stdout",
     "output_type": "stream",
     "text": [
      "Predicted labels tensor([7, 2, 1, 0])\n"
     ]
    }
   ],
   "source": [
    "_, predictions = model.forward(features[:4].view(-1, 28*28))\n",
    "predictions = torch.argmax(predictions, dim=1)\n",
    "print('Predicted labels', predictions)"
   ]
  }
 ],
 "metadata": {
  "kernelspec": {
   "display_name": "base",
   "language": "python",
   "name": "python3"
  },
  "language_info": {
   "codemirror_mode": {
    "name": "ipython",
    "version": 3
   },
   "file_extension": ".py",
   "mimetype": "text/x-python",
   "name": "python",
   "nbconvert_exporter": "python",
   "pygments_lexer": "ipython3",
   "version": "3.11.5"
  },
  "toc": {
   "nav_menu": {},
   "number_sections": true,
   "sideBar": true,
   "skip_h1_title": false,
   "title_cell": "Table of Contents",
   "title_sidebar": "Contents",
   "toc_cell": false,
   "toc_position": {},
   "toc_section_display": true,
   "toc_window_display": false
  }
 },
 "nbformat": 4,
 "nbformat_minor": 2
}
