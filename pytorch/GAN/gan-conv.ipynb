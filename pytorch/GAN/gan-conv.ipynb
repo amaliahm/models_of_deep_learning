{
 "cells": [
  {
   "cell_type": "markdown",
   "metadata": {},
   "source": [
    "# **Deep Convolutional GAN**"
   ]
  },
  {
   "cell_type": "markdown",
   "metadata": {},
   "source": [
    "## **Libraries**"
   ]
  },
  {
   "cell_type": "code",
   "execution_count": 19,
   "metadata": {},
   "outputs": [],
   "source": [
    "from torch.utils.data import DataLoader\n",
    "from torchvision import transforms\n",
    "from torchvision import datasets\n",
    "import matplotlib.pyplot as plt\n",
    "import torch.nn.functional as F\n",
    "import torch.nn as nn\n",
    "import numpy as np\n",
    "import torch\n",
    "import time"
   ]
  },
  {
   "cell_type": "code",
   "execution_count": 2,
   "metadata": {},
   "outputs": [],
   "source": [
    "if torch.cuda.is_available():\n",
    "    torch.backends.cudnn.deterministic = True"
   ]
  },
  {
   "cell_type": "markdown",
   "metadata": {},
   "source": [
    "## **Settings**"
   ]
  },
  {
   "cell_type": "code",
   "execution_count": 3,
   "metadata": {},
   "outputs": [],
   "source": [
    "device = torch.device(\"cuda:1\" if torch.cuda.is_available() else \"cpu\")"
   ]
  },
  {
   "cell_type": "code",
   "execution_count": 16,
   "metadata": {},
   "outputs": [],
   "source": [
    "random_seed = 42\n",
    "generator_learning_rate = 0.0001\n",
    "discriminator_learning_rate = 0.0001\n",
    "NUM_EPOCHS = 10\n",
    "BATCH_SIZE = 128\n",
    "LATENT_DIM = 100\n",
    "IMG_SHAPE = (1, 28, 28)\n",
    "IMG_SIZE = 1\n",
    "for x in IMG_SHAPE:\n",
    "    IMG_SIZE *= x"
   ]
  },
  {
   "cell_type": "markdown",
   "metadata": {},
   "source": [
    "## **MNIST dataset**"
   ]
  },
  {
   "cell_type": "code",
   "execution_count": 5,
   "metadata": {},
   "outputs": [],
   "source": [
    "train_dataset = datasets.MNIST(root='data', train=True, transform=transforms.ToTensor(), download=True)\n",
    "test_dataset = datasets.MNIST(root='data', train=False, transform=transforms.ToTensor())"
   ]
  },
  {
   "cell_type": "code",
   "execution_count": 6,
   "metadata": {},
   "outputs": [],
   "source": [
    "train_loader = DataLoader(dataset=train_dataset, batch_size=BATCH_SIZE, num_workers=4, shuffle=True)\n",
    "test_loader = DataLoader(dataset=test_dataset, batch_size=BATCH_SIZE, num_workers=4, shuffle=False)"
   ]
  },
  {
   "cell_type": "code",
   "execution_count": 7,
   "metadata": {},
   "outputs": [
    {
     "name": "stdout",
     "output_type": "stream",
     "text": [
      "Image batch dimensions: torch.Size([128, 1, 28, 28])\n",
      "Image label dimensions: torch.Size([128])\n"
     ]
    }
   ],
   "source": [
    "for images, labels in train_loader:  \n",
    "    print('Image batch dimensions:', images.shape)\n",
    "    print('Image label dimensions:', labels.shape)\n",
    "    break"
   ]
  },
  {
   "cell_type": "markdown",
   "metadata": {},
   "source": [
    "## **Model**"
   ]
  },
  {
   "cell_type": "code",
   "execution_count": 8,
   "metadata": {},
   "outputs": [],
   "source": [
    "class Flatten(nn.Module):\n",
    "    def forward(self, input):\n",
    "        return input.view(input.size(0), -1)"
   ]
  },
  {
   "cell_type": "code",
   "execution_count": 9,
   "metadata": {},
   "outputs": [],
   "source": [
    "class Reshape1(nn.Module):\n",
    "    def forward(self, input):\n",
    "        return input.view(input.size(0), 64, 7, 7)"
   ]
  },
  {
   "cell_type": "code",
   "execution_count": 10,
   "metadata": {},
   "outputs": [],
   "source": [
    "class GAN(torch.nn.Module):\n",
    "\n",
    "    def __init__(self):\n",
    "        super(GAN, self).__init__()\n",
    "        \n",
    "        \n",
    "        self.generator = nn.Sequential(\n",
    "              \n",
    "            nn.Linear(LATENT_DIM, 3136, bias=False),\n",
    "            nn.BatchNorm1d(num_features=3136),\n",
    "            nn.LeakyReLU(inplace=True, negative_slope=0.0001),\n",
    "            Reshape1(),\n",
    "            \n",
    "            nn.ConvTranspose2d(in_channels=64, out_channels=32, kernel_size=(3, 3), stride=(2, 2), padding=1, bias=False),\n",
    "            nn.BatchNorm2d(num_features=32),\n",
    "            nn.LeakyReLU(inplace=True, negative_slope=0.0001),\n",
    "            #nn.Dropout2d(p=0.2),\n",
    "            \n",
    "            nn.ConvTranspose2d(in_channels=32, out_channels=16, kernel_size=(3, 3), stride=(2, 2), padding=1, bias=False),\n",
    "            nn.BatchNorm2d(num_features=16),\n",
    "            nn.LeakyReLU(inplace=True, negative_slope=0.0001),\n",
    "            #nn.Dropout2d(p=0.2),\n",
    "            \n",
    "            nn.ConvTranspose2d(in_channels=16, out_channels=8, kernel_size=(3, 3), stride=(1, 1), padding=0, bias=False),\n",
    "            nn.BatchNorm2d(num_features=8),\n",
    "            nn.LeakyReLU(inplace=True, negative_slope=0.0001),\n",
    "            #nn.Dropout2d(p=0.2),\n",
    "            \n",
    "            nn.ConvTranspose2d(in_channels=8, out_channels=1, kernel_size=(2, 2), stride=(1, 1), padding=0, bias=False),\n",
    "            nn.Tanh()\n",
    "        )\n",
    "        \n",
    "        self.discriminator = nn.Sequential(\n",
    "            nn.Conv2d(in_channels=1, out_channels=8, padding=1, kernel_size=(3, 3), stride=(2, 2), bias=False),\n",
    "            nn.BatchNorm2d(num_features=8),\n",
    "            nn.LeakyReLU(inplace=True, negative_slope=0.0001), \n",
    "            #nn.Dropout2d(p=0.2),\n",
    "            \n",
    "            nn.Conv2d(in_channels=8, out_channels=32, padding=1, kernel_size=(3, 3), stride=(2, 2), bias=False),\n",
    "            nn.BatchNorm2d(num_features=32),\n",
    "            nn.LeakyReLU(inplace=True, negative_slope=0.0001), \n",
    "            #nn.Dropout2d(p=0.2),\n",
    "            \n",
    "            Flatten(),\n",
    "\n",
    "            nn.Linear(7*7*32, 1),\n",
    "            #nn.Sigmoid()\n",
    "        )\n",
    "\n",
    "    def generator_forward(self, z):\n",
    "        img = self.generator(z)\n",
    "        return img\n",
    "    \n",
    "    def discriminator_forward(self, img):\n",
    "        pred = model.discriminator(img)\n",
    "        return pred.view(-1)"
   ]
  },
  {
   "cell_type": "code",
   "execution_count": 11,
   "metadata": {},
   "outputs": [
    {
     "data": {
      "text/plain": [
       "<torch._C.Generator at 0x7890fc19a5d0>"
      ]
     },
     "execution_count": 11,
     "metadata": {},
     "output_type": "execute_result"
    }
   ],
   "source": [
    "torch.manual_seed(random_seed)"
   ]
  },
  {
   "cell_type": "code",
   "execution_count": 12,
   "metadata": {},
   "outputs": [],
   "source": [
    "model = GAN()\n",
    "model = model.to(device)"
   ]
  },
  {
   "cell_type": "code",
   "execution_count": 13,
   "metadata": {},
   "outputs": [
    {
     "name": "stdout",
     "output_type": "stream",
     "text": [
      "GAN(\n",
      "  (generator): Sequential(\n",
      "    (0): Linear(in_features=100, out_features=3136, bias=False)\n",
      "    (1): BatchNorm1d(3136, eps=1e-05, momentum=0.1, affine=True, track_running_stats=True)\n",
      "    (2): LeakyReLU(negative_slope=0.0001, inplace=True)\n",
      "    (3): Reshape1()\n",
      "    (4): ConvTranspose2d(64, 32, kernel_size=(3, 3), stride=(2, 2), padding=(1, 1), bias=False)\n",
      "    (5): BatchNorm2d(32, eps=1e-05, momentum=0.1, affine=True, track_running_stats=True)\n",
      "    (6): LeakyReLU(negative_slope=0.0001, inplace=True)\n",
      "    (7): ConvTranspose2d(32, 16, kernel_size=(3, 3), stride=(2, 2), padding=(1, 1), bias=False)\n",
      "    (8): BatchNorm2d(16, eps=1e-05, momentum=0.1, affine=True, track_running_stats=True)\n",
      "    (9): LeakyReLU(negative_slope=0.0001, inplace=True)\n",
      "    (10): ConvTranspose2d(16, 8, kernel_size=(3, 3), stride=(1, 1), bias=False)\n",
      "    (11): BatchNorm2d(8, eps=1e-05, momentum=0.1, affine=True, track_running_stats=True)\n",
      "    (12): LeakyReLU(negative_slope=0.0001, inplace=True)\n",
      "    (13): ConvTranspose2d(8, 1, kernel_size=(2, 2), stride=(1, 1), bias=False)\n",
      "    (14): Tanh()\n",
      "  )\n",
      "  (discriminator): Sequential(\n",
      "    (0): Conv2d(1, 8, kernel_size=(3, 3), stride=(2, 2), padding=(1, 1), bias=False)\n",
      "    (1): BatchNorm2d(8, eps=1e-05, momentum=0.1, affine=True, track_running_stats=True)\n",
      "    (2): LeakyReLU(negative_slope=0.0001, inplace=True)\n",
      "    (3): Conv2d(8, 32, kernel_size=(3, 3), stride=(2, 2), padding=(1, 1), bias=False)\n",
      "    (4): BatchNorm2d(32, eps=1e-05, momentum=0.1, affine=True, track_running_stats=True)\n",
      "    (5): LeakyReLU(negative_slope=0.0001, inplace=True)\n",
      "    (6): Flatten()\n",
      "    (7): Linear(in_features=1568, out_features=1, bias=True)\n",
      "  )\n",
      ")\n"
     ]
    }
   ],
   "source": [
    "print(model)"
   ]
  },
  {
   "cell_type": "code",
   "execution_count": 14,
   "metadata": {},
   "outputs": [],
   "source": [
    "optim_gener = torch.optim.Adam(model.generator.parameters(), lr=generator_learning_rate)\n",
    "optim_discr = torch.optim.Adam(model.discriminator.parameters(), lr=discriminator_learning_rate)"
   ]
  },
  {
   "cell_type": "markdown",
   "metadata": {},
   "source": [
    "## **Training phase**"
   ]
  },
  {
   "cell_type": "code",
   "execution_count": 17,
   "metadata": {},
   "outputs": [
    {
     "name": "stdout",
     "output_type": "stream",
     "text": [
      "Epoch: 001/010 | Batch 000/469 | Gen/Dis Loss: 0.8818/0.4999\n",
      "Epoch: 001/010 | Batch 100/469 | Gen/Dis Loss: 1.5230/0.2673\n",
      "Epoch: 001/010 | Batch 200/469 | Gen/Dis Loss: 1.5696/0.2617\n",
      "Epoch: 001/010 | Batch 300/469 | Gen/Dis Loss: 1.5310/0.2734\n",
      "Epoch: 001/010 | Batch 400/469 | Gen/Dis Loss: 1.4364/0.3200\n",
      "Time elapsed: 1.44 min\n",
      "Epoch: 002/010 | Batch 000/469 | Gen/Dis Loss: 1.1320/0.4720\n",
      "Epoch: 002/010 | Batch 100/469 | Gen/Dis Loss: 1.0897/0.4918\n",
      "Epoch: 002/010 | Batch 200/469 | Gen/Dis Loss: 1.1142/0.4619\n",
      "Epoch: 002/010 | Batch 300/469 | Gen/Dis Loss: 0.9798/0.5210\n",
      "Epoch: 002/010 | Batch 400/469 | Gen/Dis Loss: 0.9778/0.5255\n",
      "Time elapsed: 2.73 min\n",
      "Epoch: 003/010 | Batch 000/469 | Gen/Dis Loss: 0.9482/0.5546\n",
      "Epoch: 003/010 | Batch 100/469 | Gen/Dis Loss: 0.9656/0.5518\n",
      "Epoch: 003/010 | Batch 200/469 | Gen/Dis Loss: 0.9174/0.5792\n",
      "Epoch: 003/010 | Batch 300/469 | Gen/Dis Loss: 1.0046/0.5292\n",
      "Epoch: 003/010 | Batch 400/469 | Gen/Dis Loss: 1.0675/0.5088\n",
      "Time elapsed: 4.00 min\n",
      "Epoch: 004/010 | Batch 000/469 | Gen/Dis Loss: 0.8688/0.5772\n",
      "Epoch: 004/010 | Batch 100/469 | Gen/Dis Loss: 1.0000/0.5042\n",
      "Epoch: 004/010 | Batch 200/469 | Gen/Dis Loss: 0.9690/0.5094\n",
      "Epoch: 004/010 | Batch 300/469 | Gen/Dis Loss: 1.0200/0.4915\n",
      "Epoch: 004/010 | Batch 400/469 | Gen/Dis Loss: 0.9668/0.5051\n",
      "Time elapsed: 5.27 min\n",
      "Epoch: 005/010 | Batch 000/469 | Gen/Dis Loss: 0.9928/0.5090\n",
      "Epoch: 005/010 | Batch 100/469 | Gen/Dis Loss: 1.0351/0.4800\n",
      "Epoch: 005/010 | Batch 200/469 | Gen/Dis Loss: 1.0602/0.5026\n",
      "Epoch: 005/010 | Batch 300/469 | Gen/Dis Loss: 1.0693/0.4869\n",
      "Epoch: 005/010 | Batch 400/469 | Gen/Dis Loss: 1.1156/0.4569\n",
      "Time elapsed: 6.64 min\n",
      "Epoch: 006/010 | Batch 000/469 | Gen/Dis Loss: 1.1027/0.5012\n",
      "Epoch: 006/010 | Batch 100/469 | Gen/Dis Loss: 1.0823/0.4804\n",
      "Epoch: 006/010 | Batch 200/469 | Gen/Dis Loss: 1.0773/0.4965\n",
      "Epoch: 006/010 | Batch 300/469 | Gen/Dis Loss: 1.0265/0.4593\n",
      "Epoch: 006/010 | Batch 400/469 | Gen/Dis Loss: 1.0789/0.4619\n",
      "Time elapsed: 7.95 min\n",
      "Epoch: 007/010 | Batch 000/469 | Gen/Dis Loss: 1.1145/0.4548\n",
      "Epoch: 007/010 | Batch 100/469 | Gen/Dis Loss: 1.1552/0.4672\n",
      "Epoch: 007/010 | Batch 200/469 | Gen/Dis Loss: 1.2041/0.4397\n",
      "Epoch: 007/010 | Batch 300/469 | Gen/Dis Loss: 1.0788/0.4824\n",
      "Epoch: 007/010 | Batch 400/469 | Gen/Dis Loss: 1.0951/0.4955\n",
      "Time elapsed: 9.34 min\n",
      "Epoch: 008/010 | Batch 000/469 | Gen/Dis Loss: 1.1021/0.4665\n",
      "Epoch: 008/010 | Batch 100/469 | Gen/Dis Loss: 1.1703/0.4846\n",
      "Epoch: 008/010 | Batch 200/469 | Gen/Dis Loss: 1.1300/0.4801\n",
      "Epoch: 008/010 | Batch 300/469 | Gen/Dis Loss: 1.0494/0.4621\n",
      "Epoch: 008/010 | Batch 400/469 | Gen/Dis Loss: 1.1786/0.4956\n",
      "Time elapsed: 10.72 min\n",
      "Epoch: 009/010 | Batch 000/469 | Gen/Dis Loss: 1.0807/0.4699\n",
      "Epoch: 009/010 | Batch 100/469 | Gen/Dis Loss: 1.1245/0.4820\n",
      "Epoch: 009/010 | Batch 200/469 | Gen/Dis Loss: 1.1531/0.4762\n",
      "Epoch: 009/010 | Batch 300/469 | Gen/Dis Loss: 1.0455/0.5213\n",
      "Epoch: 009/010 | Batch 400/469 | Gen/Dis Loss: 1.0665/0.4872\n",
      "Time elapsed: 11.97 min\n",
      "Epoch: 010/010 | Batch 000/469 | Gen/Dis Loss: 1.1175/0.4661\n",
      "Epoch: 010/010 | Batch 100/469 | Gen/Dis Loss: 0.9954/0.4874\n",
      "Epoch: 010/010 | Batch 200/469 | Gen/Dis Loss: 1.1262/0.4625\n",
      "Epoch: 010/010 | Batch 300/469 | Gen/Dis Loss: 1.1098/0.4489\n",
      "Epoch: 010/010 | Batch 400/469 | Gen/Dis Loss: 1.0362/0.4693\n",
      "Time elapsed: 13.21 min\n"
     ]
    }
   ],
   "source": [
    "start_time = time.time()    \n",
    "\n",
    "discr_costs = []\n",
    "gener_costs = []\n",
    "for epoch in range(NUM_EPOCHS):\n",
    "    model = model.train()\n",
    "    for batch_idx, (features, targets) in enumerate(train_loader):\n",
    "        features = (features - 0.5)*2.\n",
    "        features = features.view(-1, IMG_SIZE).to(device) \n",
    "\n",
    "        targets = targets.to(device)\n",
    "\n",
    "        valid = torch.ones(targets.size(0)).float().to(device)\n",
    "        fake = torch.zeros(targets.size(0)).float().to(device)\n",
    "        \n",
    "        z = torch.zeros((targets.size(0), LATENT_DIM)).uniform_(-1.0, 1.0).to(device)\n",
    "        generated_features = model.generator_forward(z)\n",
    "        \n",
    "        discr_pred = model.discriminator_forward(generated_features.view(targets.size(0), 1, 28, 28))\n",
    "        \n",
    "        gener_loss = F.binary_cross_entropy_with_logits(discr_pred, valid)\n",
    "        \n",
    "        optim_gener.zero_grad()\n",
    "        gener_loss.backward()\n",
    "        optim_gener.step()\n",
    "        \n",
    "        discr_pred_real = model.discriminator_forward(features.view(targets.size(0), 1, 28, 28))\n",
    "        real_loss = F.binary_cross_entropy_with_logits(discr_pred_real, valid)\n",
    "        \n",
    "        discr_pred_fake = model.discriminator_forward(generated_features.view(targets.size(0), 1, 28, 28).detach())\n",
    "        fake_loss = F.binary_cross_entropy_with_logits(discr_pred_fake, fake)\n",
    "        \n",
    "        discr_loss = 0.5*(real_loss + fake_loss)\n",
    "\n",
    "        optim_discr.zero_grad()\n",
    "        discr_loss.backward()\n",
    "        optim_discr.step()        \n",
    "        \n",
    "        discr_costs.append(discr_loss.item())\n",
    "        gener_costs.append(gener_loss.item())\n",
    "        \n",
    "        if not batch_idx % 100:\n",
    "            print ('Epoch: %03d/%03d | Batch %03d/%03d | Gen/Dis Loss: %.4f/%.4f' \n",
    "                   %(epoch+1, NUM_EPOCHS, batch_idx, \n",
    "                     len(train_loader), gener_loss, discr_loss))\n",
    "\n",
    "    print('Time elapsed: %.2f min' % ((time.time() - start_time)/60))"
   ]
  },
  {
   "cell_type": "code",
   "execution_count": 18,
   "metadata": {},
   "outputs": [
    {
     "name": "stdout",
     "output_type": "stream",
     "text": [
      "Total Training Time: 13.21 min\n"
     ]
    }
   ],
   "source": [
    "print('Total Training Time: %.2f min' % ((time.time() - start_time)/60))"
   ]
  },
  {
   "cell_type": "markdown",
   "metadata": {},
   "source": [
    "## **Evaluation**"
   ]
  },
  {
   "cell_type": "code",
   "execution_count": 20,
   "metadata": {},
   "outputs": [
    {
     "name": "stderr",
     "output_type": "stream",
     "text": [
      "/tmp/ipykernel_6890/564946603.py:13: UserWarning: FixedFormatter should only be used together with FixedLocator\n",
      "  ax2.set_xticklabels(newlabel[::10])\n"
     ]
    },
    {
     "data": {
      "image/png": "[encoded data removed]",
      "text/plain": [
       "<Figure size 640x480 with 2 Axes>"
      ]
     },
     "metadata": {},
     "output_type": "display_data"
    }
   ],
   "source": [
    "ax1 = plt.subplot(1, 1, 1)\n",
    "ax1.plot(range(len(gener_costs)), gener_costs, label='Generator loss')\n",
    "ax1.plot(range(len(discr_costs)), discr_costs, label='Discriminator loss')\n",
    "ax1.set_xlabel('Iterations')\n",
    "ax1.set_ylabel('Loss')\n",
    "ax1.legend()\n",
    "\n",
    "ax2 = ax1.twiny()\n",
    "newlabel = list(range(NUM_EPOCHS+1))\n",
    "iter_per_epoch = len(train_loader)\n",
    "newpos = [e*iter_per_epoch for e in newlabel]\n",
    "\n",
    "ax2.set_xticklabels(newlabel[::10])\n",
    "ax2.set_xticks(newpos[::10])\n",
    "\n",
    "ax2.xaxis.set_ticks_position('bottom')\n",
    "ax2.xaxis.set_label_position('bottom')\n",
    "ax2.spines['bottom'].set_position(('outward', 45))\n",
    "ax2.set_xlabel('Epochs')\n",
    "ax2.set_xlim(ax1.get_xlim())\n",
    "\n",
    "plt.show()"
   ]
  },
  {
   "cell_type": "code",
   "execution_count": 21,
   "metadata": {},
   "outputs": [
    {
     "data": {
      "text/plain": [
       "GAN(\n",
       "  (generator): Sequential(\n",
       "    (0): Linear(in_features=100, out_features=3136, bias=False)\n",
       "    (1): BatchNorm1d(3136, eps=1e-05, momentum=0.1, affine=True, track_running_stats=True)\n",
       "    (2): LeakyReLU(negative_slope=0.0001, inplace=True)\n",
       "    (3): Reshape1()\n",
       "    (4): ConvTranspose2d(64, 32, kernel_size=(3, 3), stride=(2, 2), padding=(1, 1), bias=False)\n",
       "    (5): BatchNorm2d(32, eps=1e-05, momentum=0.1, affine=True, track_running_stats=True)\n",
       "    (6): LeakyReLU(negative_slope=0.0001, inplace=True)\n",
       "    (7): ConvTranspose2d(32, 16, kernel_size=(3, 3), stride=(2, 2), padding=(1, 1), bias=False)\n",
       "    (8): BatchNorm2d(16, eps=1e-05, momentum=0.1, affine=True, track_running_stats=True)\n",
       "    (9): LeakyReLU(negative_slope=0.0001, inplace=True)\n",
       "    (10): ConvTranspose2d(16, 8, kernel_size=(3, 3), stride=(1, 1), bias=False)\n",
       "    (11): BatchNorm2d(8, eps=1e-05, momentum=0.1, affine=True, track_running_stats=True)\n",
       "    (12): LeakyReLU(negative_slope=0.0001, inplace=True)\n",
       "    (13): ConvTranspose2d(8, 1, kernel_size=(2, 2), stride=(1, 1), bias=False)\n",
       "    (14): Tanh()\n",
       "  )\n",
       "  (discriminator): Sequential(\n",
       "    (0): Conv2d(1, 8, kernel_size=(3, 3), stride=(2, 2), padding=(1, 1), bias=False)\n",
       "    (1): BatchNorm2d(8, eps=1e-05, momentum=0.1, affine=True, track_running_stats=True)\n",
       "    (2): LeakyReLU(negative_slope=0.0001, inplace=True)\n",
       "    (3): Conv2d(8, 32, kernel_size=(3, 3), stride=(2, 2), padding=(1, 1), bias=False)\n",
       "    (4): BatchNorm2d(32, eps=1e-05, momentum=0.1, affine=True, track_running_stats=True)\n",
       "    (5): LeakyReLU(negative_slope=0.0001, inplace=True)\n",
       "    (6): Flatten()\n",
       "    (7): Linear(in_features=1568, out_features=1, bias=True)\n",
       "  )\n",
       ")"
      ]
     },
     "execution_count": 21,
     "metadata": {},
     "output_type": "execute_result"
    }
   ],
   "source": [
    "model.eval()"
   ]
  },
  {
   "cell_type": "code",
   "execution_count": 22,
   "metadata": {},
   "outputs": [
    {
     "data": {
      "image/png": "[encoded data removed]",
      "text/plain": [
       "<Figure size 2000x250 with 5 Axes>"
      ]
     },
     "metadata": {},
     "output_type": "display_data"
    }
   ],
   "source": [
    "z = torch.zeros((5, LATENT_DIM)).uniform_(-1.0, 1.0).to(device)\n",
    "generated_features = model.generator_forward(z)\n",
    "imgs = generated_features.view(-1, 28, 28)\n",
    "\n",
    "fig, axes = plt.subplots(nrows=1, ncols=5, figsize=(20, 2.5))\n",
    "\n",
    "\n",
    "for i, ax in enumerate(axes):\n",
    "    axes[i].imshow(imgs[i].to(torch.device('cpu')).detach(), cmap='binary')"
   ]
  }
 ],
 "metadata": {
  "kernelspec": {
   "display_name": "base",
   "language": "python",
   "name": "python3"
  },
  "language_info": {
   "codemirror_mode": {
    "name": "ipython",
    "version": 3
   },
   "file_extension": ".py",
   "mimetype": "text/x-python",
   "name": "python",
   "nbconvert_exporter": "python",
   "pygments_lexer": "ipython3",
   "version": "3.11.5"
  },
  "toc": {
   "nav_menu": {},
   "number_sections": true,
   "sideBar": true,
   "skip_h1_title": false,
   "title_cell": "Table of Contents",
   "title_sidebar": "Contents",
   "toc_cell": false,
   "toc_position": {},
   "toc_section_display": true,
   "toc_window_display": false
  }
 },
 "nbformat": 4,
 "nbformat_minor": 4
}
