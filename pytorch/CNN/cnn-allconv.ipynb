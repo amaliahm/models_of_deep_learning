{
 "cells": [
  {
   "cell_type": "markdown",
   "metadata": {},
   "source": [
    "# **All-Convolutional Neural Network**"
   ]
  },
  {
   "cell_type": "markdown",
   "metadata": {},
   "source": [
    "## **Libraries**"
   ]
  },
  {
   "cell_type": "code",
   "execution_count": 1,
   "metadata": {},
   "outputs": [],
   "source": [
    "from torch.utils.data import DataLoader\n",
    "from torchvision import transforms\n",
    "from torchvision import datasets\n",
    "import torch.nn.functional as F\n",
    "import numpy as np\n",
    "import torch\n",
    "import time"
   ]
  },
  {
   "cell_type": "code",
   "execution_count": 2,
   "metadata": {},
   "outputs": [],
   "source": [
    "if torch.cuda.is_available():\n",
    "    torch.backends.cudnn.deterministic = True"
   ]
  },
  {
   "cell_type": "markdown",
   "metadata": {},
   "source": [
    "## **Settings**"
   ]
  },
  {
   "cell_type": "code",
   "execution_count": 3,
   "metadata": {},
   "outputs": [],
   "source": [
    "device = torch.device(\"cuda:1\" if torch.cuda.is_available() else \"cpu\")"
   ]
  },
  {
   "cell_type": "code",
   "execution_count": 4,
   "metadata": {},
   "outputs": [],
   "source": [
    "random_seed = 1\n",
    "learning_rate = 0.001\n",
    "num_epochs = 15\n",
    "batch_size = 256"
   ]
  },
  {
   "cell_type": "code",
   "execution_count": 5,
   "metadata": {},
   "outputs": [],
   "source": [
    "num_classes = 10"
   ]
  },
  {
   "cell_type": "markdown",
   "metadata": {},
   "source": [
    "## **MNIST dataset**"
   ]
  },
  {
   "cell_type": "code",
   "execution_count": 6,
   "metadata": {},
   "outputs": [],
   "source": [
    "train_dataset = datasets.MNIST(root='data', train=True, transform=transforms.ToTensor(), download=True)\n",
    "test_dataset = datasets.MNIST(root='data', train=False, transform=transforms.ToTensor())"
   ]
  },
  {
   "cell_type": "code",
   "execution_count": 7,
   "metadata": {},
   "outputs": [],
   "source": [
    "train_loader = DataLoader(dataset=train_dataset, batch_size=batch_size, shuffle=True)\n",
    "test_loader = DataLoader(dataset=test_dataset, batch_size=batch_size, shuffle=False)"
   ]
  },
  {
   "cell_type": "code",
   "execution_count": 8,
   "metadata": {},
   "outputs": [
    {
     "name": "stdout",
     "output_type": "stream",
     "text": [
      "Image batch dimensions: torch.Size([256, 1, 28, 28])\n",
      "Image label dimensions: torch.Size([256])\n"
     ]
    }
   ],
   "source": [
    "for images, labels in train_loader:  \n",
    "    print('Image batch dimensions:', images.shape)\n",
    "    print('Image label dimensions:', labels.shape)\n",
    "    break"
   ]
  },
  {
   "cell_type": "markdown",
   "metadata": {},
   "source": [
    "## **Building the model**"
   ]
  },
  {
   "cell_type": "code",
   "execution_count": 9,
   "metadata": {},
   "outputs": [],
   "source": [
    "class ConvNet(torch.nn.Module):\n",
    "\n",
    "    def __init__(self, num_classes):\n",
    "        super(ConvNet, self).__init__()\n",
    "        \n",
    "        self.num_classes = num_classes\n",
    "        self.conv_1 = torch.nn.Conv2d(in_channels=1, out_channels=4, kernel_size=(3, 3), stride=(1, 1), padding=1) \n",
    "        self.conv_2 = torch.nn.Conv2d(in_channels=4, out_channels=4, kernel_size=(3, 3), stride=(2, 2), padding=1)                             \n",
    "        self.conv_3 = torch.nn.Conv2d(in_channels=4, out_channels=8, kernel_size=(3, 3), stride=(1, 1), padding=1)                \n",
    "        self.conv_4 = torch.nn.Conv2d(in_channels=8, out_channels=8, kernel_size=(3, 3), stride=(2, 2), padding=1)      \n",
    "        self.conv_5 = torch.nn.Conv2d(in_channels=8, out_channels=16, kernel_size=(3, 3), stride=(1, 1), padding=1)     \n",
    "        self.conv_6 = torch.nn.Conv2d(in_channels=16, out_channels=16, kernel_size=(3, 3), stride=(2, 2), padding=1)      \n",
    "        self.conv_7 = torch.nn.Conv2d(in_channels=16, out_channels=self.num_classes, kernel_size=(3, 3), stride=(1, 1), padding=1)   \n",
    "\n",
    "    def forward(self, x):\n",
    "        out = self.conv_1(x)\n",
    "        out = F.relu(out)\n",
    "        \n",
    "        out = self.conv_2(out)\n",
    "        out = F.relu(out)\n",
    "\n",
    "        out = self.conv_3(out)\n",
    "        out = F.relu(out)\n",
    "\n",
    "        out = self.conv_4(out)\n",
    "        out = F.relu(out)\n",
    "        \n",
    "        out = self.conv_5(out)\n",
    "        out = F.relu(out)\n",
    "        \n",
    "        out = self.conv_6(out)\n",
    "        out = F.relu(out)\n",
    "        \n",
    "        out = self.conv_7(out)\n",
    "        out = F.relu(out)\n",
    "        \n",
    "        logits = F.adaptive_avg_pool2d(out, 1)\n",
    "\n",
    "        logits.squeeze_(-1)\n",
    "\n",
    "        logits.squeeze_(-1)\n",
    "        probas = torch.softmax(logits, dim=1)\n",
    "        return logits, probas"
   ]
  },
  {
   "cell_type": "code",
   "execution_count": 10,
   "metadata": {},
   "outputs": [],
   "source": [
    "torch.manual_seed(random_seed)\n",
    "model = ConvNet(num_classes=num_classes)"
   ]
  },
  {
   "cell_type": "code",
   "execution_count": 11,
   "metadata": {},
   "outputs": [],
   "source": [
    "model = model.to(device)"
   ]
  },
  {
   "cell_type": "code",
   "execution_count": 12,
   "metadata": {},
   "outputs": [],
   "source": [
    "optimizer = torch.optim.Adam(model.parameters(), lr=learning_rate)  "
   ]
  },
  {
   "cell_type": "markdown",
   "metadata": {},
   "source": [
    "## **Training phase**"
   ]
  },
  {
   "cell_type": "code",
   "execution_count": 13,
   "metadata": {},
   "outputs": [],
   "source": [
    "def compute_accuracy(model, data_loader):\n",
    "    correct_pred, num_examples = 0, 0\n",
    "    for features, targets in data_loader:\n",
    "        features = features.to(device)\n",
    "        targets = targets.to(device)\n",
    "        logits, probas = model(features)\n",
    "        _, predicted_labels = torch.max(probas, 1)\n",
    "        num_examples += targets.size(0)\n",
    "        correct_pred += (predicted_labels == targets).sum()\n",
    "    return correct_pred.float()/num_examples * 100"
   ]
  },
  {
   "cell_type": "code",
   "execution_count": 14,
   "metadata": {},
   "outputs": [
    {
     "name": "stdout",
     "output_type": "stream",
     "text": [
      "Epoch: 001/015 | Batch 000/235 | Cost: 2.3033\n",
      "Epoch: 001/015 | Batch 050/235 | Cost: 2.2850\n",
      "Epoch: 001/015 | Batch 100/235 | Cost: 1.9956\n",
      "Epoch: 001/015 | Batch 150/235 | Cost: 1.3309\n",
      "Epoch: 001/015 | Batch 200/235 | Cost: 0.8662\n",
      "Epoch: 001/015 training accuracy: 75.94%\n",
      "Time elapsed: 0.74 min\n",
      "Epoch: 002/015 | Batch 000/235 | Cost: 0.7992\n",
      "Epoch: 002/015 | Batch 050/235 | Cost: 0.6424\n",
      "Epoch: 002/015 | Batch 100/235 | Cost: 0.5292\n",
      "Epoch: 002/015 | Batch 150/235 | Cost: 0.5954\n",
      "Epoch: 002/015 | Batch 200/235 | Cost: 0.4468\n",
      "Epoch: 002/015 training accuracy: 86.08%\n",
      "Time elapsed: 1.51 min\n",
      "Epoch: 003/015 | Batch 000/235 | Cost: 0.4488\n",
      "Epoch: 003/015 | Batch 050/235 | Cost: 0.3600\n",
      "Epoch: 003/015 | Batch 100/235 | Cost: 0.4168\n",
      "Epoch: 003/015 | Batch 150/235 | Cost: 0.3020\n",
      "Epoch: 003/015 | Batch 200/235 | Cost: 0.3261\n",
      "Epoch: 003/015 training accuracy: 90.87%\n",
      "Time elapsed: 2.25 min\n",
      "Epoch: 004/015 | Batch 000/235 | Cost: 0.4119\n",
      "Epoch: 004/015 | Batch 050/235 | Cost: 0.2387\n",
      "Epoch: 004/015 | Batch 100/235 | Cost: 0.2983\n",
      "Epoch: 004/015 | Batch 150/235 | Cost: 0.3701\n",
      "Epoch: 004/015 | Batch 200/235 | Cost: 0.2921\n",
      "Epoch: 004/015 training accuracy: 92.59%\n",
      "Time elapsed: 2.95 min\n",
      "Epoch: 005/015 | Batch 000/235 | Cost: 0.2643\n",
      "Epoch: 005/015 | Batch 050/235 | Cost: 0.2770\n",
      "Epoch: 005/015 | Batch 100/235 | Cost: 0.2054\n",
      "Epoch: 005/015 | Batch 150/235 | Cost: 0.1917\n",
      "Epoch: 005/015 | Batch 200/235 | Cost: 0.2359\n",
      "Epoch: 005/015 training accuracy: 93.77%\n",
      "Time elapsed: 3.61 min\n",
      "Epoch: 006/015 | Batch 000/235 | Cost: 0.2844\n",
      "Epoch: 006/015 | Batch 050/235 | Cost: 0.1988\n",
      "Epoch: 006/015 | Batch 100/235 | Cost: 0.2122\n",
      "Epoch: 006/015 | Batch 150/235 | Cost: 0.2175\n",
      "Epoch: 006/015 | Batch 200/235 | Cost: 0.2210\n",
      "Epoch: 006/015 training accuracy: 94.29%\n",
      "Time elapsed: 4.27 min\n",
      "Epoch: 007/015 | Batch 000/235 | Cost: 0.1191\n",
      "Epoch: 007/015 | Batch 050/235 | Cost: 0.1787\n",
      "Epoch: 007/015 | Batch 100/235 | Cost: 0.1835\n",
      "Epoch: 007/015 | Batch 150/235 | Cost: 0.2057\n",
      "Epoch: 007/015 | Batch 200/235 | Cost: 0.1513\n",
      "Epoch: 007/015 training accuracy: 94.53%\n",
      "Time elapsed: 4.94 min\n",
      "Epoch: 008/015 | Batch 000/235 | Cost: 0.2242\n",
      "Epoch: 008/015 | Batch 050/235 | Cost: 0.1433\n",
      "Epoch: 008/015 | Batch 100/235 | Cost: 0.1979\n",
      "Epoch: 008/015 | Batch 150/235 | Cost: 0.1397\n",
      "Epoch: 008/015 | Batch 200/235 | Cost: 0.1372\n",
      "Epoch: 008/015 training accuracy: 94.80%\n",
      "Time elapsed: 5.61 min\n",
      "Epoch: 009/015 | Batch 000/235 | Cost: 0.1932\n",
      "Epoch: 009/015 | Batch 050/235 | Cost: 0.2469\n",
      "Epoch: 009/015 | Batch 100/235 | Cost: 0.2320\n",
      "Epoch: 009/015 | Batch 150/235 | Cost: 0.0904\n",
      "Epoch: 009/015 | Batch 200/235 | Cost: 0.2231\n",
      "Epoch: 009/015 training accuracy: 95.55%\n",
      "Time elapsed: 6.28 min\n",
      "Epoch: 010/015 | Batch 000/235 | Cost: 0.0869\n",
      "Epoch: 010/015 | Batch 050/235 | Cost: 0.1155\n",
      "Epoch: 010/015 | Batch 100/235 | Cost: 0.1347\n",
      "Epoch: 010/015 | Batch 150/235 | Cost: 0.1238\n",
      "Epoch: 010/015 | Batch 200/235 | Cost: 0.1807\n",
      "Epoch: 010/015 training accuracy: 95.70%\n",
      "Time elapsed: 6.94 min\n",
      "Epoch: 011/015 | Batch 000/235 | Cost: 0.1331\n",
      "Epoch: 011/015 | Batch 050/235 | Cost: 0.1725\n",
      "Epoch: 011/015 | Batch 100/235 | Cost: 0.1185\n",
      "Epoch: 011/015 | Batch 150/235 | Cost: 0.1763\n",
      "Epoch: 011/015 | Batch 200/235 | Cost: 0.1097\n",
      "Epoch: 011/015 training accuracy: 95.73%\n",
      "Time elapsed: 7.60 min\n",
      "Epoch: 012/015 | Batch 000/235 | Cost: 0.1435\n",
      "Epoch: 012/015 | Batch 050/235 | Cost: 0.1749\n",
      "Epoch: 012/015 | Batch 100/235 | Cost: 0.1077\n",
      "Epoch: 012/015 | Batch 150/235 | Cost: 0.1199\n",
      "Epoch: 012/015 | Batch 200/235 | Cost: 0.1171\n",
      "Epoch: 012/015 training accuracy: 95.81%\n",
      "Time elapsed: 8.27 min\n",
      "Epoch: 013/015 | Batch 000/235 | Cost: 0.1164\n",
      "Epoch: 013/015 | Batch 050/235 | Cost: 0.0935\n",
      "Epoch: 013/015 | Batch 100/235 | Cost: 0.1132\n",
      "Epoch: 013/015 | Batch 150/235 | Cost: 0.1168\n",
      "Epoch: 013/015 | Batch 200/235 | Cost: 0.1165\n",
      "Epoch: 013/015 training accuracy: 95.80%\n",
      "Time elapsed: 8.98 min\n",
      "Epoch: 014/015 | Batch 000/235 | Cost: 0.1589\n",
      "Epoch: 014/015 | Batch 050/235 | Cost: 0.1527\n",
      "Epoch: 014/015 | Batch 100/235 | Cost: 0.1202\n",
      "Epoch: 014/015 | Batch 150/235 | Cost: 0.1780\n",
      "Epoch: 014/015 | Batch 200/235 | Cost: 0.1469\n",
      "Epoch: 014/015 training accuracy: 96.31%\n",
      "Time elapsed: 9.65 min\n",
      "Epoch: 015/015 | Batch 000/235 | Cost: 0.0967\n",
      "Epoch: 015/015 | Batch 050/235 | Cost: 0.1138\n",
      "Epoch: 015/015 | Batch 100/235 | Cost: 0.0592\n",
      "Epoch: 015/015 | Batch 150/235 | Cost: 0.1407\n",
      "Epoch: 015/015 | Batch 200/235 | Cost: 0.1670\n",
      "Epoch: 015/015 training accuracy: 96.46%\n",
      "Time elapsed: 10.33 min\n"
     ]
    }
   ],
   "source": [
    "start_time = time.time()\n",
    "for epoch in range(num_epochs):\n",
    "    model = model.train()\n",
    "    for batch_idx, (features, targets) in enumerate(train_loader):\n",
    "        \n",
    "        features = features.to(device)\n",
    "        targets = targets.to(device)\n",
    "\n",
    "        logits, probas = model(features)\n",
    "        cost = F.cross_entropy(logits, targets)\n",
    "        optimizer.zero_grad()\n",
    "        \n",
    "        cost.backward()\n",
    "        optimizer.step()\n",
    "        \n",
    "        if not batch_idx % 50:\n",
    "            print ('Epoch: %03d/%03d | Batch %03d/%03d | Cost: %.4f' \n",
    "                   %(epoch+1, num_epochs, batch_idx, \n",
    "                     len(train_loader), cost))\n",
    "    \n",
    "    model = model.eval()\n",
    "    print('Epoch: %03d/%03d training accuracy: %.2f%%' % (\n",
    "          epoch+1, num_epochs, \n",
    "          compute_accuracy(model, train_loader)))\n",
    "    \n",
    "    print('Time elapsed: %.2f min' % ((time.time() - start_time)/60))"
   ]
  },
  {
   "cell_type": "code",
   "execution_count": 15,
   "metadata": {},
   "outputs": [
    {
     "name": "stdout",
     "output_type": "stream",
     "text": [
      "Total Training Time: 10.33 min\n"
     ]
    }
   ],
   "source": [
    "print('Total Training Time: %.2f min' % ((time.time() - start_time)/60))"
   ]
  },
  {
   "cell_type": "markdown",
   "metadata": {},
   "source": [
    "## **Evaluation**"
   ]
  },
  {
   "cell_type": "code",
   "execution_count": 16,
   "metadata": {},
   "outputs": [
    {
     "name": "stdout",
     "output_type": "stream",
     "text": [
      "Test accuracy: 96.56%\n"
     ]
    }
   ],
   "source": [
    "print('Test accuracy: %.2f%%' % (compute_accuracy(model, test_loader)))"
   ]
  }
 ],
 "metadata": {
  "kernelspec": {
   "display_name": "base",
   "language": "python",
   "name": "python3"
  },
  "language_info": {
   "codemirror_mode": {
    "name": "ipython",
    "version": 3
   },
   "file_extension": ".py",
   "mimetype": "text/x-python",
   "name": "python",
   "nbconvert_exporter": "python",
   "pygments_lexer": "ipython3",
   "version": "3.11.5"
  },
  "toc": {
   "nav_menu": {},
   "number_sections": true,
   "sideBar": true,
   "skip_h1_title": false,
   "title_cell": "Table of Contents",
   "title_sidebar": "Contents",
   "toc_cell": false,
   "toc_position": {},
   "toc_section_display": true,
   "toc_window_display": false
  }
 },
 "nbformat": 4,
 "nbformat_minor": 2
}
