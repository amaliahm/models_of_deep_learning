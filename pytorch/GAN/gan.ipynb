{
 "cells": [
  {
   "cell_type": "markdown",
   "metadata": {},
   "source": [
    "# **Generative Adversarial Networks (GAN)**"
   ]
  },
  {
   "cell_type": "markdown",
   "metadata": {},
   "source": [
    "## **Libraries**"
   ]
  },
  {
   "cell_type": "code",
   "execution_count": 1,
   "metadata": {},
   "outputs": [],
   "source": [
    "from torch.utils.data import DataLoader\n",
    "from torchvision import transforms\n",
    "from torchvision import datasets\n",
    "import torch.nn.functional as F\n",
    "import matplotlib.pyplot as plt\n",
    "import torch.nn as nn\n",
    "import numpy as np\n",
    "import torch\n",
    "import time"
   ]
  },
  {
   "cell_type": "code",
   "execution_count": 2,
   "metadata": {},
   "outputs": [],
   "source": [
    "if torch.cuda.is_available():\n",
    "    torch.backends.cudnn.deterministic = True"
   ]
  },
  {
   "cell_type": "markdown",
   "metadata": {},
   "source": [
    "## **Settings**"
   ]
  },
  {
   "cell_type": "code",
   "execution_count": 3,
   "metadata": {},
   "outputs": [],
   "source": [
    "device = torch.device(\"cuda:2\" if torch.cuda.is_available() else \"cpu\")"
   ]
  },
  {
   "cell_type": "code",
   "execution_count": 4,
   "metadata": {},
   "outputs": [],
   "source": [
    "random_seed = 123\n",
    "generator_learning_rate = 0.001\n",
    "discriminator_learning_rate = 0.001\n",
    "NUM_EPOCHS = 10\n",
    "BATCH_SIZE = 128\n",
    "LATENT_DIM = 75\n",
    "IMG_SHAPE = (1, 28, 28)\n",
    "IMG_SIZE = 1"
   ]
  },
  {
   "cell_type": "code",
   "execution_count": 5,
   "metadata": {},
   "outputs": [],
   "source": [
    "for x in IMG_SHAPE:\n",
    "    IMG_SIZE *= x"
   ]
  },
  {
   "cell_type": "markdown",
   "metadata": {},
   "source": [
    "## **MNIST dataset**"
   ]
  },
  {
   "cell_type": "code",
   "execution_count": 6,
   "metadata": {},
   "outputs": [],
   "source": [
    "train_dataset = datasets.MNIST(root='data', train=True, transform=transforms.ToTensor(), download=True)\n",
    "test_dataset = datasets.MNIST(root='data', train=False, transform=transforms.ToTensor())"
   ]
  },
  {
   "cell_type": "code",
   "execution_count": 7,
   "metadata": {},
   "outputs": [],
   "source": [
    "train_loader = DataLoader(dataset=train_dataset, batch_size=BATCH_SIZE, shuffle=True)\n",
    "test_loader = DataLoader(dataset=test_dataset, batch_size=BATCH_SIZE, shuffle=False)"
   ]
  },
  {
   "cell_type": "code",
   "execution_count": 8,
   "metadata": {},
   "outputs": [
    {
     "name": "stdout",
     "output_type": "stream",
     "text": [
      "Image batch dimensions: torch.Size([128, 1, 28, 28])\n",
      "Image label dimensions: torch.Size([128])\n"
     ]
    }
   ],
   "source": [
    "for images, labels in train_loader:  \n",
    "    print('Image batch dimensions:', images.shape)\n",
    "    print('Image label dimensions:', labels.shape)\n",
    "    break"
   ]
  },
  {
   "cell_type": "markdown",
   "metadata": {},
   "source": [
    "## **Building the model**"
   ]
  },
  {
   "cell_type": "code",
   "execution_count": 9,
   "metadata": {},
   "outputs": [],
   "source": [
    "class GAN(torch.nn.Module):\n",
    "\n",
    "    def __init__(self):\n",
    "        super(GAN, self).__init__()\n",
    "        \n",
    "        \n",
    "        self.generator = nn.Sequential(\n",
    "            nn.Linear(LATENT_DIM, 128),\n",
    "            nn.LeakyReLU(inplace=True),\n",
    "            nn.Dropout(p=0.5),\n",
    "            nn.Linear(128, IMG_SIZE),\n",
    "            nn.Tanh()\n",
    "        )\n",
    "        \n",
    "        self.discriminator = nn.Sequential(\n",
    "            nn.Linear(IMG_SIZE, 128),\n",
    "            nn.LeakyReLU(inplace=True),\n",
    "            nn.Dropout(p=0.5),\n",
    "            nn.Linear(128, 1),\n",
    "            nn.Sigmoid()\n",
    "        )\n",
    "\n",
    "            \n",
    "    def generator_forward(self, z):\n",
    "        img = self.generator(z)\n",
    "        return img\n",
    "    \n",
    "    def discriminator_forward(self, img):\n",
    "        pred = model.discriminator(img)\n",
    "        return pred.view(-1)"
   ]
  },
  {
   "cell_type": "code",
   "execution_count": 10,
   "metadata": {},
   "outputs": [
    {
     "data": {
      "text/plain": [
       "<torch._C.Generator at 0x77cd37f3a5d0>"
      ]
     },
     "execution_count": 10,
     "metadata": {},
     "output_type": "execute_result"
    }
   ],
   "source": [
    "torch.manual_seed(random_seed)"
   ]
  },
  {
   "cell_type": "code",
   "execution_count": 11,
   "metadata": {},
   "outputs": [],
   "source": [
    "model = GAN()\n",
    "model = model.to(device)"
   ]
  },
  {
   "cell_type": "code",
   "execution_count": 12,
   "metadata": {},
   "outputs": [],
   "source": [
    "optim_gener = torch.optim.Adam(model.generator.parameters(), lr=generator_learning_rate)\n",
    "optim_discr = torch.optim.Adam(model.discriminator.parameters(), lr=discriminator_learning_rate)"
   ]
  },
  {
   "cell_type": "markdown",
   "metadata": {},
   "source": [
    "## **Training phase**"
   ]
  },
  {
   "cell_type": "code",
   "execution_count": 13,
   "metadata": {},
   "outputs": [
    {
     "name": "stdout",
     "output_type": "stream",
     "text": [
      "Epoch: 001/010 | Batch 000/469 | Gen/Dis Loss: 0.6566/0.7171\n",
      "Epoch: 001/010 | Batch 100/469 | Gen/Dis Loss: 5.8731/0.0299\n",
      "Epoch: 001/010 | Batch 200/469 | Gen/Dis Loss: 1.6986/0.1148\n",
      "Epoch: 001/010 | Batch 300/469 | Gen/Dis Loss: 1.3255/0.1833\n",
      "Epoch: 001/010 | Batch 400/469 | Gen/Dis Loss: 2.6374/0.0543\n",
      "Time elapsed: 0.39 min\n",
      "Epoch: 002/010 | Batch 000/469 | Gen/Dis Loss: 1.5301/0.2470\n",
      "Epoch: 002/010 | Batch 100/469 | Gen/Dis Loss: 2.7525/0.0931\n",
      "Epoch: 002/010 | Batch 200/469 | Gen/Dis Loss: 2.3807/0.3148\n",
      "Epoch: 002/010 | Batch 300/469 | Gen/Dis Loss: 0.7102/0.4951\n",
      "Epoch: 002/010 | Batch 400/469 | Gen/Dis Loss: 1.2647/0.3844\n",
      "Time elapsed: 0.76 min\n",
      "Epoch: 003/010 | Batch 000/469 | Gen/Dis Loss: 1.6014/0.3480\n",
      "Epoch: 003/010 | Batch 100/469 | Gen/Dis Loss: 1.1336/0.3800\n",
      "Epoch: 003/010 | Batch 200/469 | Gen/Dis Loss: 1.2065/0.3627\n",
      "Epoch: 003/010 | Batch 300/469 | Gen/Dis Loss: 1.5669/0.4182\n",
      "Epoch: 003/010 | Batch 400/469 | Gen/Dis Loss: 0.9413/0.4967\n",
      "Time elapsed: 1.14 min\n",
      "Epoch: 004/010 | Batch 000/469 | Gen/Dis Loss: 1.0506/0.4889\n",
      "Epoch: 004/010 | Batch 100/469 | Gen/Dis Loss: 1.0111/0.5034\n",
      "Epoch: 004/010 | Batch 200/469 | Gen/Dis Loss: 1.2744/0.4902\n",
      "Epoch: 004/010 | Batch 300/469 | Gen/Dis Loss: 1.0731/0.5150\n",
      "Epoch: 004/010 | Batch 400/469 | Gen/Dis Loss: 0.7689/0.5968\n",
      "Time elapsed: 1.51 min\n",
      "Epoch: 005/010 | Batch 000/469 | Gen/Dis Loss: 1.0012/0.5473\n",
      "Epoch: 005/010 | Batch 100/469 | Gen/Dis Loss: 0.9895/0.4792\n",
      "Epoch: 005/010 | Batch 200/469 | Gen/Dis Loss: 1.0150/0.5344\n",
      "Epoch: 005/010 | Batch 300/469 | Gen/Dis Loss: 0.9754/0.5383\n",
      "Epoch: 005/010 | Batch 400/469 | Gen/Dis Loss: 1.1271/0.4529\n",
      "Time elapsed: 1.89 min\n",
      "Epoch: 006/010 | Batch 000/469 | Gen/Dis Loss: 2.1407/0.3915\n",
      "Epoch: 006/010 | Batch 100/469 | Gen/Dis Loss: 0.7090/0.5726\n",
      "Epoch: 006/010 | Batch 200/469 | Gen/Dis Loss: 0.7329/0.5472\n",
      "Epoch: 006/010 | Batch 300/469 | Gen/Dis Loss: 0.7999/0.5695\n",
      "Epoch: 006/010 | Batch 400/469 | Gen/Dis Loss: 0.6441/0.6243\n",
      "Time elapsed: 2.32 min\n",
      "Epoch: 007/010 | Batch 000/469 | Gen/Dis Loss: 0.8692/0.5733\n",
      "Epoch: 007/010 | Batch 100/469 | Gen/Dis Loss: 1.0024/0.5411\n",
      "Epoch: 007/010 | Batch 200/469 | Gen/Dis Loss: 1.3497/0.4335\n",
      "Epoch: 007/010 | Batch 300/469 | Gen/Dis Loss: 0.7156/0.6197\n",
      "Epoch: 007/010 | Batch 400/469 | Gen/Dis Loss: 1.0791/0.5921\n",
      "Time elapsed: 2.72 min\n",
      "Epoch: 008/010 | Batch 000/469 | Gen/Dis Loss: 1.4555/0.4927\n",
      "Epoch: 008/010 | Batch 100/469 | Gen/Dis Loss: 1.4711/0.5064\n",
      "Epoch: 008/010 | Batch 200/469 | Gen/Dis Loss: 0.7850/0.6213\n",
      "Epoch: 008/010 | Batch 300/469 | Gen/Dis Loss: 1.1486/0.5371\n",
      "Epoch: 008/010 | Batch 400/469 | Gen/Dis Loss: 1.3179/0.4760\n",
      "Time elapsed: 3.09 min\n",
      "Epoch: 009/010 | Batch 000/469 | Gen/Dis Loss: 1.8823/0.4368\n",
      "Epoch: 009/010 | Batch 100/469 | Gen/Dis Loss: 1.2904/0.5772\n",
      "Epoch: 009/010 | Batch 200/469 | Gen/Dis Loss: 0.8194/0.6085\n",
      "Epoch: 009/010 | Batch 300/469 | Gen/Dis Loss: 0.7717/0.6006\n",
      "Epoch: 009/010 | Batch 400/469 | Gen/Dis Loss: 1.5386/0.6392\n",
      "Time elapsed: 3.46 min\n",
      "Epoch: 010/010 | Batch 000/469 | Gen/Dis Loss: 0.8439/0.5517\n",
      "Epoch: 010/010 | Batch 100/469 | Gen/Dis Loss: 0.8020/0.5999\n",
      "Epoch: 010/010 | Batch 200/469 | Gen/Dis Loss: 1.0180/0.5732\n",
      "Epoch: 010/010 | Batch 300/469 | Gen/Dis Loss: 0.9308/0.5843\n",
      "Epoch: 010/010 | Batch 400/469 | Gen/Dis Loss: 0.8957/0.5315\n",
      "Time elapsed: 3.83 min\n"
     ]
    }
   ],
   "source": [
    "start_time = time.time()    \n",
    "\n",
    "discr_costs = []\n",
    "gener_costs = []\n",
    "for epoch in range(NUM_EPOCHS):\n",
    "    model = model.train()\n",
    "    for batch_idx, (features, targets) in enumerate(train_loader):\n",
    "\n",
    "        \n",
    "        \n",
    "        features = (features - 0.5)*2.\n",
    "        features = features.view(-1, IMG_SIZE).to(device) \n",
    "        targets = targets.to(device)\n",
    "\n",
    "        valid = torch.ones(targets.size(0)).float().to(device)\n",
    "        fake = torch.zeros(targets.size(0)).float().to(device)\n",
    "        \n",
    "        # train generator\n",
    "        \n",
    "        z = torch.zeros((targets.size(0), LATENT_DIM)).uniform_(-1.0, 1.0).to(device)\n",
    "        generated_features = model.generator_forward(z)\n",
    "        \n",
    "        discr_pred = model.discriminator_forward(generated_features)\n",
    "        \n",
    "        gener_loss = F.binary_cross_entropy(discr_pred, valid)\n",
    "        \n",
    "        optim_gener.zero_grad()\n",
    "        gener_loss.backward()\n",
    "        optim_gener.step()\n",
    "        \n",
    "        # train discriminator\n",
    "        \n",
    "        discr_pred_real = model.discriminator_forward(features.view(-1, IMG_SIZE))\n",
    "        real_loss = F.binary_cross_entropy(discr_pred_real, valid)\n",
    "        \n",
    "        discr_pred_fake = model.discriminator_forward(generated_features.detach())\n",
    "        fake_loss = F.binary_cross_entropy(discr_pred_fake, fake)\n",
    "        \n",
    "        discr_loss = 0.5*(real_loss + fake_loss)\n",
    "\n",
    "        optim_discr.zero_grad()\n",
    "        discr_loss.backward()\n",
    "        optim_discr.step()        \n",
    "        \n",
    "        discr_costs.append(discr_loss)\n",
    "        gener_costs.append(gener_loss)\n",
    "        \n",
    "        \n",
    "        if not batch_idx % 100:\n",
    "            print ('Epoch: %03d/%03d | Batch %03d/%03d | Gen/Dis Loss: %.4f/%.4f' \n",
    "                   %(epoch+1, NUM_EPOCHS, batch_idx, \n",
    "                     len(train_loader), gener_loss, discr_loss))\n",
    "\n",
    "    print('Time elapsed: %.2f min' % ((time.time() - start_time)/60))"
   ]
  },
  {
   "cell_type": "code",
   "execution_count": 14,
   "metadata": {},
   "outputs": [
    {
     "name": "stdout",
     "output_type": "stream",
     "text": [
      "Total Training Time: 3.83 min\n"
     ]
    }
   ],
   "source": [
    "print('Total Training Time: %.2f min' % ((time.time() - start_time)/60))"
   ]
  },
  {
   "cell_type": "markdown",
   "metadata": {},
   "source": [
    "## **Evaluation**"
   ]
  },
  {
   "cell_type": "code",
   "execution_count": 21,
   "metadata": {},
   "outputs": [
    {
     "name": "stderr",
     "output_type": "stream",
     "text": [
      "/tmp/ipykernel_3528/2534235671.py:13: UserWarning: FixedFormatter should only be used together with FixedLocator\n",
      "  ax2.set_xticklabels(newlabel[::10])\n"
     ]
    },
    {
     "data": {
      "image/png": "[encoded data removed]",
      "text/plain": [
       "<Figure size 640x480 with 2 Axes>"
      ]
     },
     "metadata": {},
     "output_type": "display_data"
    }
   ],
   "source": [
    "ax1 = plt.subplot(1, 1, 1)\n",
    "ax1.plot(range(len(gener_costs)), [g.detach().item() for g in gener_costs], label='Generator loss')\n",
    "ax1.plot(range(len(discr_costs)), [d.detach().item() for d in discr_costs], label='Discriminator loss')\n",
    "ax1.set_xlabel('Iterations')\n",
    "ax1.set_ylabel('Loss')\n",
    "ax1.legend()\n",
    "\n",
    "ax2 = ax1.twiny()\n",
    "newlabel = list(range(NUM_EPOCHS+1))\n",
    "iter_per_epoch = len(train_loader)\n",
    "newpos = [e*iter_per_epoch for e in newlabel]\n",
    "\n",
    "ax2.set_xticklabels(newlabel[::10])\n",
    "ax2.set_xticks(newpos[::10])\n",
    "\n",
    "ax2.xaxis.set_ticks_position('bottom')\n",
    "ax2.xaxis.set_label_position('bottom')\n",
    "ax2.spines['bottom'].set_position(('outward', 45))\n",
    "ax2.set_xlabel('Epochs')\n",
    "ax2.set_xlim(ax1.get_xlim())\n",
    "plt.show()"
   ]
  },
  {
   "cell_type": "code",
   "execution_count": 22,
   "metadata": {},
   "outputs": [
    {
     "data": {
      "text/plain": [
       "GAN(\n",
       "  (generator): Sequential(\n",
       "    (0): Linear(in_features=75, out_features=128, bias=True)\n",
       "    (1): LeakyReLU(negative_slope=0.01, inplace=True)\n",
       "    (2): Dropout(p=0.5, inplace=False)\n",
       "    (3): Linear(in_features=128, out_features=784, bias=True)\n",
       "    (4): Tanh()\n",
       "  )\n",
       "  (discriminator): Sequential(\n",
       "    (0): Linear(in_features=784, out_features=128, bias=True)\n",
       "    (1): LeakyReLU(negative_slope=0.01, inplace=True)\n",
       "    (2): Dropout(p=0.5, inplace=False)\n",
       "    (3): Linear(in_features=128, out_features=1, bias=True)\n",
       "    (4): Sigmoid()\n",
       "  )\n",
       ")"
      ]
     },
     "execution_count": 22,
     "metadata": {},
     "output_type": "execute_result"
    }
   ],
   "source": [
    "model.eval()"
   ]
  },
  {
   "cell_type": "code",
   "execution_count": 23,
   "metadata": {},
   "outputs": [
    {
     "data": {
      "image/png": "[encoded data removed]",
      "text/plain": [
       "<Figure size 2000x250 with 5 Axes>"
      ]
     },
     "metadata": {},
     "output_type": "display_data"
    }
   ],
   "source": [
    "z = torch.zeros((5, LATENT_DIM)).uniform_(-1.0, 1.0).to(device)\n",
    "generated_features = model.generator_forward(z)\n",
    "imgs = generated_features.view(-1, 28, 28)\n",
    "\n",
    "fig, axes = plt.subplots(nrows=1, ncols=5, figsize=(20, 2.5))\n",
    "\n",
    "\n",
    "for i, ax in enumerate(axes):\n",
    "    axes[i].imshow(imgs[i].to(torch.device('cpu')).detach(), cmap='binary')"
   ]
  }
 ],
 "metadata": {
  "kernelspec": {
   "display_name": "base",
   "language": "python",
   "name": "python3"
  },
  "language_info": {
   "codemirror_mode": {
    "name": "ipython",
    "version": 3
   },
   "file_extension": ".py",
   "mimetype": "text/x-python",
   "name": "python",
   "nbconvert_exporter": "python",
   "pygments_lexer": "ipython3",
   "version": "3.11.5"
  },
  "toc": {
   "nav_menu": {},
   "number_sections": true,
   "sideBar": true,
   "skip_h1_title": false,
   "title_cell": "Table of Contents",
   "title_sidebar": "Contents",
   "toc_cell": false,
   "toc_position": {},
   "toc_section_display": true,
   "toc_window_display": false
  }
 },
 "nbformat": 4,
 "nbformat_minor": 4
}
