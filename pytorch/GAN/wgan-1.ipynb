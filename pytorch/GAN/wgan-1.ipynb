{
 "cells": [
  {
   "cell_type": "markdown",
   "metadata": {},
   "source": [
    "# **Wasserstein Generative Adversarial Networks (GAN)**"
   ]
  },
  {
   "cell_type": "markdown",
   "metadata": {},
   "source": [
    "## **Libraries**"
   ]
  },
  {
   "cell_type": "code",
   "execution_count": 1,
   "metadata": {},
   "outputs": [],
   "source": [
    "from torch.utils.data import DataLoader\n",
    "from torchvision import transforms\n",
    "from torchvision import datasets\n",
    "import torch.nn.functional as F\n",
    "import matplotlib.pyplot as plt\n",
    "import torch.nn as nn\n",
    "import numpy as np\n",
    "import torch\n",
    "import time"
   ]
  },
  {
   "cell_type": "code",
   "execution_count": 2,
   "metadata": {},
   "outputs": [],
   "source": [
    "if torch.cuda.is_available():\n",
    "    torch.backends.cudnn.deterministic = True"
   ]
  },
  {
   "cell_type": "markdown",
   "metadata": {},
   "source": [
    "## Settings and Dataset"
   ]
  },
  {
   "cell_type": "code",
   "execution_count": 3,
   "metadata": {},
   "outputs": [],
   "source": [
    "device = torch.device(\"cuda:0\" if torch.cuda.is_available() else \"cpu\")"
   ]
  },
  {
   "cell_type": "code",
   "execution_count": 4,
   "metadata": {},
   "outputs": [],
   "source": [
    "random_seed = 0\n",
    "generator_learning_rate = 0.0005\n",
    "discriminator_learning_rate = 0.0005\n",
    "NUM_EPOCHS = 10\n",
    "BATCH_SIZE = 128\n",
    "LATENT_DIM = 50\n",
    "IMG_SHAPE = (1, 28, 28)\n",
    "IMG_SIZE = 1"
   ]
  },
  {
   "cell_type": "code",
   "execution_count": 5,
   "metadata": {},
   "outputs": [],
   "source": [
    "for x in IMG_SHAPE:\n",
    "    IMG_SIZE *= x"
   ]
  },
  {
   "cell_type": "code",
   "execution_count": 6,
   "metadata": {},
   "outputs": [],
   "source": [
    "num_iter_critic = 5\n",
    "weight_clip_value = 0.01"
   ]
  },
  {
   "cell_type": "markdown",
   "metadata": {},
   "source": [
    "## **MNIST dataset**"
   ]
  },
  {
   "cell_type": "code",
   "execution_count": 7,
   "metadata": {},
   "outputs": [],
   "source": [
    "train_dataset = datasets.MNIST(root='data', train=True, transform=transforms.ToTensor(), download=True)\n",
    "test_dataset = datasets.MNIST(root='data', train=False, transform=transforms.ToTensor())"
   ]
  },
  {
   "cell_type": "code",
   "execution_count": 8,
   "metadata": {},
   "outputs": [],
   "source": [
    "train_loader = DataLoader(dataset=train_dataset, batch_size=BATCH_SIZE, shuffle=True)\n",
    "test_loader = DataLoader(dataset=test_dataset, batch_size=BATCH_SIZE, shuffle=False)"
   ]
  },
  {
   "cell_type": "code",
   "execution_count": 9,
   "metadata": {},
   "outputs": [
    {
     "name": "stdout",
     "output_type": "stream",
     "text": [
      "Image batch dimensions: torch.Size([128, 1, 28, 28])\n",
      "Image label dimensions: torch.Size([128])\n"
     ]
    }
   ],
   "source": [
    "for images, labels in train_loader:  \n",
    "    print('Image batch dimensions:', images.shape)\n",
    "    print('Image label dimensions:', labels.shape)\n",
    "    break"
   ]
  },
  {
   "cell_type": "markdown",
   "metadata": {},
   "source": [
    "## **Model**"
   ]
  },
  {
   "cell_type": "code",
   "execution_count": 10,
   "metadata": {},
   "outputs": [],
   "source": [
    "def wasserstein_loss(y_true, y_pred):\n",
    "    return torch.mean(y_true * y_pred)"
   ]
  },
  {
   "cell_type": "code",
   "execution_count": 11,
   "metadata": {},
   "outputs": [],
   "source": [
    "class GAN(torch.nn.Module):\n",
    "\n",
    "    def __init__(self):\n",
    "        super(GAN, self).__init__()\n",
    "        \n",
    "        \n",
    "        self.generator = nn.Sequential(\n",
    "            nn.Linear(LATENT_DIM, 128),\n",
    "            nn.LeakyReLU(inplace=True),\n",
    "            #nn.Dropout(p=0.5),\n",
    "            nn.Linear(128, IMG_SIZE),\n",
    "            nn.Tanh()\n",
    "        )\n",
    "        \n",
    "        self.discriminator = nn.Sequential(\n",
    "            nn.Linear(IMG_SIZE, 128),\n",
    "            nn.LeakyReLU(inplace=True),\n",
    "            #nn.Dropout(p=0.5),\n",
    "            nn.Linear(128, 1),\n",
    "            nn.Sigmoid()\n",
    "        )\n",
    "\n",
    "            \n",
    "    def generator_forward(self, z):\n",
    "        img = self.generator(z)\n",
    "        return img\n",
    "    \n",
    "    def discriminator_forward(self, img):\n",
    "        pred = model.discriminator(img)\n",
    "        return pred.view(-1)"
   ]
  },
  {
   "cell_type": "code",
   "execution_count": 12,
   "metadata": {},
   "outputs": [
    {
     "data": {
      "text/plain": [
       "<torch._C.Generator at 0x76185ff465d0>"
      ]
     },
     "execution_count": 12,
     "metadata": {},
     "output_type": "execute_result"
    }
   ],
   "source": [
    "torch.manual_seed(random_seed)"
   ]
  },
  {
   "cell_type": "code",
   "execution_count": 13,
   "metadata": {},
   "outputs": [],
   "source": [
    "model = GAN()\n",
    "model = model.to(device)"
   ]
  },
  {
   "cell_type": "code",
   "execution_count": 14,
   "metadata": {},
   "outputs": [],
   "source": [
    "optim_gener = torch.optim.Adam(model.generator.parameters(), lr=generator_learning_rate)\n",
    "optim_discr = torch.optim.Adam(model.discriminator.parameters(), lr=discriminator_learning_rate)"
   ]
  },
  {
   "cell_type": "markdown",
   "metadata": {},
   "source": [
    "## **Training phase**"
   ]
  },
  {
   "cell_type": "code",
   "execution_count": 15,
   "metadata": {},
   "outputs": [
    {
     "name": "stdout",
     "output_type": "stream",
     "text": [
      "Epoch: 001/010 | Batch 000/469 | Gen/Dis Loss: -0.5132/-0.0652\n",
      "Epoch: 001/010 | Batch 100/469 | Gen/Dis Loss: -0.6198/-0.1816\n",
      "Epoch: 001/010 | Batch 200/469 | Gen/Dis Loss: -0.5824/-0.1088\n",
      "Epoch: 001/010 | Batch 300/469 | Gen/Dis Loss: -0.5413/-0.0999\n",
      "Epoch: 001/010 | Batch 400/469 | Gen/Dis Loss: -0.5583/-0.0790\n",
      "Time elapsed: 0.52 min\n",
      "Epoch: 002/010 | Batch 000/469 | Gen/Dis Loss: -0.5324/-0.0762\n",
      "Epoch: 002/010 | Batch 100/469 | Gen/Dis Loss: -0.5305/-0.0738\n",
      "Epoch: 002/010 | Batch 200/469 | Gen/Dis Loss: -0.5312/-0.0662\n",
      "Epoch: 002/010 | Batch 300/469 | Gen/Dis Loss: -0.5392/-0.0645\n",
      "Epoch: 002/010 | Batch 400/469 | Gen/Dis Loss: -0.5511/-0.0525\n",
      "Time elapsed: 1.05 min\n",
      "Epoch: 003/010 | Batch 000/469 | Gen/Dis Loss: -0.5649/-0.0628\n",
      "Epoch: 003/010 | Batch 100/469 | Gen/Dis Loss: -0.5113/-0.0555\n",
      "Epoch: 003/010 | Batch 200/469 | Gen/Dis Loss: -0.5542/-0.0523\n",
      "Epoch: 003/010 | Batch 300/469 | Gen/Dis Loss: -0.5145/-0.0475\n",
      "Epoch: 003/010 | Batch 400/469 | Gen/Dis Loss: -0.6001/-0.0390\n",
      "Time elapsed: 1.57 min\n",
      "Epoch: 004/010 | Batch 000/469 | Gen/Dis Loss: -0.5763/-0.0566\n",
      "Epoch: 004/010 | Batch 100/469 | Gen/Dis Loss: -0.5464/-0.0354\n",
      "Epoch: 004/010 | Batch 200/469 | Gen/Dis Loss: -0.4727/-0.0625\n",
      "Epoch: 004/010 | Batch 300/469 | Gen/Dis Loss: -0.5743/-0.0515\n",
      "Epoch: 004/010 | Batch 400/469 | Gen/Dis Loss: -0.5259/-0.0537\n",
      "Time elapsed: 2.09 min\n",
      "Epoch: 005/010 | Batch 000/469 | Gen/Dis Loss: -0.5005/-0.0429\n",
      "Epoch: 005/010 | Batch 100/469 | Gen/Dis Loss: -0.4515/-0.0522\n",
      "Epoch: 005/010 | Batch 200/469 | Gen/Dis Loss: -0.5053/-0.0344\n",
      "Epoch: 005/010 | Batch 300/469 | Gen/Dis Loss: -0.5426/-0.0505\n",
      "Epoch: 005/010 | Batch 400/469 | Gen/Dis Loss: -0.5288/-0.0432\n",
      "Time elapsed: 2.61 min\n",
      "Epoch: 006/010 | Batch 000/469 | Gen/Dis Loss: -0.5542/-0.0397\n",
      "Epoch: 006/010 | Batch 100/469 | Gen/Dis Loss: -0.4316/-0.0584\n",
      "Epoch: 006/010 | Batch 200/469 | Gen/Dis Loss: -0.5793/-0.0423\n",
      "Epoch: 006/010 | Batch 300/469 | Gen/Dis Loss: -0.5696/-0.0331\n",
      "Epoch: 006/010 | Batch 400/469 | Gen/Dis Loss: -0.4134/-0.0271\n",
      "Time elapsed: 3.17 min\n",
      "Epoch: 007/010 | Batch 000/469 | Gen/Dis Loss: -0.4673/-0.0554\n",
      "Epoch: 007/010 | Batch 100/469 | Gen/Dis Loss: -0.5952/-0.0428\n",
      "Epoch: 007/010 | Batch 200/469 | Gen/Dis Loss: -0.5230/-0.0467\n",
      "Epoch: 007/010 | Batch 300/469 | Gen/Dis Loss: -0.4667/-0.0400\n",
      "Epoch: 007/010 | Batch 400/469 | Gen/Dis Loss: -0.5752/-0.0343\n",
      "Time elapsed: 3.67 min\n",
      "Epoch: 008/010 | Batch 000/469 | Gen/Dis Loss: -0.5109/-0.0264\n",
      "Epoch: 008/010 | Batch 100/469 | Gen/Dis Loss: -0.5782/-0.0378\n",
      "Epoch: 008/010 | Batch 200/469 | Gen/Dis Loss: -0.5702/-0.0397\n",
      "Epoch: 008/010 | Batch 300/469 | Gen/Dis Loss: -0.4569/-0.0417\n",
      "Epoch: 008/010 | Batch 400/469 | Gen/Dis Loss: -0.5780/-0.0331\n",
      "Time elapsed: 4.17 min\n",
      "Epoch: 009/010 | Batch 000/469 | Gen/Dis Loss: -0.4949/-0.0298\n",
      "Epoch: 009/010 | Batch 100/469 | Gen/Dis Loss: -0.5708/-0.0390\n",
      "Epoch: 009/010 | Batch 200/469 | Gen/Dis Loss: -0.5522/-0.0337\n",
      "Epoch: 009/010 | Batch 300/469 | Gen/Dis Loss: -0.4284/-0.0291\n",
      "Epoch: 009/010 | Batch 400/469 | Gen/Dis Loss: -0.5460/-0.0334\n",
      "Time elapsed: 4.68 min\n",
      "Epoch: 010/010 | Batch 000/469 | Gen/Dis Loss: -0.5425/-0.0352\n",
      "Epoch: 010/010 | Batch 100/469 | Gen/Dis Loss: -0.5989/-0.0356\n",
      "Epoch: 010/010 | Batch 200/469 | Gen/Dis Loss: -0.5533/-0.0269\n",
      "Epoch: 010/010 | Batch 300/469 | Gen/Dis Loss: -0.4657/-0.0357\n",
      "Epoch: 010/010 | Batch 400/469 | Gen/Dis Loss: -0.4753/-0.0348\n",
      "Time elapsed: 5.17 min\n"
     ]
    }
   ],
   "source": [
    "start_time = time.time()    \n",
    "\n",
    "discr_costs = []\n",
    "gener_costs = []\n",
    "for epoch in range(NUM_EPOCHS):\n",
    "    model = model.train()\n",
    "    for batch_idx, (features, targets) in enumerate(train_loader):\n",
    "\n",
    "        \n",
    "        \n",
    "        features = (features - 0.5)*2.\n",
    "        features = features.view(-1, IMG_SIZE).to(device) \n",
    "        targets = targets.to(device)\n",
    "\n",
    "        valid = -(torch.ones(targets.size(0)).float()).to(device)\n",
    "        fake = torch.ones(targets.size(0)).float().to(device)\n",
    "        \n",
    "        # train generator\n",
    "\n",
    "        z = torch.zeros((targets.size(0), LATENT_DIM)).uniform_(-1.0, 1.0).to(device)\n",
    "        generated_features = model.generator_forward(z)\n",
    "        \n",
    "        discr_pred = model.discriminator_forward(generated_features)\n",
    "        \n",
    "        gener_loss = wasserstein_loss(valid, discr_pred)\n",
    "        \n",
    "        optim_gener.zero_grad()\n",
    "        gener_loss.backward()\n",
    "        optim_gener.step()\n",
    "        \n",
    "        # train discriminator\n",
    "\n",
    "        for _ in range(num_iter_critic):\n",
    "        \n",
    "            discr_pred_real = model.discriminator_forward(features.view(-1, IMG_SIZE))\n",
    "            real_loss = wasserstein_loss(valid, discr_pred_real)\n",
    "\n",
    "            discr_pred_fake = model.discriminator_forward(generated_features.detach())\n",
    "            fake_loss = wasserstein_loss(fake, discr_pred_fake)\n",
    "\n",
    "            discr_loss = (real_loss + fake_loss)\n",
    "\n",
    "            optim_discr.zero_grad()\n",
    "            discr_loss.backward()\n",
    "            optim_discr.step()        \n",
    "\n",
    "            for p in model.discriminator.parameters():\n",
    "                p.data.clamp_(-weight_clip_value, weight_clip_value)\n",
    "        discr_costs.append(discr_loss.item())\n",
    "        gener_costs.append(gener_loss.item())\n",
    "\n",
    "        if not batch_idx % 100:\n",
    "            print ('Epoch: %03d/%03d | Batch %03d/%03d | Gen/Dis Loss: %.4f/%.4f' \n",
    "                   %(epoch+1, NUM_EPOCHS, batch_idx, \n",
    "                     len(train_loader), gener_loss, discr_loss))\n",
    "\n",
    "    print('Time elapsed: %.2f min' % ((time.time() - start_time)/60))"
   ]
  },
  {
   "cell_type": "code",
   "execution_count": 16,
   "metadata": {},
   "outputs": [
    {
     "name": "stdout",
     "output_type": "stream",
     "text": [
      "Total Training Time: 5.17 min\n"
     ]
    }
   ],
   "source": [
    "print('Total Training Time: %.2f min' % ((time.time() - start_time)/60))"
   ]
  },
  {
   "cell_type": "markdown",
   "metadata": {},
   "source": [
    "## **Evaluation**"
   ]
  },
  {
   "cell_type": "code",
   "execution_count": 21,
   "metadata": {},
   "outputs": [
    {
     "name": "stderr",
     "output_type": "stream",
     "text": [
      "/tmp/ipykernel_4757/564946603.py:13: UserWarning: FixedFormatter should only be used together with FixedLocator\n",
      "  ax2.set_xticklabels(newlabel[::10])\n"
     ]
    },
    {
     "data": {
      "image/png": "[encoded data removed]",
      "text/plain": [
       "<Figure size 640x480 with 2 Axes>"
      ]
     },
     "metadata": {},
     "output_type": "display_data"
    }
   ],
   "source": [
    "ax1 = plt.subplot(1, 1, 1)\n",
    "ax1.plot(range(len(gener_costs)), gener_costs, label='Generator loss')\n",
    "ax1.plot(range(len(discr_costs)), discr_costs, label='Discriminator loss')\n",
    "ax1.set_xlabel('Iterations')\n",
    "ax1.set_ylabel('Loss')\n",
    "ax1.legend()\n",
    "\n",
    "ax2 = ax1.twiny()\n",
    "newlabel = list(range(NUM_EPOCHS+1))\n",
    "iter_per_epoch = len(train_loader)\n",
    "newpos = [e*iter_per_epoch for e in newlabel]\n",
    "\n",
    "ax2.set_xticklabels(newlabel[::10])\n",
    "ax2.set_xticks(newpos[::10])\n",
    "\n",
    "ax2.xaxis.set_ticks_position('bottom')\n",
    "ax2.xaxis.set_label_position('bottom')\n",
    "ax2.spines['bottom'].set_position(('outward', 45))\n",
    "ax2.set_xlabel('Epochs')\n",
    "ax2.set_xlim(ax1.get_xlim())\n",
    "\n",
    "plt.show()"
   ]
  },
  {
   "cell_type": "code",
   "execution_count": 22,
   "metadata": {},
   "outputs": [
    {
     "data": {
      "text/plain": [
       "GAN(\n",
       "  (generator): Sequential(\n",
       "    (0): Linear(in_features=50, out_features=128, bias=True)\n",
       "    (1): LeakyReLU(negative_slope=0.01, inplace=True)\n",
       "    (2): Linear(in_features=128, out_features=784, bias=True)\n",
       "    (3): Tanh()\n",
       "  )\n",
       "  (discriminator): Sequential(\n",
       "    (0): Linear(in_features=784, out_features=128, bias=True)\n",
       "    (1): LeakyReLU(negative_slope=0.01, inplace=True)\n",
       "    (2): Linear(in_features=128, out_features=1, bias=True)\n",
       "    (3): Sigmoid()\n",
       "  )\n",
       ")"
      ]
     },
     "execution_count": 22,
     "metadata": {},
     "output_type": "execute_result"
    }
   ],
   "source": [
    "model.eval()"
   ]
  },
  {
   "cell_type": "code",
   "execution_count": 23,
   "metadata": {},
   "outputs": [
    {
     "data": {
      "image/png": "[encoded data removed]",
      "text/plain": [
       "<Figure size 2000x250 with 5 Axes>"
      ]
     },
     "metadata": {},
     "output_type": "display_data"
    }
   ],
   "source": [
    "z = torch.zeros((5, LATENT_DIM)).uniform_(-1.0, 1.0).to(device)\n",
    "generated_features = model.generator_forward(z)\n",
    "imgs = generated_features.view(-1, 28, 28)\n",
    "\n",
    "fig, axes = plt.subplots(nrows=1, ncols=5, figsize=(20, 2.5))\n",
    "\n",
    "\n",
    "for i, ax in enumerate(axes):\n",
    "    axes[i].imshow(imgs[i].to(torch.device('cpu')).detach(), cmap='binary')"
   ]
  }
 ],
 "metadata": {
  "kernelspec": {
   "display_name": "base",
   "language": "python",
   "name": "python3"
  },
  "language_info": {
   "codemirror_mode": {
    "name": "ipython",
    "version": 3
   },
   "file_extension": ".py",
   "mimetype": "text/x-python",
   "name": "python",
   "nbconvert_exporter": "python",
   "pygments_lexer": "ipython3",
   "version": "3.11.5"
  },
  "toc": {
   "nav_menu": {},
   "number_sections": true,
   "sideBar": true,
   "skip_h1_title": false,
   "title_cell": "Table of Contents",
   "title_sidebar": "Contents",
   "toc_cell": false,
   "toc_position": {},
   "toc_section_display": true,
   "toc_window_display": false
  }
 },
 "nbformat": 4,
 "nbformat_minor": 4
}
