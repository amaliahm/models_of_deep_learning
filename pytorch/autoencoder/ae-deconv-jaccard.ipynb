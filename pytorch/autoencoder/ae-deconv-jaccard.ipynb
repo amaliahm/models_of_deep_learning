{
 "cells": [
  {
   "cell_type": "markdown",
   "metadata": {},
   "source": [
    "# **Convolutional Autoencoder with Deconvolutions and Continuous Jaccard Distance**"
   ]
  },
  {
   "cell_type": "markdown",
   "metadata": {},
   "source": [
    "## **Libraries**"
   ]
  },
  {
   "cell_type": "code",
   "execution_count": 1,
   "metadata": {},
   "outputs": [],
   "source": [
    "from torch.utils.data import DataLoader\n",
    "from torchvision import transforms\n",
    "from torchvision import datasets\n",
    "import matplotlib.pyplot as plt\n",
    "import torch.nn.functional as F\n",
    "import torch\n",
    "import numpy as np\n",
    "import torch\n",
    "import time"
   ]
  },
  {
   "cell_type": "code",
   "execution_count": 2,
   "metadata": {},
   "outputs": [],
   "source": [
    "if torch.cuda.is_available():\n",
    "    torch.backends.cudnn.deterministic = True"
   ]
  },
  {
   "cell_type": "code",
   "execution_count": 3,
   "metadata": {},
   "outputs": [
    {
     "data": {
      "text/plain": [
       "tensor(0.6275)"
      ]
     },
     "execution_count": 3,
     "metadata": {},
     "output_type": "execute_result"
    }
   ],
   "source": [
    "def continuous_jaccard(x, y):\n",
    "    c = torch.cat((x.view(-1).unsqueeze(1), y.view(-1).unsqueeze(1)), dim=1)\n",
    "    numerator = torch.sum(torch.min(c, dim=1)[0])\n",
    "    denominator = torch.sum(torch.max(c, dim=1)[0])\n",
    "    return 1. - numerator/denominator\n",
    "\n",
    "x = torch.tensor([7, 2, 3, 4, 5, 6]).float()\n",
    "y = torch.tensor([1, 8, 9, 10, 11, 4]).float()\n",
    "\n",
    "continuous_jaccard(x, y)"
   ]
  },
  {
   "cell_type": "markdown",
   "metadata": {},
   "source": [
    "## **Settings**"
   ]
  },
  {
   "cell_type": "code",
   "execution_count": 4,
   "metadata": {},
   "outputs": [],
   "source": [
    "# Device\n",
    "device = torch.device(\"cuda:0\" if torch.cuda.is_available() else \"cpu\")\n",
    "\n",
    "# Hyperparameters\n",
    "random_seed = 456\n",
    "learning_rate = 0.005\n",
    "num_epochs = 10\n",
    "batch_size = 128"
   ]
  },
  {
   "cell_type": "markdown",
   "metadata": {},
   "source": [
    "## **MNIST dataset**"
   ]
  },
  {
   "cell_type": "code",
   "execution_count": 5,
   "metadata": {},
   "outputs": [],
   "source": [
    "train_dataset = datasets.MNIST(root='data', \n",
    "                               train=True, \n",
    "                               transform=transforms.ToTensor(),\n",
    "                               download=True)\n",
    "\n",
    "test_dataset = datasets.MNIST(root='data', \n",
    "                              train=False, \n",
    "                              transform=transforms.ToTensor())"
   ]
  },
  {
   "cell_type": "code",
   "execution_count": 6,
   "metadata": {},
   "outputs": [],
   "source": [
    "train_loader = DataLoader(dataset=train_dataset, \n",
    "                          batch_size=batch_size, \n",
    "                          shuffle=True)\n",
    "\n",
    "test_loader = DataLoader(dataset=test_dataset, \n",
    "                         batch_size=batch_size, \n",
    "                         shuffle=False)"
   ]
  },
  {
   "cell_type": "code",
   "execution_count": 7,
   "metadata": {},
   "outputs": [
    {
     "name": "stdout",
     "output_type": "stream",
     "text": [
      "Image batch dimensions: torch.Size([128, 1, 28, 28])\n",
      "Image label dimensions: torch.Size([128])\n"
     ]
    }
   ],
   "source": [
    "for images, labels in train_loader:  \n",
    "    print('Image batch dimensions:', images.shape)\n",
    "    print('Image label dimensions:', labels.shape)\n",
    "    break"
   ]
  },
  {
   "cell_type": "markdown",
   "metadata": {},
   "source": [
    "## **Model**"
   ]
  },
  {
   "cell_type": "code",
   "execution_count": 8,
   "metadata": {},
   "outputs": [],
   "source": [
    "class ConvolutionalAutoencoder(torch.nn.Module):\n",
    "    def __init__(self):\n",
    "        super(ConvolutionalAutoencoder, self).__init__()\n",
    "        self.conv_1 = torch.nn.Conv2d(in_channels=1,\n",
    "                                      out_channels=4,\n",
    "                                      kernel_size=(3, 3),\n",
    "                                      stride=(1, 1),\n",
    "                                      padding=1) \n",
    "        self.pool_1 = torch.nn.MaxPool2d(kernel_size=(2, 2),\n",
    "                                         stride=(2, 2),\n",
    "                                         padding=0)                                       \n",
    "        self.conv_2 = torch.nn.Conv2d(in_channels=4,\n",
    "                                      out_channels=8,\n",
    "                                      kernel_size=(3, 3),\n",
    "                                      stride=(1, 1),\n",
    "                                      padding=1)                 \n",
    "        self.pool_2 = torch.nn.MaxPool2d(kernel_size=(2, 2),\n",
    "                                         stride=(2, 2),\n",
    "                                         padding=0)\n",
    "        self.deconv_1 = torch.nn.ConvTranspose2d(in_channels=8,\n",
    "                                                 out_channels=4,\n",
    "                                                 kernel_size=(3, 3),\n",
    "                                                 stride=(2, 2),\n",
    "                                                 padding=0)\n",
    "        self.deconv_2 = torch.nn.ConvTranspose2d(in_channels=4,\n",
    "                                                 out_channels=1,\n",
    "                                                 kernel_size=(3, 3),\n",
    "                                                 stride=(2, 2),\n",
    "                                                 padding=0)\n",
    "    def forward(self, x):\n",
    "        x = self.conv_1(x)\n",
    "        x = F.leaky_relu(x)\n",
    "        x = self.pool_1(x)\n",
    "        x = self.conv_2(x)\n",
    "        x = F.leaky_relu(x)\n",
    "        x = self.pool_2(x)\n",
    "        x = self.deconv_1(x)\n",
    "        x = F.leaky_relu(x)\n",
    "        x = self.deconv_2(x)\n",
    "        x = F.leaky_relu(x)\n",
    "        logits = x[:, :, 2:30, 2:30]\n",
    "        probas = torch.sigmoid(logits)\n",
    "        return logits, probas"
   ]
  },
  {
   "cell_type": "code",
   "execution_count": 9,
   "metadata": {},
   "outputs": [],
   "source": [
    "torch.manual_seed(random_seed)\n",
    "model = ConvolutionalAutoencoder()\n",
    "model = model.to(device)"
   ]
  },
  {
   "cell_type": "code",
   "execution_count": 10,
   "metadata": {},
   "outputs": [],
   "source": [
    "optimizer = torch.optim.Adam(model.parameters(), lr=learning_rate)  "
   ]
  },
  {
   "cell_type": "markdown",
   "metadata": {},
   "source": [
    "## **Training phase**"
   ]
  },
  {
   "cell_type": "code",
   "execution_count": 11,
   "metadata": {},
   "outputs": [
    {
     "name": "stdout",
     "output_type": "stream",
     "text": [
      "Epoch: 001/010 | Batch 000/468 | Cost: 0.8569\n",
      "Epoch: 001/010 | Batch 050/468 | Cost: 0.7992\n",
      "Epoch: 001/010 | Batch 100/468 | Cost: 0.7689\n",
      "Epoch: 001/010 | Batch 150/468 | Cost: 0.7073\n",
      "Epoch: 001/010 | Batch 200/468 | Cost: 0.3603\n",
      "Epoch: 001/010 | Batch 250/468 | Cost: 0.2804\n",
      "Epoch: 001/010 | Batch 300/468 | Cost: 0.2691\n",
      "Epoch: 001/010 | Batch 350/468 | Cost: 0.2787\n",
      "Epoch: 001/010 | Batch 400/468 | Cost: 0.2603\n",
      "Epoch: 001/010 | Batch 450/468 | Cost: 0.2604\n",
      "Time elapsed: 0.55 min\n",
      "Epoch: 002/010 | Batch 000/468 | Cost: 0.2480\n",
      "Epoch: 002/010 | Batch 050/468 | Cost: 0.2478\n",
      "Epoch: 002/010 | Batch 100/468 | Cost: 0.2592\n",
      "Epoch: 002/010 | Batch 150/468 | Cost: 0.2509\n",
      "Epoch: 002/010 | Batch 200/468 | Cost: 0.2478\n",
      "Epoch: 002/010 | Batch 250/468 | Cost: 0.2442\n",
      "Epoch: 002/010 | Batch 300/468 | Cost: 0.2348\n",
      "Epoch: 002/010 | Batch 350/468 | Cost: 0.2407\n",
      "Epoch: 002/010 | Batch 400/468 | Cost: 0.2280\n",
      "Epoch: 002/010 | Batch 450/468 | Cost: 0.2378\n",
      "Time elapsed: 1.10 min\n",
      "Epoch: 003/010 | Batch 000/468 | Cost: 0.2526\n",
      "Epoch: 003/010 | Batch 050/468 | Cost: 0.2285\n",
      "Epoch: 003/010 | Batch 100/468 | Cost: 0.2315\n",
      "Epoch: 003/010 | Batch 150/468 | Cost: 0.2434\n",
      "Epoch: 003/010 | Batch 200/468 | Cost: 0.2183\n",
      "Epoch: 003/010 | Batch 250/468 | Cost: 0.2212\n",
      "Epoch: 003/010 | Batch 300/468 | Cost: 0.2209\n",
      "Epoch: 003/010 | Batch 350/468 | Cost: 0.2185\n",
      "Epoch: 003/010 | Batch 400/468 | Cost: 0.2260\n",
      "Epoch: 003/010 | Batch 450/468 | Cost: 0.2226\n",
      "Time elapsed: 1.66 min\n",
      "Epoch: 004/010 | Batch 000/468 | Cost: 0.2154\n",
      "Epoch: 004/010 | Batch 050/468 | Cost: 0.2196\n",
      "Epoch: 004/010 | Batch 100/468 | Cost: 0.2065\n",
      "Epoch: 004/010 | Batch 150/468 | Cost: 0.2119\n",
      "Epoch: 004/010 | Batch 200/468 | Cost: 0.2121\n",
      "Epoch: 004/010 | Batch 250/468 | Cost: 0.2100\n",
      "Epoch: 004/010 | Batch 300/468 | Cost: 0.2154\n",
      "Epoch: 004/010 | Batch 350/468 | Cost: 0.2174\n",
      "Epoch: 004/010 | Batch 400/468 | Cost: 0.2038\n",
      "Epoch: 004/010 | Batch 450/468 | Cost: 0.2136\n",
      "Time elapsed: 2.19 min\n",
      "Epoch: 005/010 | Batch 000/468 | Cost: 0.2074\n",
      "Epoch: 005/010 | Batch 050/468 | Cost: 0.2019\n",
      "Epoch: 005/010 | Batch 100/468 | Cost: 0.2059\n",
      "Epoch: 005/010 | Batch 150/468 | Cost: 0.2085\n",
      "Epoch: 005/010 | Batch 200/468 | Cost: 0.2045\n",
      "Epoch: 005/010 | Batch 250/468 | Cost: 0.2058\n",
      "Epoch: 005/010 | Batch 300/468 | Cost: 0.1960\n",
      "Epoch: 005/010 | Batch 350/468 | Cost: 0.2096\n",
      "Epoch: 005/010 | Batch 400/468 | Cost: 0.2007\n",
      "Epoch: 005/010 | Batch 450/468 | Cost: 0.1957\n",
      "Time elapsed: 2.71 min\n",
      "Epoch: 006/010 | Batch 000/468 | Cost: 0.2147\n",
      "Epoch: 006/010 | Batch 050/468 | Cost: 0.2057\n",
      "Epoch: 006/010 | Batch 100/468 | Cost: 0.2006\n",
      "Epoch: 006/010 | Batch 150/468 | Cost: 0.2071\n",
      "Epoch: 006/010 | Batch 200/468 | Cost: 0.1933\n",
      "Epoch: 006/010 | Batch 250/468 | Cost: 0.2078\n",
      "Epoch: 006/010 | Batch 300/468 | Cost: 0.1975\n",
      "Epoch: 006/010 | Batch 350/468 | Cost: 0.2037\n",
      "Epoch: 006/010 | Batch 400/468 | Cost: 0.1956\n",
      "Epoch: 006/010 | Batch 450/468 | Cost: 0.2008\n",
      "Time elapsed: 3.49 min\n",
      "Epoch: 007/010 | Batch 000/468 | Cost: 0.1970\n",
      "Epoch: 007/010 | Batch 050/468 | Cost: 0.1994\n",
      "Epoch: 007/010 | Batch 100/468 | Cost: 0.1993\n",
      "Epoch: 007/010 | Batch 150/468 | Cost: 0.1974\n",
      "Epoch: 007/010 | Batch 200/468 | Cost: 0.2005\n",
      "Epoch: 007/010 | Batch 250/468 | Cost: 0.1901\n",
      "Epoch: 007/010 | Batch 300/468 | Cost: 0.1979\n",
      "Epoch: 007/010 | Batch 350/468 | Cost: 0.1955\n",
      "Epoch: 007/010 | Batch 400/468 | Cost: 0.1918\n",
      "Epoch: 007/010 | Batch 450/468 | Cost: 0.1948\n",
      "Time elapsed: 4.75 min\n",
      "Epoch: 008/010 | Batch 000/468 | Cost: 0.2024\n",
      "Epoch: 008/010 | Batch 050/468 | Cost: 0.1948\n",
      "Epoch: 008/010 | Batch 100/468 | Cost: 0.1857\n",
      "Epoch: 008/010 | Batch 150/468 | Cost: 0.1871\n",
      "Epoch: 008/010 | Batch 200/468 | Cost: 0.1947\n",
      "Epoch: 008/010 | Batch 250/468 | Cost: 0.1928\n",
      "Epoch: 008/010 | Batch 300/468 | Cost: 0.1914\n",
      "Epoch: 008/010 | Batch 350/468 | Cost: 0.1946\n",
      "Epoch: 008/010 | Batch 400/468 | Cost: 0.1913\n",
      "Epoch: 008/010 | Batch 450/468 | Cost: 0.1923\n",
      "Time elapsed: 5.66 min\n",
      "Epoch: 009/010 | Batch 000/468 | Cost: 0.1936\n",
      "Epoch: 009/010 | Batch 050/468 | Cost: 0.1906\n",
      "Epoch: 009/010 | Batch 100/468 | Cost: 0.1980\n",
      "Epoch: 009/010 | Batch 150/468 | Cost: 0.1925\n",
      "Epoch: 009/010 | Batch 200/468 | Cost: 0.1878\n",
      "Epoch: 009/010 | Batch 250/468 | Cost: 0.1954\n",
      "Epoch: 009/010 | Batch 300/468 | Cost: 0.1904\n",
      "Epoch: 009/010 | Batch 350/468 | Cost: 0.1886\n",
      "Epoch: 009/010 | Batch 400/468 | Cost: 0.1912\n",
      "Epoch: 009/010 | Batch 450/468 | Cost: 0.1862\n",
      "Time elapsed: 6.93 min\n",
      "Epoch: 010/010 | Batch 000/468 | Cost: 0.1903\n",
      "Epoch: 010/010 | Batch 050/468 | Cost: 0.1842\n",
      "Epoch: 010/010 | Batch 100/468 | Cost: 0.1855\n",
      "Epoch: 010/010 | Batch 150/468 | Cost: 0.1856\n",
      "Epoch: 010/010 | Batch 200/468 | Cost: 0.1907\n",
      "Epoch: 010/010 | Batch 250/468 | Cost: 0.1893\n",
      "Epoch: 010/010 | Batch 300/468 | Cost: 0.1869\n",
      "Epoch: 010/010 | Batch 350/468 | Cost: 0.1850\n",
      "Epoch: 010/010 | Batch 400/468 | Cost: 0.1903\n",
      "Epoch: 010/010 | Batch 450/468 | Cost: 0.1790\n",
      "Time elapsed: 8.32 min\n",
      "Total Training Time: 8.32 min\n"
     ]
    }
   ],
   "source": [
    "start_time = time.time()\n",
    "for epoch in range(num_epochs):\n",
    "    for batch_idx, (features, targets) in enumerate(train_loader):\n",
    "        features = features.to(device)\n",
    "        logits, decoded = model(features)\n",
    "        cost = continuous_jaccard(features, decoded)\n",
    "        optimizer.zero_grad()\n",
    "        cost.backward()\n",
    "        optimizer.step()\n",
    "        if not batch_idx % 50:\n",
    "            print ('Epoch: %03d/%03d | Batch %03d/%03d | Cost: %.4f' \n",
    "                   %(epoch+1, num_epochs, batch_idx, \n",
    "                     len(train_dataset)//batch_size, cost))\n",
    "            \n",
    "    print('Time elapsed: %.2f min' % ((time.time() - start_time)/60))\n",
    "    \n",
    "print('Total Training Time: %.2f min' % ((time.time() - start_time)/60))"
   ]
  },
  {
   "cell_type": "markdown",
   "metadata": {},
   "source": [
    "## **Evaluation**"
   ]
  },
  {
   "cell_type": "code",
   "execution_count": 12,
   "metadata": {},
   "outputs": [
    {
     "data": {
      "image/png": "[encoded data removed]",
      "text/plain": [
       "<Figure size 2000x250 with 30 Axes>"
      ]
     },
     "metadata": {},
     "output_type": "display_data"
    }
   ],
   "source": [
    "n_images = 15\n",
    "image_width = 28\n",
    "\n",
    "fig, axes = plt.subplots(nrows=2, ncols=n_images, sharex=True, sharey=True, figsize=(20, 2.5))\n",
    "orig_images = features[:n_images]\n",
    "decoded_images = decoded[:n_images]\n",
    "\n",
    "for i in range(n_images):\n",
    "    for ax, img in zip(axes, [orig_images, decoded_images]):\n",
    "        curr_img = img[i].detach().to(torch.device('cpu'))\n",
    "        ax[i].imshow(curr_img.view((image_width, image_width)), cmap='binary')"
   ]
  }
 ],
 "metadata": {
  "kernelspec": {
   "display_name": "base",
   "language": "python",
   "name": "python3"
  },
  "language_info": {
   "codemirror_mode": {
    "name": "ipython",
    "version": 3
   },
   "file_extension": ".py",
   "mimetype": "text/x-python",
   "name": "python",
   "nbconvert_exporter": "python",
   "pygments_lexer": "ipython3",
   "version": "3.11.5"
  },
  "toc": {
   "nav_menu": {},
   "number_sections": true,
   "sideBar": true,
   "skip_h1_title": false,
   "title_cell": "Table of Contents",
   "title_sidebar": "Contents",
   "toc_cell": false,
   "toc_position": {},
   "toc_section_display": true,
   "toc_window_display": false
  }
 },
 "nbformat": 4,
 "nbformat_minor": 4
}
