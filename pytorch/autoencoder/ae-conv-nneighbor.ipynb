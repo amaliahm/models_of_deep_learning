{
 "cells": [
  {
   "cell_type": "markdown",
   "metadata": {},
   "source": [
    "# **Model Zoo -- Convolutional Autoencoder with Nearest-neighbor Interpolation**"
   ]
  },
  {
   "cell_type": "markdown",
   "metadata": {},
   "source": [
    "## **Libraries**"
   ]
  },
  {
   "cell_type": "code",
   "execution_count": 1,
   "metadata": {},
   "outputs": [],
   "source": [
    "from torch.utils.data import DataLoader\n",
    "from torchvision import transforms\n",
    "from torchvision import datasets\n",
    "import torch.nn.functional as F\n",
    "import matplotlib.pyplot as plt\n",
    "import numpy as np\n",
    "import torch\n",
    "import time"
   ]
  },
  {
   "cell_type": "code",
   "execution_count": 2,
   "metadata": {},
   "outputs": [],
   "source": [
    "if torch.cuda.is_available():\n",
    "    torch.backends.cudnn.deterministic = True"
   ]
  },
  {
   "cell_type": "markdown",
   "metadata": {},
   "source": [
    "## **Settings**"
   ]
  },
  {
   "cell_type": "code",
   "execution_count": 3,
   "metadata": {},
   "outputs": [],
   "source": [
    "# Device\n",
    "device = torch.device(\"cuda:0\" if torch.cuda.is_available() else \"cpu\")\n",
    "\n",
    "# Hyperparameters\n",
    "random_seed = 123\n",
    "learning_rate = 0.05\n",
    "num_epochs = 10\n",
    "batch_size = 128"
   ]
  },
  {
   "cell_type": "markdown",
   "metadata": {},
   "source": [
    "## **MNIST dataset**"
   ]
  },
  {
   "cell_type": "code",
   "execution_count": 4,
   "metadata": {},
   "outputs": [],
   "source": [
    "train_dataset = datasets.MNIST(root='data', \n",
    "                               train=True, \n",
    "                               transform=transforms.ToTensor(),\n",
    "                               download=True)\n",
    "\n",
    "test_dataset = datasets.MNIST(root='data', \n",
    "                              train=False, \n",
    "                              transform=transforms.ToTensor())"
   ]
  },
  {
   "cell_type": "code",
   "execution_count": 5,
   "metadata": {},
   "outputs": [],
   "source": [
    "train_loader = DataLoader(dataset=train_dataset, \n",
    "                          batch_size=batch_size, \n",
    "                          shuffle=True)\n",
    "\n",
    "test_loader = DataLoader(dataset=test_dataset, \n",
    "                         batch_size=batch_size, \n",
    "                         shuffle=False)"
   ]
  },
  {
   "cell_type": "code",
   "execution_count": 6,
   "metadata": {},
   "outputs": [
    {
     "name": "stdout",
     "output_type": "stream",
     "text": [
      "Image batch dimensions: torch.Size([128, 1, 28, 28])\n",
      "Image label dimensions: torch.Size([128])\n"
     ]
    }
   ],
   "source": [
    "for images, labels in train_loader:  \n",
    "    print('Image batch dimensions:', images.shape)\n",
    "    print('Image label dimensions:', labels.shape)\n",
    "    break"
   ]
  },
  {
   "cell_type": "markdown",
   "metadata": {},
   "source": [
    "## **Model**"
   ]
  },
  {
   "cell_type": "code",
   "execution_count": 7,
   "metadata": {},
   "outputs": [],
   "source": [
    "class ConvolutionalAutoencoder(torch.nn.Module):\n",
    "\n",
    "    def __init__(self):\n",
    "        super(ConvolutionalAutoencoder, self).__init__()\n",
    "        self.conv_1 = torch.nn.Conv2d(in_channels=1,\n",
    "                                      out_channels=4,\n",
    "                                      kernel_size=(3, 3),\n",
    "                                      stride=(1, 1),\n",
    "                                      padding=1)\n",
    "        self.pool_1 = torch.nn.MaxPool2d(kernel_size=(2, 2),\n",
    "                                         stride=(2, 2),\n",
    "                                         padding=0)                                       \n",
    "        self.conv_2 = torch.nn.Conv2d(in_channels=4,\n",
    "                                      out_channels=8,\n",
    "                                      kernel_size=(3, 3),\n",
    "                                      stride=(1, 1),\n",
    "                                      padding=1)                 \n",
    "        self.pool_2 = torch.nn.MaxPool2d(kernel_size=(2, 2),\n",
    "                                         stride=(2, 2),\n",
    "                                         padding=0)\n",
    "        \n",
    "        self.conv_3 = torch.nn.Conv2d(in_channels=8,\n",
    "                                      out_channels=4,\n",
    "                                      kernel_size=(3, 3),\n",
    "                                      stride=(1, 1),\n",
    "                                      padding=1)\n",
    "        self.conv_4 = torch.nn.Conv2d(in_channels=4,\n",
    "                                      out_channels=1,\n",
    "                                      kernel_size=(3, 3),\n",
    "                                      stride=(1, 1),\n",
    "                                      padding=1)\n",
    "        \n",
    "    def forward(self, x):\n",
    "        x = self.conv_1(x)\n",
    "        x = F.leaky_relu(x)\n",
    "        x = self.pool_1(x)\n",
    "        x = self.conv_2(x)\n",
    "        x = F.leaky_relu(x)\n",
    "        x = self.pool_2(x)\n",
    "        \n",
    "        x = F.interpolate(x, scale_factor=2, mode='nearest')\n",
    "        x = self.conv_3(x)\n",
    "        x = F.leaky_relu(x)\n",
    "        x = F.interpolate(x, scale_factor=2, mode='nearest')\n",
    "        x = self.conv_4(x)\n",
    "        logits = F.leaky_relu(x)\n",
    "        probas = torch.sigmoid(logits)\n",
    "        return logits, probas"
   ]
  },
  {
   "cell_type": "code",
   "execution_count": 8,
   "metadata": {},
   "outputs": [],
   "source": [
    "torch.manual_seed(random_seed)\n",
    "model = ConvolutionalAutoencoder()\n",
    "model = model.to(device)"
   ]
  },
  {
   "cell_type": "code",
   "execution_count": 9,
   "metadata": {},
   "outputs": [],
   "source": [
    "optimizer = torch.optim.Adam(model.parameters(), lr=learning_rate)  "
   ]
  },
  {
   "cell_type": "markdown",
   "metadata": {},
   "source": [
    "## **Training**"
   ]
  },
  {
   "cell_type": "code",
   "execution_count": 10,
   "metadata": {},
   "outputs": [
    {
     "name": "stdout",
     "output_type": "stream",
     "text": [
      "Epoch: 001/010 | Batch 000/469 | Cost: 0.7008\n",
      "Epoch: 001/010 | Batch 050/469 | Cost: 0.1979\n",
      "Epoch: 001/010 | Batch 100/469 | Cost: 0.1301\n",
      "Epoch: 001/010 | Batch 150/469 | Cost: 0.1137\n",
      "Epoch: 001/010 | Batch 200/469 | Cost: 0.1093\n",
      "Epoch: 001/010 | Batch 250/469 | Cost: 0.1028\n",
      "Epoch: 001/010 | Batch 300/469 | Cost: 0.1022\n",
      "Epoch: 001/010 | Batch 350/469 | Cost: 0.1018\n",
      "Epoch: 001/010 | Batch 400/469 | Cost: 0.1048\n",
      "Epoch: 001/010 | Batch 450/469 | Cost: 0.0972\n",
      "Time elapsed: 1.02 min\n",
      "Epoch: 002/010 | Batch 000/469 | Cost: 0.0958\n",
      "Epoch: 002/010 | Batch 050/469 | Cost: 0.1016\n",
      "Epoch: 002/010 | Batch 100/469 | Cost: 0.0958\n",
      "Epoch: 002/010 | Batch 150/469 | Cost: 0.0965\n",
      "Epoch: 002/010 | Batch 200/469 | Cost: 0.0938\n",
      "Epoch: 002/010 | Batch 250/469 | Cost: 0.0939\n",
      "Epoch: 002/010 | Batch 300/469 | Cost: 0.0951\n",
      "Epoch: 002/010 | Batch 350/469 | Cost: 0.0906\n",
      "Epoch: 002/010 | Batch 400/469 | Cost: 0.0966\n",
      "Epoch: 002/010 | Batch 450/469 | Cost: 0.1073\n",
      "Time elapsed: 2.05 min\n",
      "Epoch: 003/010 | Batch 000/469 | Cost: 0.0972\n",
      "Epoch: 003/010 | Batch 050/469 | Cost: 0.0929\n",
      "Epoch: 003/010 | Batch 100/469 | Cost: 0.0930\n",
      "Epoch: 003/010 | Batch 150/469 | Cost: 0.0931\n",
      "Epoch: 003/010 | Batch 200/469 | Cost: 0.0904\n",
      "Epoch: 003/010 | Batch 250/469 | Cost: 0.0902\n",
      "Epoch: 003/010 | Batch 300/469 | Cost: 0.0970\n",
      "Epoch: 003/010 | Batch 350/469 | Cost: 0.0870\n",
      "Epoch: 003/010 | Batch 400/469 | Cost: 0.0858\n",
      "Epoch: 003/010 | Batch 450/469 | Cost: 0.0930\n",
      "Time elapsed: 3.20 min\n",
      "Epoch: 004/010 | Batch 000/469 | Cost: 0.0911\n",
      "Epoch: 004/010 | Batch 050/469 | Cost: 0.0867\n",
      "Epoch: 004/010 | Batch 100/469 | Cost: 0.0917\n",
      "Epoch: 004/010 | Batch 150/469 | Cost: 0.0860\n",
      "Epoch: 004/010 | Batch 200/469 | Cost: 0.0883\n",
      "Epoch: 004/010 | Batch 250/469 | Cost: 0.0886\n",
      "Epoch: 004/010 | Batch 300/469 | Cost: 0.0915\n",
      "Epoch: 004/010 | Batch 350/469 | Cost: 0.0926\n",
      "Epoch: 004/010 | Batch 400/469 | Cost: 0.0876\n",
      "Epoch: 004/010 | Batch 450/469 | Cost: 0.0904\n",
      "Time elapsed: 4.32 min\n",
      "Epoch: 005/010 | Batch 000/469 | Cost: 0.0858\n",
      "Epoch: 005/010 | Batch 050/469 | Cost: 0.0883\n",
      "Epoch: 005/010 | Batch 100/469 | Cost: 0.0869\n",
      "Epoch: 005/010 | Batch 150/469 | Cost: 0.0915\n",
      "Epoch: 005/010 | Batch 200/469 | Cost: 0.0941\n",
      "Epoch: 005/010 | Batch 250/469 | Cost: 0.0861\n",
      "Epoch: 005/010 | Batch 300/469 | Cost: 0.0889\n",
      "Epoch: 005/010 | Batch 350/469 | Cost: 0.0864\n",
      "Epoch: 005/010 | Batch 400/469 | Cost: 0.0836\n",
      "Epoch: 005/010 | Batch 450/469 | Cost: 0.0859\n",
      "Time elapsed: 5.33 min\n",
      "Epoch: 006/010 | Batch 000/469 | Cost: 0.0898\n",
      "Epoch: 006/010 | Batch 050/469 | Cost: 0.0873\n",
      "Epoch: 006/010 | Batch 100/469 | Cost: 0.0930\n",
      "Epoch: 006/010 | Batch 150/469 | Cost: 0.0870\n",
      "Epoch: 006/010 | Batch 200/469 | Cost: 0.0885\n",
      "Epoch: 006/010 | Batch 250/469 | Cost: 0.0860\n",
      "Epoch: 006/010 | Batch 300/469 | Cost: 0.0904\n",
      "Epoch: 006/010 | Batch 350/469 | Cost: 0.0906\n",
      "Epoch: 006/010 | Batch 400/469 | Cost: 0.0875\n",
      "Epoch: 006/010 | Batch 450/469 | Cost: 0.0905\n",
      "Time elapsed: 6.15 min\n",
      "Epoch: 007/010 | Batch 000/469 | Cost: 0.0894\n",
      "Epoch: 007/010 | Batch 050/469 | Cost: 0.0899\n",
      "Epoch: 007/010 | Batch 100/469 | Cost: 0.0851\n",
      "Epoch: 007/010 | Batch 150/469 | Cost: 0.0913\n",
      "Epoch: 007/010 | Batch 200/469 | Cost: 0.0882\n",
      "Epoch: 007/010 | Batch 250/469 | Cost: 0.0877\n",
      "Epoch: 007/010 | Batch 300/469 | Cost: 0.0846\n",
      "Epoch: 007/010 | Batch 350/469 | Cost: 0.0887\n",
      "Epoch: 007/010 | Batch 400/469 | Cost: 0.0873\n",
      "Epoch: 007/010 | Batch 450/469 | Cost: 0.0909\n",
      "Time elapsed: 6.88 min\n",
      "Epoch: 008/010 | Batch 000/469 | Cost: 0.0861\n",
      "Epoch: 008/010 | Batch 050/469 | Cost: 0.0859\n",
      "Epoch: 008/010 | Batch 100/469 | Cost: 0.0901\n",
      "Epoch: 008/010 | Batch 150/469 | Cost: 0.0877\n",
      "Epoch: 008/010 | Batch 200/469 | Cost: 0.0877\n",
      "Epoch: 008/010 | Batch 250/469 | Cost: 0.0872\n",
      "Epoch: 008/010 | Batch 300/469 | Cost: 0.0896\n",
      "Epoch: 008/010 | Batch 350/469 | Cost: 0.0912\n",
      "Epoch: 008/010 | Batch 400/469 | Cost: 0.0907\n",
      "Epoch: 008/010 | Batch 450/469 | Cost: 0.0887\n",
      "Time elapsed: 7.58 min\n",
      "Epoch: 009/010 | Batch 000/469 | Cost: 0.0869\n",
      "Epoch: 009/010 | Batch 050/469 | Cost: 0.0924\n",
      "Epoch: 009/010 | Batch 100/469 | Cost: 0.0869\n",
      "Epoch: 009/010 | Batch 150/469 | Cost: 0.0828\n",
      "Epoch: 009/010 | Batch 200/469 | Cost: 0.0889\n",
      "Epoch: 009/010 | Batch 250/469 | Cost: 0.0869\n",
      "Epoch: 009/010 | Batch 300/469 | Cost: 0.0867\n",
      "Epoch: 009/010 | Batch 350/469 | Cost: 0.0864\n",
      "Epoch: 009/010 | Batch 400/469 | Cost: 0.0869\n",
      "Epoch: 009/010 | Batch 450/469 | Cost: 0.0828\n",
      "Time elapsed: 8.27 min\n",
      "Epoch: 010/010 | Batch 000/469 | Cost: 0.0879\n",
      "Epoch: 010/010 | Batch 050/469 | Cost: 0.0851\n",
      "Epoch: 010/010 | Batch 100/469 | Cost: 0.0851\n",
      "Epoch: 010/010 | Batch 150/469 | Cost: 0.0947\n",
      "Epoch: 010/010 | Batch 200/469 | Cost: 0.0876\n",
      "Epoch: 010/010 | Batch 250/469 | Cost: 0.0874\n",
      "Epoch: 010/010 | Batch 300/469 | Cost: 0.0855\n",
      "Epoch: 010/010 | Batch 350/469 | Cost: 0.0838\n",
      "Epoch: 010/010 | Batch 400/469 | Cost: 0.0846\n",
      "Epoch: 010/010 | Batch 450/469 | Cost: 0.0901\n",
      "Time elapsed: 8.98 min\n",
      "Total Training Time: 8.98 min\n"
     ]
    }
   ],
   "source": [
    "start_time = time.time()\n",
    "for epoch in range(num_epochs):\n",
    "    for batch_idx, (features, targets) in enumerate(train_loader):\n",
    "        features = features.to(device)\n",
    "\n",
    "        logits, decoded = model(features)\n",
    "        cost = F.binary_cross_entropy_with_logits(logits, features)\n",
    "        optimizer.zero_grad()\n",
    "        \n",
    "        cost.backward()\n",
    "        optimizer.step()\n",
    "        \n",
    "        if not batch_idx % 50:\n",
    "            print ('Epoch: %03d/%03d | Batch %03d/%03d | Cost: %.4f' \n",
    "                   %(epoch+1, num_epochs, batch_idx, \n",
    "                     len(train_loader), cost))\n",
    "            \n",
    "    print('Time elapsed: %.2f min' % ((time.time() - start_time)/60))\n",
    "    \n",
    "print('Total Training Time: %.2f min' % ((time.time() - start_time)/60))"
   ]
  },
  {
   "cell_type": "markdown",
   "metadata": {},
   "source": [
    "## **Evaluation**"
   ]
  },
  {
   "cell_type": "code",
   "execution_count": 11,
   "metadata": {},
   "outputs": [
    {
     "data": {
      "image/png": "[encoded data removed]",
      "text/plain": [
       "<Figure size 2000x250 with 30 Axes>"
      ]
     },
     "metadata": {},
     "output_type": "display_data"
    }
   ],
   "source": [
    "n_images = 15\n",
    "image_width = 28\n",
    "\n",
    "fig, axes = plt.subplots(nrows=2, ncols=n_images, \n",
    "                         sharex=True, sharey=True, figsize=(20, 2.5))\n",
    "orig_images = features[:n_images]\n",
    "decoded_images = decoded[:n_images]\n",
    "\n",
    "for i in range(n_images):\n",
    "    for ax, img in zip(axes, [orig_images, decoded_images]):\n",
    "        curr_img = img[i].detach().to(torch.device('cpu'))\n",
    "        ax[i].imshow(curr_img.view((image_width, image_width)), cmap='binary')"
   ]
  }
 ],
 "metadata": {
  "kernelspec": {
   "display_name": "base",
   "language": "python",
   "name": "python3"
  },
  "language_info": {
   "codemirror_mode": {
    "name": "ipython",
    "version": 3
   },
   "file_extension": ".py",
   "mimetype": "text/x-python",
   "name": "python",
   "nbconvert_exporter": "python",
   "pygments_lexer": "ipython3",
   "version": "3.11.5"
  },
  "toc": {
   "nav_menu": {},
   "number_sections": true,
   "sideBar": true,
   "skip_h1_title": false,
   "title_cell": "Table of Contents",
   "title_sidebar": "Contents",
   "toc_cell": false,
   "toc_position": {},
   "toc_section_display": true,
   "toc_window_display": false
  }
 },
 "nbformat": 4,
 "nbformat_minor": 2
}
