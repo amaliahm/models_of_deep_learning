{
 "cells": [
  {
   "cell_type": "markdown",
   "metadata": {},
   "source": [
    "# **Convolutional Neural Network with He Initialization**"
   ]
  },
  {
   "cell_type": "markdown",
   "metadata": {},
   "source": [
    "## **Libraries**"
   ]
  },
  {
   "cell_type": "code",
   "execution_count": 1,
   "metadata": {},
   "outputs": [],
   "source": [
    "from torch.utils.data import DataLoader\n",
    "from torchvision import transforms\n",
    "from torchvision import datasets\n",
    "import torch.nn.functional as F\n",
    "import torch.nn as nn\n",
    "import numpy as np\n",
    "import torch\n",
    "import time"
   ]
  },
  {
   "cell_type": "code",
   "execution_count": 2,
   "metadata": {},
   "outputs": [],
   "source": [
    "if torch.cuda.is_available():\n",
    "    torch.backends.cudnn.deterministic = True"
   ]
  },
  {
   "cell_type": "markdown",
   "metadata": {},
   "source": [
    "## **Settings**"
   ]
  },
  {
   "cell_type": "code",
   "execution_count": 3,
   "metadata": {},
   "outputs": [],
   "source": [
    "device = torch.device(\"cuda:2\" if torch.cuda.is_available() else \"cpu\")"
   ]
  },
  {
   "cell_type": "code",
   "execution_count": 4,
   "metadata": {},
   "outputs": [],
   "source": [
    "random_seed = 1\n",
    "learning_rate = 0.05\n",
    "num_epochs = 10\n",
    "batch_size = 128"
   ]
  },
  {
   "cell_type": "code",
   "execution_count": 5,
   "metadata": {},
   "outputs": [],
   "source": [
    "num_classes = 10"
   ]
  },
  {
   "cell_type": "markdown",
   "metadata": {},
   "source": [
    "## **MNIST dataset**"
   ]
  },
  {
   "cell_type": "code",
   "execution_count": 6,
   "metadata": {},
   "outputs": [],
   "source": [
    "train_dataset = datasets.MNIST(root='data', train=True, transform=transforms.ToTensor(), download=True)\n",
    "test_dataset = datasets.MNIST(root='data', train=False, transform=transforms.ToTensor())"
   ]
  },
  {
   "cell_type": "code",
   "execution_count": 7,
   "metadata": {},
   "outputs": [],
   "source": [
    "train_loader = DataLoader(dataset=train_dataset, batch_size=batch_size, shuffle=True)\n",
    "test_loader = DataLoader(dataset=test_dataset, batch_size=batch_size, shuffle=False)"
   ]
  },
  {
   "cell_type": "code",
   "execution_count": 8,
   "metadata": {},
   "outputs": [
    {
     "name": "stdout",
     "output_type": "stream",
     "text": [
      "Image batch dimensions: torch.Size([128, 1, 28, 28])\n",
      "Image label dimensions: torch.Size([128])\n"
     ]
    }
   ],
   "source": [
    "for images, labels in train_loader:  \n",
    "    print('Image batch dimensions:', images.shape)\n",
    "    print('Image label dimensions:', labels.shape)\n",
    "    break"
   ]
  },
  {
   "cell_type": "markdown",
   "metadata": {},
   "source": [
    "## **Model**"
   ]
  },
  {
   "cell_type": "code",
   "execution_count": 9,
   "metadata": {},
   "outputs": [],
   "source": [
    "class ConvNet(torch.nn.Module):\n",
    "\n",
    "    def __init__(self, num_classes):\n",
    "        super(ConvNet, self).__init__()\n",
    "\n",
    "        self.conv_1 = torch.nn.Conv2d(in_channels=1, out_channels=4, kernel_size=(3, 3), stride=(1, 1), padding=1) \n",
    "        self.pool_1 = torch.nn.MaxPool2d(kernel_size=(2, 2), stride=(2, 2), padding=0)                                     \n",
    "        self.conv_2 = torch.nn.Conv2d(in_channels=4, out_channels=8, kernel_size=(3, 3), stride=(1, 1), padding=1)               \n",
    "        self.pool_2 = torch.nn.MaxPool2d(kernel_size=(2, 2), stride=(2, 2), padding=0) \n",
    "        \n",
    "        self.linear_1 = torch.nn.Linear(7*7*8, num_classes)\n",
    "        \n",
    "        for m in self.modules():\n",
    "            if isinstance(m, torch.nn.Conv2d):\n",
    "                nn.init.kaiming_normal_(m.weight.detach())\n",
    "                m.bias.detach().zero_()\n",
    "            elif isinstance(m, torch.nn.Linear):\n",
    "                nn.init.kaiming_normal_(m.weight.detach())\n",
    "                m.bias.detach().zero_()\n",
    "        \n",
    "    def forward(self, x):\n",
    "        out = self.conv_1(x)\n",
    "        out = F.relu(out)\n",
    "        out = self.pool_1(out)\n",
    "\n",
    "        out = self.conv_2(out)\n",
    "        out = F.relu(out)\n",
    "        out = self.pool_2(out)\n",
    "        \n",
    "        logits = self.linear_1(out.view(-1, 7*7*8))\n",
    "        probas = F.softmax(logits, dim=1)\n",
    "        return logits, probas"
   ]
  },
  {
   "cell_type": "code",
   "execution_count": 10,
   "metadata": {},
   "outputs": [],
   "source": [
    "torch.manual_seed(random_seed)\n",
    "model = ConvNet(num_classes=num_classes)"
   ]
  },
  {
   "cell_type": "code",
   "execution_count": 11,
   "metadata": {},
   "outputs": [],
   "source": [
    "model = model.to(device)"
   ]
  },
  {
   "cell_type": "code",
   "execution_count": 12,
   "metadata": {},
   "outputs": [],
   "source": [
    "optimizer = torch.optim.SGD(model.parameters(), lr=learning_rate)  "
   ]
  },
  {
   "cell_type": "markdown",
   "metadata": {},
   "source": [
    "## **Training phase**"
   ]
  },
  {
   "cell_type": "code",
   "execution_count": 13,
   "metadata": {},
   "outputs": [],
   "source": [
    "def compute_accuracy(model, data_loader):\n",
    "    correct_pred, num_examples = 0, 0\n",
    "    for features, targets in data_loader:\n",
    "        features = features.to(device)\n",
    "        targets = targets.to(device)\n",
    "        logits, probas = model(features)\n",
    "        _, predicted_labels = torch.max(probas, 1)\n",
    "        num_examples += targets.size(0)\n",
    "        correct_pred += (predicted_labels == targets).sum()\n",
    "    return correct_pred.float()/num_examples * 100"
   ]
  },
  {
   "cell_type": "code",
   "execution_count": 14,
   "metadata": {},
   "outputs": [
    {
     "name": "stdout",
     "output_type": "stream",
     "text": [
      "Epoch: 001/010 | Batch 000/469 | Cost: 2.4756\n",
      "Epoch: 001/010 | Batch 050/469 | Cost: 1.1250\n",
      "Epoch: 001/010 | Batch 100/469 | Cost: 0.7643\n",
      "Epoch: 001/010 | Batch 150/469 | Cost: 0.3317\n",
      "Epoch: 001/010 | Batch 200/469 | Cost: 0.4457\n",
      "Epoch: 001/010 | Batch 250/469 | Cost: 0.3704\n",
      "Epoch: 001/010 | Batch 300/469 | Cost: 0.2474\n",
      "Epoch: 001/010 | Batch 350/469 | Cost: 0.2565\n",
      "Epoch: 001/010 | Batch 400/469 | Cost: 0.1950\n",
      "Epoch: 001/010 | Batch 450/469 | Cost: 0.2041\n",
      "Epoch: 001/010 training accuracy: 91.97%\n",
      "Time elapsed: 0.65 min\n",
      "Epoch: 002/010 | Batch 000/469 | Cost: 0.2103\n",
      "Epoch: 002/010 | Batch 050/469 | Cost: 0.2953\n",
      "Epoch: 002/010 | Batch 100/469 | Cost: 0.1641\n",
      "Epoch: 002/010 | Batch 150/469 | Cost: 0.1440\n",
      "Epoch: 002/010 | Batch 200/469 | Cost: 0.3375\n",
      "Epoch: 002/010 | Batch 250/469 | Cost: 0.1977\n",
      "Epoch: 002/010 | Batch 300/469 | Cost: 0.2105\n",
      "Epoch: 002/010 | Batch 350/469 | Cost: 0.2004\n",
      "Epoch: 002/010 | Batch 400/469 | Cost: 0.1767\n",
      "Epoch: 002/010 | Batch 450/469 | Cost: 0.1120\n",
      "Epoch: 002/010 training accuracy: 94.99%\n",
      "Time elapsed: 1.26 min\n",
      "Epoch: 003/010 | Batch 000/469 | Cost: 0.0720\n",
      "Epoch: 003/010 | Batch 050/469 | Cost: 0.1079\n",
      "Epoch: 003/010 | Batch 100/469 | Cost: 0.1426\n",
      "Epoch: 003/010 | Batch 150/469 | Cost: 0.1607\n",
      "Epoch: 003/010 | Batch 200/469 | Cost: 0.0337\n",
      "Epoch: 003/010 | Batch 250/469 | Cost: 0.2033\n",
      "Epoch: 003/010 | Batch 300/469 | Cost: 0.0857\n",
      "Epoch: 003/010 | Batch 350/469 | Cost: 0.0889\n",
      "Epoch: 003/010 | Batch 400/469 | Cost: 0.1663\n",
      "Epoch: 003/010 | Batch 450/469 | Cost: 0.0579\n",
      "Epoch: 003/010 training accuracy: 96.01%\n",
      "Time elapsed: 1.90 min\n",
      "Epoch: 004/010 | Batch 000/469 | Cost: 0.1650\n",
      "Epoch: 004/010 | Batch 050/469 | Cost: 0.0994\n",
      "Epoch: 004/010 | Batch 100/469 | Cost: 0.1702\n",
      "Epoch: 004/010 | Batch 150/469 | Cost: 0.0957\n",
      "Epoch: 004/010 | Batch 200/469 | Cost: 0.1077\n",
      "Epoch: 004/010 | Batch 250/469 | Cost: 0.1015\n",
      "Epoch: 004/010 | Batch 300/469 | Cost: 0.0897\n",
      "Epoch: 004/010 | Batch 350/469 | Cost: 0.0585\n",
      "Epoch: 004/010 | Batch 400/469 | Cost: 0.1449\n",
      "Epoch: 004/010 | Batch 450/469 | Cost: 0.0835\n",
      "Epoch: 004/010 training accuracy: 96.71%\n",
      "Time elapsed: 2.52 min\n",
      "Epoch: 005/010 | Batch 000/469 | Cost: 0.1217\n",
      "Epoch: 005/010 | Batch 050/469 | Cost: 0.1126\n",
      "Epoch: 005/010 | Batch 100/469 | Cost: 0.0728\n",
      "Epoch: 005/010 | Batch 150/469 | Cost: 0.1413\n",
      "Epoch: 005/010 | Batch 200/469 | Cost: 0.1229\n",
      "Epoch: 005/010 | Batch 250/469 | Cost: 0.0296\n",
      "Epoch: 005/010 | Batch 300/469 | Cost: 0.2352\n",
      "Epoch: 005/010 | Batch 350/469 | Cost: 0.0968\n",
      "Epoch: 005/010 | Batch 400/469 | Cost: 0.1329\n",
      "Epoch: 005/010 | Batch 450/469 | Cost: 0.1076\n",
      "Epoch: 005/010 training accuracy: 97.11%\n",
      "Time elapsed: 3.13 min\n",
      "Epoch: 006/010 | Batch 000/469 | Cost: 0.0513\n",
      "Epoch: 006/010 | Batch 050/469 | Cost: 0.0490\n",
      "Epoch: 006/010 | Batch 100/469 | Cost: 0.0892\n",
      "Epoch: 006/010 | Batch 150/469 | Cost: 0.0813\n",
      "Epoch: 006/010 | Batch 200/469 | Cost: 0.1064\n",
      "Epoch: 006/010 | Batch 250/469 | Cost: 0.1158\n",
      "Epoch: 006/010 | Batch 300/469 | Cost: 0.1097\n",
      "Epoch: 006/010 | Batch 350/469 | Cost: 0.1072\n",
      "Epoch: 006/010 | Batch 400/469 | Cost: 0.0204\n",
      "Epoch: 006/010 | Batch 450/469 | Cost: 0.0365\n",
      "Epoch: 006/010 training accuracy: 97.35%\n",
      "Time elapsed: 3.74 min\n",
      "Epoch: 007/010 | Batch 000/469 | Cost: 0.0693\n",
      "Epoch: 007/010 | Batch 050/469 | Cost: 0.1001\n",
      "Epoch: 007/010 | Batch 100/469 | Cost: 0.0689\n",
      "Epoch: 007/010 | Batch 150/469 | Cost: 0.0554\n",
      "Epoch: 007/010 | Batch 200/469 | Cost: 0.1091\n",
      "Epoch: 007/010 | Batch 250/469 | Cost: 0.1027\n",
      "Epoch: 007/010 | Batch 300/469 | Cost: 0.1042\n",
      "Epoch: 007/010 | Batch 350/469 | Cost: 0.1803\n",
      "Epoch: 007/010 | Batch 400/469 | Cost: 0.1008\n",
      "Epoch: 007/010 | Batch 450/469 | Cost: 0.0789\n",
      "Epoch: 007/010 training accuracy: 97.68%\n",
      "Time elapsed: 4.33 min\n",
      "Epoch: 008/010 | Batch 000/469 | Cost: 0.1318\n",
      "Epoch: 008/010 | Batch 050/469 | Cost: 0.0339\n",
      "Epoch: 008/010 | Batch 100/469 | Cost: 0.0364\n",
      "Epoch: 008/010 | Batch 150/469 | Cost: 0.0833\n",
      "Epoch: 008/010 | Batch 200/469 | Cost: 0.1061\n",
      "Epoch: 008/010 | Batch 250/469 | Cost: 0.1225\n",
      "Epoch: 008/010 | Batch 300/469 | Cost: 0.0557\n",
      "Epoch: 008/010 | Batch 350/469 | Cost: 0.0513\n",
      "Epoch: 008/010 | Batch 400/469 | Cost: 0.1361\n",
      "Epoch: 008/010 | Batch 450/469 | Cost: 0.0440\n",
      "Epoch: 008/010 training accuracy: 97.73%\n",
      "Time elapsed: 4.93 min\n",
      "Epoch: 009/010 | Batch 000/469 | Cost: 0.0742\n",
      "Epoch: 009/010 | Batch 050/469 | Cost: 0.0975\n",
      "Epoch: 009/010 | Batch 100/469 | Cost: 0.1366\n",
      "Epoch: 009/010 | Batch 150/469 | Cost: 0.0250\n",
      "Epoch: 009/010 | Batch 200/469 | Cost: 0.0575\n",
      "Epoch: 009/010 | Batch 250/469 | Cost: 0.0791\n",
      "Epoch: 009/010 | Batch 300/469 | Cost: 0.0562\n",
      "Epoch: 009/010 | Batch 350/469 | Cost: 0.0848\n",
      "Epoch: 009/010 | Batch 400/469 | Cost: 0.0471\n",
      "Epoch: 009/010 | Batch 450/469 | Cost: 0.0589\n",
      "Epoch: 009/010 training accuracy: 97.78%\n",
      "Time elapsed: 5.52 min\n",
      "Epoch: 010/010 | Batch 000/469 | Cost: 0.0732\n",
      "Epoch: 010/010 | Batch 050/469 | Cost: 0.0221\n",
      "Epoch: 010/010 | Batch 100/469 | Cost: 0.0670\n",
      "Epoch: 010/010 | Batch 150/469 | Cost: 0.0662\n",
      "Epoch: 010/010 | Batch 200/469 | Cost: 0.1246\n",
      "Epoch: 010/010 | Batch 250/469 | Cost: 0.0725\n",
      "Epoch: 010/010 | Batch 300/469 | Cost: 0.0349\n",
      "Epoch: 010/010 | Batch 350/469 | Cost: 0.0519\n",
      "Epoch: 010/010 | Batch 400/469 | Cost: 0.0815\n",
      "Epoch: 010/010 | Batch 450/469 | Cost: 0.0700\n",
      "Epoch: 010/010 training accuracy: 98.06%\n",
      "Time elapsed: 6.14 min\n"
     ]
    }
   ],
   "source": [
    "start_time = time.time()\n",
    "for epoch in range(num_epochs):\n",
    "    model = model.train()\n",
    "    for batch_idx, (features, targets) in enumerate(train_loader):\n",
    "        \n",
    "        features = features.to(device)\n",
    "        targets = targets.to(device)\n",
    "\n",
    "        logits, probas = model(features)\n",
    "        cost = F.cross_entropy(logits, targets)\n",
    "        optimizer.zero_grad()\n",
    "        \n",
    "        cost.backward()\n",
    "        optimizer.step()\n",
    "        if not batch_idx % 50:\n",
    "            print ('Epoch: %03d/%03d | Batch %03d/%03d | Cost: %.4f' \n",
    "                   %(epoch+1, num_epochs, batch_idx, \n",
    "                     len(train_loader), cost))\n",
    "    \n",
    "    model = model.eval()\n",
    "    print('Epoch: %03d/%03d training accuracy: %.2f%%' % (\n",
    "          epoch+1, num_epochs, \n",
    "          compute_accuracy(model, train_loader)))\n",
    "    \n",
    "    print('Time elapsed: %.2f min' % ((time.time() - start_time)/60))"
   ]
  },
  {
   "cell_type": "code",
   "execution_count": 15,
   "metadata": {},
   "outputs": [
    {
     "name": "stdout",
     "output_type": "stream",
     "text": [
      "Total Training Time: 6.14 min\n"
     ]
    }
   ],
   "source": [
    "print('Total Training Time: %.2f min' % ((time.time() - start_time)/60))"
   ]
  },
  {
   "cell_type": "markdown",
   "metadata": {},
   "source": [
    "## **Evaluation**"
   ]
  },
  {
   "cell_type": "code",
   "execution_count": 16,
   "metadata": {},
   "outputs": [
    {
     "name": "stdout",
     "output_type": "stream",
     "text": [
      "Test accuracy: 97.91%\n"
     ]
    }
   ],
   "source": [
    "print('Test accuracy: %.2f%%' % (compute_accuracy(model, test_loader)))"
   ]
  }
 ],
 "metadata": {
  "kernelspec": {
   "display_name": "base",
   "language": "python",
   "name": "python3"
  },
  "language_info": {
   "codemirror_mode": {
    "name": "ipython",
    "version": 3
   },
   "file_extension": ".py",
   "mimetype": "text/x-python",
   "name": "python",
   "nbconvert_exporter": "python",
   "pygments_lexer": "ipython3",
   "version": "3.11.5"
  },
  "toc": {
   "nav_menu": {},
   "number_sections": true,
   "sideBar": true,
   "skip_h1_title": false,
   "title_cell": "Table of Contents",
   "title_sidebar": "Contents",
   "toc_cell": false,
   "toc_position": {},
   "toc_section_display": true,
   "toc_window_display": false
  }
 },
 "nbformat": 4,
 "nbformat_minor": 4
}
